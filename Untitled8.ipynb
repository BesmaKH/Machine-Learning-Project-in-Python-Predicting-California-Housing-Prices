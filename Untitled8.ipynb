{
  "nbformat": 4,
  "nbformat_minor": 0,
  "metadata": {
    "colab": {
      "provenance": [],
      "authorship_tag": "ABX9TyPlmIAcJJOr69sILIpPu078",
      "include_colab_link": true
    },
    "kernelspec": {
      "name": "python3",
      "display_name": "Python 3"
    },
    "language_info": {
      "name": "python"
    }
  },
  "cells": [
    {
      "cell_type": "markdown",
      "metadata": {
        "id": "view-in-github",
        "colab_type": "text"
      },
      "source": [
        "<a href=\"https://colab.research.google.com/github/BesmaKH/Machine-Learning-Project-in-Python-Predicting-California-Housing-Prices/blob/main/Untitled8.ipynb\" target=\"_parent\"><img src=\"https://colab.research.google.com/assets/colab-badge.svg\" alt=\"Open In Colab\"/></a>"
      ]
    },
    {
      "cell_type": "code",
      "execution_count": null,
      "metadata": {
        "id": "LpPYctqyXzPU"
      },
      "outputs": [],
      "source": []
    },
    {
      "cell_type": "markdown",
      "source": [
        "# Nouvelle section"
      ],
      "metadata": {
        "id": "L6RbvHTZj2_-"
      }
    },
    {
      "cell_type": "markdown",
      "source": [
        "# Nouvelle section"
      ],
      "metadata": {
        "id": "_rQ6tpc4j3ja"
      }
    },
    {
      "cell_type": "code",
      "source": [
        "!mkdir ~/.kaggle\n",
        "!cp kaggle.json ~/.kaggle/\n",
        "!chmod 600 ~/.kaggle/kaggle.json\n",
        "!kaggle datasets download -d camnugent/california-housing-prices\n"
      ],
      "metadata": {
        "id": "JPKalCR3kMW2",
        "outputId": "743ceb80-af96-4a58-9dd2-da053e6b0cb2",
        "colab": {
          "base_uri": "https://localhost:8080/"
        }
      },
      "execution_count": 3,
      "outputs": [
        {
          "output_type": "stream",
          "name": "stdout",
          "text": [
            "Downloading california-housing-prices.zip to /content\n",
            "\r  0% 0.00/400k [00:00<?, ?B/s]\n",
            "\r100% 400k/400k [00:00<00:00, 122MB/s]\n"
          ]
        }
      ]
    },
    {
      "cell_type": "code",
      "source": [
        "!unzip california-housing-prices.zip\n"
      ],
      "metadata": {
        "colab": {
          "base_uri": "https://localhost:8080/"
        },
        "id": "x5adoDMtmInr",
        "outputId": "6d61eb5e-8f46-47e3-9d8a-b7af50069e6b"
      },
      "execution_count": 4,
      "outputs": [
        {
          "output_type": "stream",
          "name": "stdout",
          "text": [
            "Archive:  california-housing-prices.zip\n",
            "  inflating: housing.csv             \n"
          ]
        }
      ]
    },
    {
      "cell_type": "code",
      "source": [
        "import pandas as pd\n",
        "housing_pd=pd.read_csv('housing.csv')\n",
        "housing_pd.head\n"
      ],
      "metadata": {
        "colab": {
          "base_uri": "https://localhost:8080/"
        },
        "id": "fty_P3PhmQ64",
        "outputId": "4af31c3c-3ae6-4117-ad81-1ac893b1c3dd"
      },
      "execution_count": 5,
      "outputs": [
        {
          "output_type": "execute_result",
          "data": {
            "text/plain": [
              "<bound method NDFrame.head of        longitude  latitude  housing_median_age  total_rooms  total_bedrooms  \\\n",
              "0        -122.23     37.88                41.0        880.0           129.0   \n",
              "1        -122.22     37.86                21.0       7099.0          1106.0   \n",
              "2        -122.24     37.85                52.0       1467.0           190.0   \n",
              "3        -122.25     37.85                52.0       1274.0           235.0   \n",
              "4        -122.25     37.85                52.0       1627.0           280.0   \n",
              "...          ...       ...                 ...          ...             ...   \n",
              "20635    -121.09     39.48                25.0       1665.0           374.0   \n",
              "20636    -121.21     39.49                18.0        697.0           150.0   \n",
              "20637    -121.22     39.43                17.0       2254.0           485.0   \n",
              "20638    -121.32     39.43                18.0       1860.0           409.0   \n",
              "20639    -121.24     39.37                16.0       2785.0           616.0   \n",
              "\n",
              "       population  households  median_income  median_house_value  \\\n",
              "0           322.0       126.0         8.3252            452600.0   \n",
              "1          2401.0      1138.0         8.3014            358500.0   \n",
              "2           496.0       177.0         7.2574            352100.0   \n",
              "3           558.0       219.0         5.6431            341300.0   \n",
              "4           565.0       259.0         3.8462            342200.0   \n",
              "...           ...         ...            ...                 ...   \n",
              "20635       845.0       330.0         1.5603             78100.0   \n",
              "20636       356.0       114.0         2.5568             77100.0   \n",
              "20637      1007.0       433.0         1.7000             92300.0   \n",
              "20638       741.0       349.0         1.8672             84700.0   \n",
              "20639      1387.0       530.0         2.3886             89400.0   \n",
              "\n",
              "      ocean_proximity  \n",
              "0            NEAR BAY  \n",
              "1            NEAR BAY  \n",
              "2            NEAR BAY  \n",
              "3            NEAR BAY  \n",
              "4            NEAR BAY  \n",
              "...               ...  \n",
              "20635          INLAND  \n",
              "20636          INLAND  \n",
              "20637          INLAND  \n",
              "20638          INLAND  \n",
              "20639          INLAND  \n",
              "\n",
              "[20640 rows x 10 columns]>"
            ]
          },
          "metadata": {},
          "execution_count": 5
        }
      ]
    },
    {
      "cell_type": "code",
      "source": [
        "housing_pd_shuffled=housing_pd.sample(n=len(housing_pd),random_state=1)\n",
        "housing_pd_shuffled"
      ],
      "metadata": {
        "colab": {
          "base_uri": "https://localhost:8080/",
          "height": 423
        },
        "id": "s-xN7uBSo6tr",
        "outputId": "526d3b15-3cb1-4e67-f4aa-224df38aa853"
      },
      "execution_count": 6,
      "outputs": [
        {
          "output_type": "execute_result",
          "data": {
            "text/plain": [
              "       longitude  latitude  housing_median_age  total_rooms  total_bedrooms  \\\n",
              "4712     -118.36     34.06                39.0       2810.0           670.0   \n",
              "2151     -119.78     36.78                37.0       2185.0           455.0   \n",
              "15927    -122.42     37.73                46.0       1819.0           411.0   \n",
              "82       -122.28     37.81                52.0        340.0            97.0   \n",
              "8161     -118.13     33.82                37.0       1530.0           290.0   \n",
              "...          ...       ...                 ...          ...             ...   \n",
              "10955    -117.88     33.76                17.0       1768.0           474.0   \n",
              "17289    -119.63     34.42                42.0       1765.0           263.0   \n",
              "5192     -118.26     33.93                42.0       1433.0           295.0   \n",
              "12172    -117.16     33.73                10.0       2381.0           454.0   \n",
              "235      -122.20     37.79                35.0       1802.0           459.0   \n",
              "\n",
              "       population  households  median_income  median_house_value  \\\n",
              "4712       1109.0       624.0         3.2500            355000.0   \n",
              "2151       1143.0       438.0         1.9784             70700.0   \n",
              "15927      1534.0       406.0         4.0132            229400.0   \n",
              "82          200.0        87.0         1.5208            112500.0   \n",
              "8161        711.0       283.0         5.1795            225400.0   \n",
              "...           ...         ...            ...                 ...   \n",
              "10955      1079.0       436.0         1.7823            205300.0   \n",
              "17289       753.0       260.0         8.5608            500001.0   \n",
              "5192        775.0       293.0         1.1326            104800.0   \n",
              "12172      1323.0       477.0         2.6322            140700.0   \n",
              "235        1009.0       390.0         2.3036            126000.0   \n",
              "\n",
              "      ocean_proximity  \n",
              "4712        <1H OCEAN  \n",
              "2151           INLAND  \n",
              "15927        NEAR BAY  \n",
              "82           NEAR BAY  \n",
              "8161        <1H OCEAN  \n",
              "...               ...  \n",
              "10955       <1H OCEAN  \n",
              "17289       <1H OCEAN  \n",
              "5192        <1H OCEAN  \n",
              "12172          INLAND  \n",
              "235          NEAR BAY  \n",
              "\n",
              "[20640 rows x 10 columns]"
            ],
            "text/html": [
              "\n",
              "  <div id=\"df-1b57efb5-bbe7-4609-813e-409e9205e4fc\">\n",
              "    <div class=\"colab-df-container\">\n",
              "      <div>\n",
              "<style scoped>\n",
              "    .dataframe tbody tr th:only-of-type {\n",
              "        vertical-align: middle;\n",
              "    }\n",
              "\n",
              "    .dataframe tbody tr th {\n",
              "        vertical-align: top;\n",
              "    }\n",
              "\n",
              "    .dataframe thead th {\n",
              "        text-align: right;\n",
              "    }\n",
              "</style>\n",
              "<table border=\"1\" class=\"dataframe\">\n",
              "  <thead>\n",
              "    <tr style=\"text-align: right;\">\n",
              "      <th></th>\n",
              "      <th>longitude</th>\n",
              "      <th>latitude</th>\n",
              "      <th>housing_median_age</th>\n",
              "      <th>total_rooms</th>\n",
              "      <th>total_bedrooms</th>\n",
              "      <th>population</th>\n",
              "      <th>households</th>\n",
              "      <th>median_income</th>\n",
              "      <th>median_house_value</th>\n",
              "      <th>ocean_proximity</th>\n",
              "    </tr>\n",
              "  </thead>\n",
              "  <tbody>\n",
              "    <tr>\n",
              "      <th>4712</th>\n",
              "      <td>-118.36</td>\n",
              "      <td>34.06</td>\n",
              "      <td>39.0</td>\n",
              "      <td>2810.0</td>\n",
              "      <td>670.0</td>\n",
              "      <td>1109.0</td>\n",
              "      <td>624.0</td>\n",
              "      <td>3.2500</td>\n",
              "      <td>355000.0</td>\n",
              "      <td>&lt;1H OCEAN</td>\n",
              "    </tr>\n",
              "    <tr>\n",
              "      <th>2151</th>\n",
              "      <td>-119.78</td>\n",
              "      <td>36.78</td>\n",
              "      <td>37.0</td>\n",
              "      <td>2185.0</td>\n",
              "      <td>455.0</td>\n",
              "      <td>1143.0</td>\n",
              "      <td>438.0</td>\n",
              "      <td>1.9784</td>\n",
              "      <td>70700.0</td>\n",
              "      <td>INLAND</td>\n",
              "    </tr>\n",
              "    <tr>\n",
              "      <th>15927</th>\n",
              "      <td>-122.42</td>\n",
              "      <td>37.73</td>\n",
              "      <td>46.0</td>\n",
              "      <td>1819.0</td>\n",
              "      <td>411.0</td>\n",
              "      <td>1534.0</td>\n",
              "      <td>406.0</td>\n",
              "      <td>4.0132</td>\n",
              "      <td>229400.0</td>\n",
              "      <td>NEAR BAY</td>\n",
              "    </tr>\n",
              "    <tr>\n",
              "      <th>82</th>\n",
              "      <td>-122.28</td>\n",
              "      <td>37.81</td>\n",
              "      <td>52.0</td>\n",
              "      <td>340.0</td>\n",
              "      <td>97.0</td>\n",
              "      <td>200.0</td>\n",
              "      <td>87.0</td>\n",
              "      <td>1.5208</td>\n",
              "      <td>112500.0</td>\n",
              "      <td>NEAR BAY</td>\n",
              "    </tr>\n",
              "    <tr>\n",
              "      <th>8161</th>\n",
              "      <td>-118.13</td>\n",
              "      <td>33.82</td>\n",
              "      <td>37.0</td>\n",
              "      <td>1530.0</td>\n",
              "      <td>290.0</td>\n",
              "      <td>711.0</td>\n",
              "      <td>283.0</td>\n",
              "      <td>5.1795</td>\n",
              "      <td>225400.0</td>\n",
              "      <td>&lt;1H OCEAN</td>\n",
              "    </tr>\n",
              "    <tr>\n",
              "      <th>...</th>\n",
              "      <td>...</td>\n",
              "      <td>...</td>\n",
              "      <td>...</td>\n",
              "      <td>...</td>\n",
              "      <td>...</td>\n",
              "      <td>...</td>\n",
              "      <td>...</td>\n",
              "      <td>...</td>\n",
              "      <td>...</td>\n",
              "      <td>...</td>\n",
              "    </tr>\n",
              "    <tr>\n",
              "      <th>10955</th>\n",
              "      <td>-117.88</td>\n",
              "      <td>33.76</td>\n",
              "      <td>17.0</td>\n",
              "      <td>1768.0</td>\n",
              "      <td>474.0</td>\n",
              "      <td>1079.0</td>\n",
              "      <td>436.0</td>\n",
              "      <td>1.7823</td>\n",
              "      <td>205300.0</td>\n",
              "      <td>&lt;1H OCEAN</td>\n",
              "    </tr>\n",
              "    <tr>\n",
              "      <th>17289</th>\n",
              "      <td>-119.63</td>\n",
              "      <td>34.42</td>\n",
              "      <td>42.0</td>\n",
              "      <td>1765.0</td>\n",
              "      <td>263.0</td>\n",
              "      <td>753.0</td>\n",
              "      <td>260.0</td>\n",
              "      <td>8.5608</td>\n",
              "      <td>500001.0</td>\n",
              "      <td>&lt;1H OCEAN</td>\n",
              "    </tr>\n",
              "    <tr>\n",
              "      <th>5192</th>\n",
              "      <td>-118.26</td>\n",
              "      <td>33.93</td>\n",
              "      <td>42.0</td>\n",
              "      <td>1433.0</td>\n",
              "      <td>295.0</td>\n",
              "      <td>775.0</td>\n",
              "      <td>293.0</td>\n",
              "      <td>1.1326</td>\n",
              "      <td>104800.0</td>\n",
              "      <td>&lt;1H OCEAN</td>\n",
              "    </tr>\n",
              "    <tr>\n",
              "      <th>12172</th>\n",
              "      <td>-117.16</td>\n",
              "      <td>33.73</td>\n",
              "      <td>10.0</td>\n",
              "      <td>2381.0</td>\n",
              "      <td>454.0</td>\n",
              "      <td>1323.0</td>\n",
              "      <td>477.0</td>\n",
              "      <td>2.6322</td>\n",
              "      <td>140700.0</td>\n",
              "      <td>INLAND</td>\n",
              "    </tr>\n",
              "    <tr>\n",
              "      <th>235</th>\n",
              "      <td>-122.20</td>\n",
              "      <td>37.79</td>\n",
              "      <td>35.0</td>\n",
              "      <td>1802.0</td>\n",
              "      <td>459.0</td>\n",
              "      <td>1009.0</td>\n",
              "      <td>390.0</td>\n",
              "      <td>2.3036</td>\n",
              "      <td>126000.0</td>\n",
              "      <td>NEAR BAY</td>\n",
              "    </tr>\n",
              "  </tbody>\n",
              "</table>\n",
              "<p>20640 rows × 10 columns</p>\n",
              "</div>\n",
              "      <button class=\"colab-df-convert\" onclick=\"convertToInteractive('df-1b57efb5-bbe7-4609-813e-409e9205e4fc')\"\n",
              "              title=\"Convert this dataframe to an interactive table.\"\n",
              "              style=\"display:none;\">\n",
              "        \n",
              "  <svg xmlns=\"http://www.w3.org/2000/svg\" height=\"24px\"viewBox=\"0 0 24 24\"\n",
              "       width=\"24px\">\n",
              "    <path d=\"M0 0h24v24H0V0z\" fill=\"none\"/>\n",
              "    <path d=\"M18.56 5.44l.94 2.06.94-2.06 2.06-.94-2.06-.94-.94-2.06-.94 2.06-2.06.94zm-11 1L8.5 8.5l.94-2.06 2.06-.94-2.06-.94L8.5 2.5l-.94 2.06-2.06.94zm10 10l.94 2.06.94-2.06 2.06-.94-2.06-.94-.94-2.06-.94 2.06-2.06.94z\"/><path d=\"M17.41 7.96l-1.37-1.37c-.4-.4-.92-.59-1.43-.59-.52 0-1.04.2-1.43.59L10.3 9.45l-7.72 7.72c-.78.78-.78 2.05 0 2.83L4 21.41c.39.39.9.59 1.41.59.51 0 1.02-.2 1.41-.59l7.78-7.78 2.81-2.81c.8-.78.8-2.07 0-2.86zM5.41 20L4 18.59l7.72-7.72 1.47 1.35L5.41 20z\"/>\n",
              "  </svg>\n",
              "      </button>\n",
              "      \n",
              "  <style>\n",
              "    .colab-df-container {\n",
              "      display:flex;\n",
              "      flex-wrap:wrap;\n",
              "      gap: 12px;\n",
              "    }\n",
              "\n",
              "    .colab-df-convert {\n",
              "      background-color: #E8F0FE;\n",
              "      border: none;\n",
              "      border-radius: 50%;\n",
              "      cursor: pointer;\n",
              "      display: none;\n",
              "      fill: #1967D2;\n",
              "      height: 32px;\n",
              "      padding: 0 0 0 0;\n",
              "      width: 32px;\n",
              "    }\n",
              "\n",
              "    .colab-df-convert:hover {\n",
              "      background-color: #E2EBFA;\n",
              "      box-shadow: 0px 1px 2px rgba(60, 64, 67, 0.3), 0px 1px 3px 1px rgba(60, 64, 67, 0.15);\n",
              "      fill: #174EA6;\n",
              "    }\n",
              "\n",
              "    [theme=dark] .colab-df-convert {\n",
              "      background-color: #3B4455;\n",
              "      fill: #D2E3FC;\n",
              "    }\n",
              "\n",
              "    [theme=dark] .colab-df-convert:hover {\n",
              "      background-color: #434B5C;\n",
              "      box-shadow: 0px 1px 3px 1px rgba(0, 0, 0, 0.15);\n",
              "      filter: drop-shadow(0px 1px 2px rgba(0, 0, 0, 0.3));\n",
              "      fill: #FFFFFF;\n",
              "    }\n",
              "  </style>\n",
              "\n",
              "      <script>\n",
              "        const buttonEl =\n",
              "          document.querySelector('#df-1b57efb5-bbe7-4609-813e-409e9205e4fc button.colab-df-convert');\n",
              "        buttonEl.style.display =\n",
              "          google.colab.kernel.accessAllowed ? 'block' : 'none';\n",
              "\n",
              "        async function convertToInteractive(key) {\n",
              "          const element = document.querySelector('#df-1b57efb5-bbe7-4609-813e-409e9205e4fc');\n",
              "          const dataTable =\n",
              "            await google.colab.kernel.invokeFunction('convertToInteractive',\n",
              "                                                     [key], {});\n",
              "          if (!dataTable) return;\n",
              "\n",
              "          const docLinkHtml = 'Like what you see? Visit the ' +\n",
              "            '<a target=\"_blank\" href=https://colab.research.google.com/notebooks/data_table.ipynb>data table notebook</a>'\n",
              "            + ' to learn more about interactive tables.';\n",
              "          element.innerHTML = '';\n",
              "          dataTable['output_type'] = 'display_data';\n",
              "          await google.colab.output.renderOutput(dataTable, element);\n",
              "          const docLink = document.createElement('div');\n",
              "          docLink.innerHTML = docLinkHtml;\n",
              "          element.appendChild(docLink);\n",
              "        }\n",
              "      </script>\n",
              "    </div>\n",
              "  </div>\n",
              "  "
            ]
          },
          "metadata": {},
          "execution_count": 6
        }
      ]
    },
    {
      "cell_type": "code",
      "source": [
        "#convert ocean proximity to something more usable\n",
        "housing_pd['ocean_proximity'].value_counts()"
      ],
      "metadata": {
        "colab": {
          "base_uri": "https://localhost:8080/"
        },
        "id": "xv5Ok_bhp7rY",
        "outputId": "e7987400-5df6-4a83-fa48-c2137d879dac"
      },
      "execution_count": 7,
      "outputs": [
        {
          "output_type": "execute_result",
          "data": {
            "text/plain": [
              "<1H OCEAN     9136\n",
              "INLAND        6551\n",
              "NEAR OCEAN    2658\n",
              "NEAR BAY      2290\n",
              "ISLAND           5\n",
              "Name: ocean_proximity, dtype: int64"
            ]
          },
          "metadata": {},
          "execution_count": 7
        }
      ]
    },
    {
      "cell_type": "code",
      "source": [
        "pd.get_dummies(housing_pd_shuffled['ocean_proximity']).head\n"
      ],
      "metadata": {
        "colab": {
          "base_uri": "https://localhost:8080/"
        },
        "id": "r3bfkp_cqV3l",
        "outputId": "122e5dc3-decd-47db-c343-a0c92d357556"
      },
      "execution_count": 8,
      "outputs": [
        {
          "output_type": "execute_result",
          "data": {
            "text/plain": [
              "<bound method NDFrame.head of        <1H OCEAN  INLAND  ISLAND  NEAR BAY  NEAR OCEAN\n",
              "4712           1       0       0         0           0\n",
              "2151           0       1       0         0           0\n",
              "15927          0       0       0         1           0\n",
              "82             0       0       0         1           0\n",
              "8161           1       0       0         0           0\n",
              "...          ...     ...     ...       ...         ...\n",
              "10955          1       0       0         0           0\n",
              "17289          1       0       0         0           0\n",
              "5192           1       0       0         0           0\n",
              "12172          0       1       0         0           0\n",
              "235            0       0       0         1           0\n",
              "\n",
              "[20640 rows x 5 columns]>"
            ]
          },
          "metadata": {},
          "execution_count": 8
        }
      ]
    },
    {
      "cell_type": "code",
      "source": [
        "housing_pd_shuffled.drop('ocean_proximity',axis=1).head()"
      ],
      "metadata": {
        "colab": {
          "base_uri": "https://localhost:8080/",
          "height": 206
        },
        "id": "vh2mJaV5FlhG",
        "outputId": "ffd472f5-5320-4a03-b886-bff6d721b8cd"
      },
      "execution_count": 9,
      "outputs": [
        {
          "output_type": "execute_result",
          "data": {
            "text/plain": [
              "       longitude  latitude  housing_median_age  total_rooms  total_bedrooms  \\\n",
              "4712     -118.36     34.06                39.0       2810.0           670.0   \n",
              "2151     -119.78     36.78                37.0       2185.0           455.0   \n",
              "15927    -122.42     37.73                46.0       1819.0           411.0   \n",
              "82       -122.28     37.81                52.0        340.0            97.0   \n",
              "8161     -118.13     33.82                37.0       1530.0           290.0   \n",
              "\n",
              "       population  households  median_income  median_house_value  \n",
              "4712       1109.0       624.0         3.2500            355000.0  \n",
              "2151       1143.0       438.0         1.9784             70700.0  \n",
              "15927      1534.0       406.0         4.0132            229400.0  \n",
              "82          200.0        87.0         1.5208            112500.0  \n",
              "8161        711.0       283.0         5.1795            225400.0  "
            ],
            "text/html": [
              "\n",
              "  <div id=\"df-d1434ac4-fcd9-4fb8-b5c8-b39e5184ab2c\">\n",
              "    <div class=\"colab-df-container\">\n",
              "      <div>\n",
              "<style scoped>\n",
              "    .dataframe tbody tr th:only-of-type {\n",
              "        vertical-align: middle;\n",
              "    }\n",
              "\n",
              "    .dataframe tbody tr th {\n",
              "        vertical-align: top;\n",
              "    }\n",
              "\n",
              "    .dataframe thead th {\n",
              "        text-align: right;\n",
              "    }\n",
              "</style>\n",
              "<table border=\"1\" class=\"dataframe\">\n",
              "  <thead>\n",
              "    <tr style=\"text-align: right;\">\n",
              "      <th></th>\n",
              "      <th>longitude</th>\n",
              "      <th>latitude</th>\n",
              "      <th>housing_median_age</th>\n",
              "      <th>total_rooms</th>\n",
              "      <th>total_bedrooms</th>\n",
              "      <th>population</th>\n",
              "      <th>households</th>\n",
              "      <th>median_income</th>\n",
              "      <th>median_house_value</th>\n",
              "    </tr>\n",
              "  </thead>\n",
              "  <tbody>\n",
              "    <tr>\n",
              "      <th>4712</th>\n",
              "      <td>-118.36</td>\n",
              "      <td>34.06</td>\n",
              "      <td>39.0</td>\n",
              "      <td>2810.0</td>\n",
              "      <td>670.0</td>\n",
              "      <td>1109.0</td>\n",
              "      <td>624.0</td>\n",
              "      <td>3.2500</td>\n",
              "      <td>355000.0</td>\n",
              "    </tr>\n",
              "    <tr>\n",
              "      <th>2151</th>\n",
              "      <td>-119.78</td>\n",
              "      <td>36.78</td>\n",
              "      <td>37.0</td>\n",
              "      <td>2185.0</td>\n",
              "      <td>455.0</td>\n",
              "      <td>1143.0</td>\n",
              "      <td>438.0</td>\n",
              "      <td>1.9784</td>\n",
              "      <td>70700.0</td>\n",
              "    </tr>\n",
              "    <tr>\n",
              "      <th>15927</th>\n",
              "      <td>-122.42</td>\n",
              "      <td>37.73</td>\n",
              "      <td>46.0</td>\n",
              "      <td>1819.0</td>\n",
              "      <td>411.0</td>\n",
              "      <td>1534.0</td>\n",
              "      <td>406.0</td>\n",
              "      <td>4.0132</td>\n",
              "      <td>229400.0</td>\n",
              "    </tr>\n",
              "    <tr>\n",
              "      <th>82</th>\n",
              "      <td>-122.28</td>\n",
              "      <td>37.81</td>\n",
              "      <td>52.0</td>\n",
              "      <td>340.0</td>\n",
              "      <td>97.0</td>\n",
              "      <td>200.0</td>\n",
              "      <td>87.0</td>\n",
              "      <td>1.5208</td>\n",
              "      <td>112500.0</td>\n",
              "    </tr>\n",
              "    <tr>\n",
              "      <th>8161</th>\n",
              "      <td>-118.13</td>\n",
              "      <td>33.82</td>\n",
              "      <td>37.0</td>\n",
              "      <td>1530.0</td>\n",
              "      <td>290.0</td>\n",
              "      <td>711.0</td>\n",
              "      <td>283.0</td>\n",
              "      <td>5.1795</td>\n",
              "      <td>225400.0</td>\n",
              "    </tr>\n",
              "  </tbody>\n",
              "</table>\n",
              "</div>\n",
              "      <button class=\"colab-df-convert\" onclick=\"convertToInteractive('df-d1434ac4-fcd9-4fb8-b5c8-b39e5184ab2c')\"\n",
              "              title=\"Convert this dataframe to an interactive table.\"\n",
              "              style=\"display:none;\">\n",
              "        \n",
              "  <svg xmlns=\"http://www.w3.org/2000/svg\" height=\"24px\"viewBox=\"0 0 24 24\"\n",
              "       width=\"24px\">\n",
              "    <path d=\"M0 0h24v24H0V0z\" fill=\"none\"/>\n",
              "    <path d=\"M18.56 5.44l.94 2.06.94-2.06 2.06-.94-2.06-.94-.94-2.06-.94 2.06-2.06.94zm-11 1L8.5 8.5l.94-2.06 2.06-.94-2.06-.94L8.5 2.5l-.94 2.06-2.06.94zm10 10l.94 2.06.94-2.06 2.06-.94-2.06-.94-.94-2.06-.94 2.06-2.06.94z\"/><path d=\"M17.41 7.96l-1.37-1.37c-.4-.4-.92-.59-1.43-.59-.52 0-1.04.2-1.43.59L10.3 9.45l-7.72 7.72c-.78.78-.78 2.05 0 2.83L4 21.41c.39.39.9.59 1.41.59.51 0 1.02-.2 1.41-.59l7.78-7.78 2.81-2.81c.8-.78.8-2.07 0-2.86zM5.41 20L4 18.59l7.72-7.72 1.47 1.35L5.41 20z\"/>\n",
              "  </svg>\n",
              "      </button>\n",
              "      \n",
              "  <style>\n",
              "    .colab-df-container {\n",
              "      display:flex;\n",
              "      flex-wrap:wrap;\n",
              "      gap: 12px;\n",
              "    }\n",
              "\n",
              "    .colab-df-convert {\n",
              "      background-color: #E8F0FE;\n",
              "      border: none;\n",
              "      border-radius: 50%;\n",
              "      cursor: pointer;\n",
              "      display: none;\n",
              "      fill: #1967D2;\n",
              "      height: 32px;\n",
              "      padding: 0 0 0 0;\n",
              "      width: 32px;\n",
              "    }\n",
              "\n",
              "    .colab-df-convert:hover {\n",
              "      background-color: #E2EBFA;\n",
              "      box-shadow: 0px 1px 2px rgba(60, 64, 67, 0.3), 0px 1px 3px 1px rgba(60, 64, 67, 0.15);\n",
              "      fill: #174EA6;\n",
              "    }\n",
              "\n",
              "    [theme=dark] .colab-df-convert {\n",
              "      background-color: #3B4455;\n",
              "      fill: #D2E3FC;\n",
              "    }\n",
              "\n",
              "    [theme=dark] .colab-df-convert:hover {\n",
              "      background-color: #434B5C;\n",
              "      box-shadow: 0px 1px 3px 1px rgba(0, 0, 0, 0.15);\n",
              "      filter: drop-shadow(0px 1px 2px rgba(0, 0, 0, 0.3));\n",
              "      fill: #FFFFFF;\n",
              "    }\n",
              "  </style>\n",
              "\n",
              "      <script>\n",
              "        const buttonEl =\n",
              "          document.querySelector('#df-d1434ac4-fcd9-4fb8-b5c8-b39e5184ab2c button.colab-df-convert');\n",
              "        buttonEl.style.display =\n",
              "          google.colab.kernel.accessAllowed ? 'block' : 'none';\n",
              "\n",
              "        async function convertToInteractive(key) {\n",
              "          const element = document.querySelector('#df-d1434ac4-fcd9-4fb8-b5c8-b39e5184ab2c');\n",
              "          const dataTable =\n",
              "            await google.colab.kernel.invokeFunction('convertToInteractive',\n",
              "                                                     [key], {});\n",
              "          if (!dataTable) return;\n",
              "\n",
              "          const docLinkHtml = 'Like what you see? Visit the ' +\n",
              "            '<a target=\"_blank\" href=https://colab.research.google.com/notebooks/data_table.ipynb>data table notebook</a>'\n",
              "            + ' to learn more about interactive tables.';\n",
              "          element.innerHTML = '';\n",
              "          dataTable['output_type'] = 'display_data';\n",
              "          await google.colab.output.renderOutput(dataTable, element);\n",
              "          const docLink = document.createElement('div');\n",
              "          docLink.innerHTML = docLinkHtml;\n",
              "          element.appendChild(docLink);\n",
              "        }\n",
              "      </script>\n",
              "    </div>\n",
              "  </div>\n",
              "  "
            ]
          },
          "metadata": {},
          "execution_count": 9
        }
      ]
    },
    {
      "cell_type": "code",
      "source": [
        "#join thye data frame\n",
        "housing_pd_final = pd.concat([housing_pd_shuffled.drop('ocean_proximity', axis=1),\n",
        "                              pd.get_dummies(housing_pd_shuffled['ocean_proximity'])], axis=1)\n",
        "housing_pd_final"
      ],
      "metadata": {
        "colab": {
          "base_uri": "https://localhost:8080/",
          "height": 467
        },
        "id": "q_RQ-MeaG0rM",
        "outputId": "0f2c5067-3248-4df2-ef8f-e5af56151679"
      },
      "execution_count": 10,
      "outputs": [
        {
          "output_type": "execute_result",
          "data": {
            "text/plain": [
              "       longitude  latitude  housing_median_age  total_rooms  total_bedrooms  \\\n",
              "4712     -118.36     34.06                39.0       2810.0           670.0   \n",
              "2151     -119.78     36.78                37.0       2185.0           455.0   \n",
              "15927    -122.42     37.73                46.0       1819.0           411.0   \n",
              "82       -122.28     37.81                52.0        340.0            97.0   \n",
              "8161     -118.13     33.82                37.0       1530.0           290.0   \n",
              "...          ...       ...                 ...          ...             ...   \n",
              "10955    -117.88     33.76                17.0       1768.0           474.0   \n",
              "17289    -119.63     34.42                42.0       1765.0           263.0   \n",
              "5192     -118.26     33.93                42.0       1433.0           295.0   \n",
              "12172    -117.16     33.73                10.0       2381.0           454.0   \n",
              "235      -122.20     37.79                35.0       1802.0           459.0   \n",
              "\n",
              "       population  households  median_income  median_house_value  <1H OCEAN  \\\n",
              "4712       1109.0       624.0         3.2500            355000.0          1   \n",
              "2151       1143.0       438.0         1.9784             70700.0          0   \n",
              "15927      1534.0       406.0         4.0132            229400.0          0   \n",
              "82          200.0        87.0         1.5208            112500.0          0   \n",
              "8161        711.0       283.0         5.1795            225400.0          1   \n",
              "...           ...         ...            ...                 ...        ...   \n",
              "10955      1079.0       436.0         1.7823            205300.0          1   \n",
              "17289       753.0       260.0         8.5608            500001.0          1   \n",
              "5192        775.0       293.0         1.1326            104800.0          1   \n",
              "12172      1323.0       477.0         2.6322            140700.0          0   \n",
              "235        1009.0       390.0         2.3036            126000.0          0   \n",
              "\n",
              "       INLAND  ISLAND  NEAR BAY  NEAR OCEAN  \n",
              "4712        0       0         0           0  \n",
              "2151        1       0         0           0  \n",
              "15927       0       0         1           0  \n",
              "82          0       0         1           0  \n",
              "8161        0       0         0           0  \n",
              "...       ...     ...       ...         ...  \n",
              "10955       0       0         0           0  \n",
              "17289       0       0         0           0  \n",
              "5192        0       0         0           0  \n",
              "12172       1       0         0           0  \n",
              "235         0       0         1           0  \n",
              "\n",
              "[20640 rows x 14 columns]"
            ],
            "text/html": [
              "\n",
              "  <div id=\"df-8a6e91a5-a586-450b-92c5-16f2232d887e\">\n",
              "    <div class=\"colab-df-container\">\n",
              "      <div>\n",
              "<style scoped>\n",
              "    .dataframe tbody tr th:only-of-type {\n",
              "        vertical-align: middle;\n",
              "    }\n",
              "\n",
              "    .dataframe tbody tr th {\n",
              "        vertical-align: top;\n",
              "    }\n",
              "\n",
              "    .dataframe thead th {\n",
              "        text-align: right;\n",
              "    }\n",
              "</style>\n",
              "<table border=\"1\" class=\"dataframe\">\n",
              "  <thead>\n",
              "    <tr style=\"text-align: right;\">\n",
              "      <th></th>\n",
              "      <th>longitude</th>\n",
              "      <th>latitude</th>\n",
              "      <th>housing_median_age</th>\n",
              "      <th>total_rooms</th>\n",
              "      <th>total_bedrooms</th>\n",
              "      <th>population</th>\n",
              "      <th>households</th>\n",
              "      <th>median_income</th>\n",
              "      <th>median_house_value</th>\n",
              "      <th>&lt;1H OCEAN</th>\n",
              "      <th>INLAND</th>\n",
              "      <th>ISLAND</th>\n",
              "      <th>NEAR BAY</th>\n",
              "      <th>NEAR OCEAN</th>\n",
              "    </tr>\n",
              "  </thead>\n",
              "  <tbody>\n",
              "    <tr>\n",
              "      <th>4712</th>\n",
              "      <td>-118.36</td>\n",
              "      <td>34.06</td>\n",
              "      <td>39.0</td>\n",
              "      <td>2810.0</td>\n",
              "      <td>670.0</td>\n",
              "      <td>1109.0</td>\n",
              "      <td>624.0</td>\n",
              "      <td>3.2500</td>\n",
              "      <td>355000.0</td>\n",
              "      <td>1</td>\n",
              "      <td>0</td>\n",
              "      <td>0</td>\n",
              "      <td>0</td>\n",
              "      <td>0</td>\n",
              "    </tr>\n",
              "    <tr>\n",
              "      <th>2151</th>\n",
              "      <td>-119.78</td>\n",
              "      <td>36.78</td>\n",
              "      <td>37.0</td>\n",
              "      <td>2185.0</td>\n",
              "      <td>455.0</td>\n",
              "      <td>1143.0</td>\n",
              "      <td>438.0</td>\n",
              "      <td>1.9784</td>\n",
              "      <td>70700.0</td>\n",
              "      <td>0</td>\n",
              "      <td>1</td>\n",
              "      <td>0</td>\n",
              "      <td>0</td>\n",
              "      <td>0</td>\n",
              "    </tr>\n",
              "    <tr>\n",
              "      <th>15927</th>\n",
              "      <td>-122.42</td>\n",
              "      <td>37.73</td>\n",
              "      <td>46.0</td>\n",
              "      <td>1819.0</td>\n",
              "      <td>411.0</td>\n",
              "      <td>1534.0</td>\n",
              "      <td>406.0</td>\n",
              "      <td>4.0132</td>\n",
              "      <td>229400.0</td>\n",
              "      <td>0</td>\n",
              "      <td>0</td>\n",
              "      <td>0</td>\n",
              "      <td>1</td>\n",
              "      <td>0</td>\n",
              "    </tr>\n",
              "    <tr>\n",
              "      <th>82</th>\n",
              "      <td>-122.28</td>\n",
              "      <td>37.81</td>\n",
              "      <td>52.0</td>\n",
              "      <td>340.0</td>\n",
              "      <td>97.0</td>\n",
              "      <td>200.0</td>\n",
              "      <td>87.0</td>\n",
              "      <td>1.5208</td>\n",
              "      <td>112500.0</td>\n",
              "      <td>0</td>\n",
              "      <td>0</td>\n",
              "      <td>0</td>\n",
              "      <td>1</td>\n",
              "      <td>0</td>\n",
              "    </tr>\n",
              "    <tr>\n",
              "      <th>8161</th>\n",
              "      <td>-118.13</td>\n",
              "      <td>33.82</td>\n",
              "      <td>37.0</td>\n",
              "      <td>1530.0</td>\n",
              "      <td>290.0</td>\n",
              "      <td>711.0</td>\n",
              "      <td>283.0</td>\n",
              "      <td>5.1795</td>\n",
              "      <td>225400.0</td>\n",
              "      <td>1</td>\n",
              "      <td>0</td>\n",
              "      <td>0</td>\n",
              "      <td>0</td>\n",
              "      <td>0</td>\n",
              "    </tr>\n",
              "    <tr>\n",
              "      <th>...</th>\n",
              "      <td>...</td>\n",
              "      <td>...</td>\n",
              "      <td>...</td>\n",
              "      <td>...</td>\n",
              "      <td>...</td>\n",
              "      <td>...</td>\n",
              "      <td>...</td>\n",
              "      <td>...</td>\n",
              "      <td>...</td>\n",
              "      <td>...</td>\n",
              "      <td>...</td>\n",
              "      <td>...</td>\n",
              "      <td>...</td>\n",
              "      <td>...</td>\n",
              "    </tr>\n",
              "    <tr>\n",
              "      <th>10955</th>\n",
              "      <td>-117.88</td>\n",
              "      <td>33.76</td>\n",
              "      <td>17.0</td>\n",
              "      <td>1768.0</td>\n",
              "      <td>474.0</td>\n",
              "      <td>1079.0</td>\n",
              "      <td>436.0</td>\n",
              "      <td>1.7823</td>\n",
              "      <td>205300.0</td>\n",
              "      <td>1</td>\n",
              "      <td>0</td>\n",
              "      <td>0</td>\n",
              "      <td>0</td>\n",
              "      <td>0</td>\n",
              "    </tr>\n",
              "    <tr>\n",
              "      <th>17289</th>\n",
              "      <td>-119.63</td>\n",
              "      <td>34.42</td>\n",
              "      <td>42.0</td>\n",
              "      <td>1765.0</td>\n",
              "      <td>263.0</td>\n",
              "      <td>753.0</td>\n",
              "      <td>260.0</td>\n",
              "      <td>8.5608</td>\n",
              "      <td>500001.0</td>\n",
              "      <td>1</td>\n",
              "      <td>0</td>\n",
              "      <td>0</td>\n",
              "      <td>0</td>\n",
              "      <td>0</td>\n",
              "    </tr>\n",
              "    <tr>\n",
              "      <th>5192</th>\n",
              "      <td>-118.26</td>\n",
              "      <td>33.93</td>\n",
              "      <td>42.0</td>\n",
              "      <td>1433.0</td>\n",
              "      <td>295.0</td>\n",
              "      <td>775.0</td>\n",
              "      <td>293.0</td>\n",
              "      <td>1.1326</td>\n",
              "      <td>104800.0</td>\n",
              "      <td>1</td>\n",
              "      <td>0</td>\n",
              "      <td>0</td>\n",
              "      <td>0</td>\n",
              "      <td>0</td>\n",
              "    </tr>\n",
              "    <tr>\n",
              "      <th>12172</th>\n",
              "      <td>-117.16</td>\n",
              "      <td>33.73</td>\n",
              "      <td>10.0</td>\n",
              "      <td>2381.0</td>\n",
              "      <td>454.0</td>\n",
              "      <td>1323.0</td>\n",
              "      <td>477.0</td>\n",
              "      <td>2.6322</td>\n",
              "      <td>140700.0</td>\n",
              "      <td>0</td>\n",
              "      <td>1</td>\n",
              "      <td>0</td>\n",
              "      <td>0</td>\n",
              "      <td>0</td>\n",
              "    </tr>\n",
              "    <tr>\n",
              "      <th>235</th>\n",
              "      <td>-122.20</td>\n",
              "      <td>37.79</td>\n",
              "      <td>35.0</td>\n",
              "      <td>1802.0</td>\n",
              "      <td>459.0</td>\n",
              "      <td>1009.0</td>\n",
              "      <td>390.0</td>\n",
              "      <td>2.3036</td>\n",
              "      <td>126000.0</td>\n",
              "      <td>0</td>\n",
              "      <td>0</td>\n",
              "      <td>0</td>\n",
              "      <td>1</td>\n",
              "      <td>0</td>\n",
              "    </tr>\n",
              "  </tbody>\n",
              "</table>\n",
              "<p>20640 rows × 14 columns</p>\n",
              "</div>\n",
              "      <button class=\"colab-df-convert\" onclick=\"convertToInteractive('df-8a6e91a5-a586-450b-92c5-16f2232d887e')\"\n",
              "              title=\"Convert this dataframe to an interactive table.\"\n",
              "              style=\"display:none;\">\n",
              "        \n",
              "  <svg xmlns=\"http://www.w3.org/2000/svg\" height=\"24px\"viewBox=\"0 0 24 24\"\n",
              "       width=\"24px\">\n",
              "    <path d=\"M0 0h24v24H0V0z\" fill=\"none\"/>\n",
              "    <path d=\"M18.56 5.44l.94 2.06.94-2.06 2.06-.94-2.06-.94-.94-2.06-.94 2.06-2.06.94zm-11 1L8.5 8.5l.94-2.06 2.06-.94-2.06-.94L8.5 2.5l-.94 2.06-2.06.94zm10 10l.94 2.06.94-2.06 2.06-.94-2.06-.94-.94-2.06-.94 2.06-2.06.94z\"/><path d=\"M17.41 7.96l-1.37-1.37c-.4-.4-.92-.59-1.43-.59-.52 0-1.04.2-1.43.59L10.3 9.45l-7.72 7.72c-.78.78-.78 2.05 0 2.83L4 21.41c.39.39.9.59 1.41.59.51 0 1.02-.2 1.41-.59l7.78-7.78 2.81-2.81c.8-.78.8-2.07 0-2.86zM5.41 20L4 18.59l7.72-7.72 1.47 1.35L5.41 20z\"/>\n",
              "  </svg>\n",
              "      </button>\n",
              "      \n",
              "  <style>\n",
              "    .colab-df-container {\n",
              "      display:flex;\n",
              "      flex-wrap:wrap;\n",
              "      gap: 12px;\n",
              "    }\n",
              "\n",
              "    .colab-df-convert {\n",
              "      background-color: #E8F0FE;\n",
              "      border: none;\n",
              "      border-radius: 50%;\n",
              "      cursor: pointer;\n",
              "      display: none;\n",
              "      fill: #1967D2;\n",
              "      height: 32px;\n",
              "      padding: 0 0 0 0;\n",
              "      width: 32px;\n",
              "    }\n",
              "\n",
              "    .colab-df-convert:hover {\n",
              "      background-color: #E2EBFA;\n",
              "      box-shadow: 0px 1px 2px rgba(60, 64, 67, 0.3), 0px 1px 3px 1px rgba(60, 64, 67, 0.15);\n",
              "      fill: #174EA6;\n",
              "    }\n",
              "\n",
              "    [theme=dark] .colab-df-convert {\n",
              "      background-color: #3B4455;\n",
              "      fill: #D2E3FC;\n",
              "    }\n",
              "\n",
              "    [theme=dark] .colab-df-convert:hover {\n",
              "      background-color: #434B5C;\n",
              "      box-shadow: 0px 1px 3px 1px rgba(0, 0, 0, 0.15);\n",
              "      filter: drop-shadow(0px 1px 2px rgba(0, 0, 0, 0.3));\n",
              "      fill: #FFFFFF;\n",
              "    }\n",
              "  </style>\n",
              "\n",
              "      <script>\n",
              "        const buttonEl =\n",
              "          document.querySelector('#df-8a6e91a5-a586-450b-92c5-16f2232d887e button.colab-df-convert');\n",
              "        buttonEl.style.display =\n",
              "          google.colab.kernel.accessAllowed ? 'block' : 'none';\n",
              "\n",
              "        async function convertToInteractive(key) {\n",
              "          const element = document.querySelector('#df-8a6e91a5-a586-450b-92c5-16f2232d887e');\n",
              "          const dataTable =\n",
              "            await google.colab.kernel.invokeFunction('convertToInteractive',\n",
              "                                                     [key], {});\n",
              "          if (!dataTable) return;\n",
              "\n",
              "          const docLinkHtml = 'Like what you see? Visit the ' +\n",
              "            '<a target=\"_blank\" href=https://colab.research.google.com/notebooks/data_table.ipynb>data table notebook</a>'\n",
              "            + ' to learn more about interactive tables.';\n",
              "          element.innerHTML = '';\n",
              "          dataTable['output_type'] = 'display_data';\n",
              "          await google.colab.output.renderOutput(dataTable, element);\n",
              "          const docLink = document.createElement('div');\n",
              "          docLink.innerHTML = docLinkHtml;\n",
              "          element.appendChild(docLink);\n",
              "        }\n",
              "      </script>\n",
              "    </div>\n",
              "  </div>\n",
              "  "
            ]
          },
          "metadata": {},
          "execution_count": 10
        }
      ]
    },
    {
      "cell_type": "code",
      "source": [
        "housing_pd_final = housing_pd_final[['longitude',\t'latitude',\t\n",
        "                                     'housing_median_age',\t'total_rooms',\t\n",
        "                                     'total_bedrooms',\t'population',\t\n",
        "                                     'households',\t'median_income',\t\n",
        "                                     '<1H OCEAN',\t\n",
        "                                     'INLAND',\t'ISLAND',\t\n",
        "                                     'NEAR BAY',\t'NEAR OCEAN', 'median_house_value']]\n",
        "housing_pd_final"
      ],
      "metadata": {
        "colab": {
          "base_uri": "https://localhost:8080/",
          "height": 467
        },
        "id": "IOLbT6xQHwjK",
        "outputId": "3facd5e7-1709-43dc-a9c2-68265e87db01"
      },
      "execution_count": 11,
      "outputs": [
        {
          "output_type": "execute_result",
          "data": {
            "text/plain": [
              "       longitude  latitude  housing_median_age  total_rooms  total_bedrooms  \\\n",
              "4712     -118.36     34.06                39.0       2810.0           670.0   \n",
              "2151     -119.78     36.78                37.0       2185.0           455.0   \n",
              "15927    -122.42     37.73                46.0       1819.0           411.0   \n",
              "82       -122.28     37.81                52.0        340.0            97.0   \n",
              "8161     -118.13     33.82                37.0       1530.0           290.0   \n",
              "...          ...       ...                 ...          ...             ...   \n",
              "10955    -117.88     33.76                17.0       1768.0           474.0   \n",
              "17289    -119.63     34.42                42.0       1765.0           263.0   \n",
              "5192     -118.26     33.93                42.0       1433.0           295.0   \n",
              "12172    -117.16     33.73                10.0       2381.0           454.0   \n",
              "235      -122.20     37.79                35.0       1802.0           459.0   \n",
              "\n",
              "       population  households  median_income  <1H OCEAN  INLAND  ISLAND  \\\n",
              "4712       1109.0       624.0         3.2500          1       0       0   \n",
              "2151       1143.0       438.0         1.9784          0       1       0   \n",
              "15927      1534.0       406.0         4.0132          0       0       0   \n",
              "82          200.0        87.0         1.5208          0       0       0   \n",
              "8161        711.0       283.0         5.1795          1       0       0   \n",
              "...           ...         ...            ...        ...     ...     ...   \n",
              "10955      1079.0       436.0         1.7823          1       0       0   \n",
              "17289       753.0       260.0         8.5608          1       0       0   \n",
              "5192        775.0       293.0         1.1326          1       0       0   \n",
              "12172      1323.0       477.0         2.6322          0       1       0   \n",
              "235        1009.0       390.0         2.3036          0       0       0   \n",
              "\n",
              "       NEAR BAY  NEAR OCEAN  median_house_value  \n",
              "4712          0           0            355000.0  \n",
              "2151          0           0             70700.0  \n",
              "15927         1           0            229400.0  \n",
              "82            1           0            112500.0  \n",
              "8161          0           0            225400.0  \n",
              "...         ...         ...                 ...  \n",
              "10955         0           0            205300.0  \n",
              "17289         0           0            500001.0  \n",
              "5192          0           0            104800.0  \n",
              "12172         0           0            140700.0  \n",
              "235           1           0            126000.0  \n",
              "\n",
              "[20640 rows x 14 columns]"
            ],
            "text/html": [
              "\n",
              "  <div id=\"df-1e144380-da42-4b55-b079-4726f1a82fee\">\n",
              "    <div class=\"colab-df-container\">\n",
              "      <div>\n",
              "<style scoped>\n",
              "    .dataframe tbody tr th:only-of-type {\n",
              "        vertical-align: middle;\n",
              "    }\n",
              "\n",
              "    .dataframe tbody tr th {\n",
              "        vertical-align: top;\n",
              "    }\n",
              "\n",
              "    .dataframe thead th {\n",
              "        text-align: right;\n",
              "    }\n",
              "</style>\n",
              "<table border=\"1\" class=\"dataframe\">\n",
              "  <thead>\n",
              "    <tr style=\"text-align: right;\">\n",
              "      <th></th>\n",
              "      <th>longitude</th>\n",
              "      <th>latitude</th>\n",
              "      <th>housing_median_age</th>\n",
              "      <th>total_rooms</th>\n",
              "      <th>total_bedrooms</th>\n",
              "      <th>population</th>\n",
              "      <th>households</th>\n",
              "      <th>median_income</th>\n",
              "      <th>&lt;1H OCEAN</th>\n",
              "      <th>INLAND</th>\n",
              "      <th>ISLAND</th>\n",
              "      <th>NEAR BAY</th>\n",
              "      <th>NEAR OCEAN</th>\n",
              "      <th>median_house_value</th>\n",
              "    </tr>\n",
              "  </thead>\n",
              "  <tbody>\n",
              "    <tr>\n",
              "      <th>4712</th>\n",
              "      <td>-118.36</td>\n",
              "      <td>34.06</td>\n",
              "      <td>39.0</td>\n",
              "      <td>2810.0</td>\n",
              "      <td>670.0</td>\n",
              "      <td>1109.0</td>\n",
              "      <td>624.0</td>\n",
              "      <td>3.2500</td>\n",
              "      <td>1</td>\n",
              "      <td>0</td>\n",
              "      <td>0</td>\n",
              "      <td>0</td>\n",
              "      <td>0</td>\n",
              "      <td>355000.0</td>\n",
              "    </tr>\n",
              "    <tr>\n",
              "      <th>2151</th>\n",
              "      <td>-119.78</td>\n",
              "      <td>36.78</td>\n",
              "      <td>37.0</td>\n",
              "      <td>2185.0</td>\n",
              "      <td>455.0</td>\n",
              "      <td>1143.0</td>\n",
              "      <td>438.0</td>\n",
              "      <td>1.9784</td>\n",
              "      <td>0</td>\n",
              "      <td>1</td>\n",
              "      <td>0</td>\n",
              "      <td>0</td>\n",
              "      <td>0</td>\n",
              "      <td>70700.0</td>\n",
              "    </tr>\n",
              "    <tr>\n",
              "      <th>15927</th>\n",
              "      <td>-122.42</td>\n",
              "      <td>37.73</td>\n",
              "      <td>46.0</td>\n",
              "      <td>1819.0</td>\n",
              "      <td>411.0</td>\n",
              "      <td>1534.0</td>\n",
              "      <td>406.0</td>\n",
              "      <td>4.0132</td>\n",
              "      <td>0</td>\n",
              "      <td>0</td>\n",
              "      <td>0</td>\n",
              "      <td>1</td>\n",
              "      <td>0</td>\n",
              "      <td>229400.0</td>\n",
              "    </tr>\n",
              "    <tr>\n",
              "      <th>82</th>\n",
              "      <td>-122.28</td>\n",
              "      <td>37.81</td>\n",
              "      <td>52.0</td>\n",
              "      <td>340.0</td>\n",
              "      <td>97.0</td>\n",
              "      <td>200.0</td>\n",
              "      <td>87.0</td>\n",
              "      <td>1.5208</td>\n",
              "      <td>0</td>\n",
              "      <td>0</td>\n",
              "      <td>0</td>\n",
              "      <td>1</td>\n",
              "      <td>0</td>\n",
              "      <td>112500.0</td>\n",
              "    </tr>\n",
              "    <tr>\n",
              "      <th>8161</th>\n",
              "      <td>-118.13</td>\n",
              "      <td>33.82</td>\n",
              "      <td>37.0</td>\n",
              "      <td>1530.0</td>\n",
              "      <td>290.0</td>\n",
              "      <td>711.0</td>\n",
              "      <td>283.0</td>\n",
              "      <td>5.1795</td>\n",
              "      <td>1</td>\n",
              "      <td>0</td>\n",
              "      <td>0</td>\n",
              "      <td>0</td>\n",
              "      <td>0</td>\n",
              "      <td>225400.0</td>\n",
              "    </tr>\n",
              "    <tr>\n",
              "      <th>...</th>\n",
              "      <td>...</td>\n",
              "      <td>...</td>\n",
              "      <td>...</td>\n",
              "      <td>...</td>\n",
              "      <td>...</td>\n",
              "      <td>...</td>\n",
              "      <td>...</td>\n",
              "      <td>...</td>\n",
              "      <td>...</td>\n",
              "      <td>...</td>\n",
              "      <td>...</td>\n",
              "      <td>...</td>\n",
              "      <td>...</td>\n",
              "      <td>...</td>\n",
              "    </tr>\n",
              "    <tr>\n",
              "      <th>10955</th>\n",
              "      <td>-117.88</td>\n",
              "      <td>33.76</td>\n",
              "      <td>17.0</td>\n",
              "      <td>1768.0</td>\n",
              "      <td>474.0</td>\n",
              "      <td>1079.0</td>\n",
              "      <td>436.0</td>\n",
              "      <td>1.7823</td>\n",
              "      <td>1</td>\n",
              "      <td>0</td>\n",
              "      <td>0</td>\n",
              "      <td>0</td>\n",
              "      <td>0</td>\n",
              "      <td>205300.0</td>\n",
              "    </tr>\n",
              "    <tr>\n",
              "      <th>17289</th>\n",
              "      <td>-119.63</td>\n",
              "      <td>34.42</td>\n",
              "      <td>42.0</td>\n",
              "      <td>1765.0</td>\n",
              "      <td>263.0</td>\n",
              "      <td>753.0</td>\n",
              "      <td>260.0</td>\n",
              "      <td>8.5608</td>\n",
              "      <td>1</td>\n",
              "      <td>0</td>\n",
              "      <td>0</td>\n",
              "      <td>0</td>\n",
              "      <td>0</td>\n",
              "      <td>500001.0</td>\n",
              "    </tr>\n",
              "    <tr>\n",
              "      <th>5192</th>\n",
              "      <td>-118.26</td>\n",
              "      <td>33.93</td>\n",
              "      <td>42.0</td>\n",
              "      <td>1433.0</td>\n",
              "      <td>295.0</td>\n",
              "      <td>775.0</td>\n",
              "      <td>293.0</td>\n",
              "      <td>1.1326</td>\n",
              "      <td>1</td>\n",
              "      <td>0</td>\n",
              "      <td>0</td>\n",
              "      <td>0</td>\n",
              "      <td>0</td>\n",
              "      <td>104800.0</td>\n",
              "    </tr>\n",
              "    <tr>\n",
              "      <th>12172</th>\n",
              "      <td>-117.16</td>\n",
              "      <td>33.73</td>\n",
              "      <td>10.0</td>\n",
              "      <td>2381.0</td>\n",
              "      <td>454.0</td>\n",
              "      <td>1323.0</td>\n",
              "      <td>477.0</td>\n",
              "      <td>2.6322</td>\n",
              "      <td>0</td>\n",
              "      <td>1</td>\n",
              "      <td>0</td>\n",
              "      <td>0</td>\n",
              "      <td>0</td>\n",
              "      <td>140700.0</td>\n",
              "    </tr>\n",
              "    <tr>\n",
              "      <th>235</th>\n",
              "      <td>-122.20</td>\n",
              "      <td>37.79</td>\n",
              "      <td>35.0</td>\n",
              "      <td>1802.0</td>\n",
              "      <td>459.0</td>\n",
              "      <td>1009.0</td>\n",
              "      <td>390.0</td>\n",
              "      <td>2.3036</td>\n",
              "      <td>0</td>\n",
              "      <td>0</td>\n",
              "      <td>0</td>\n",
              "      <td>1</td>\n",
              "      <td>0</td>\n",
              "      <td>126000.0</td>\n",
              "    </tr>\n",
              "  </tbody>\n",
              "</table>\n",
              "<p>20640 rows × 14 columns</p>\n",
              "</div>\n",
              "      <button class=\"colab-df-convert\" onclick=\"convertToInteractive('df-1e144380-da42-4b55-b079-4726f1a82fee')\"\n",
              "              title=\"Convert this dataframe to an interactive table.\"\n",
              "              style=\"display:none;\">\n",
              "        \n",
              "  <svg xmlns=\"http://www.w3.org/2000/svg\" height=\"24px\"viewBox=\"0 0 24 24\"\n",
              "       width=\"24px\">\n",
              "    <path d=\"M0 0h24v24H0V0z\" fill=\"none\"/>\n",
              "    <path d=\"M18.56 5.44l.94 2.06.94-2.06 2.06-.94-2.06-.94-.94-2.06-.94 2.06-2.06.94zm-11 1L8.5 8.5l.94-2.06 2.06-.94-2.06-.94L8.5 2.5l-.94 2.06-2.06.94zm10 10l.94 2.06.94-2.06 2.06-.94-2.06-.94-.94-2.06-.94 2.06-2.06.94z\"/><path d=\"M17.41 7.96l-1.37-1.37c-.4-.4-.92-.59-1.43-.59-.52 0-1.04.2-1.43.59L10.3 9.45l-7.72 7.72c-.78.78-.78 2.05 0 2.83L4 21.41c.39.39.9.59 1.41.59.51 0 1.02-.2 1.41-.59l7.78-7.78 2.81-2.81c.8-.78.8-2.07 0-2.86zM5.41 20L4 18.59l7.72-7.72 1.47 1.35L5.41 20z\"/>\n",
              "  </svg>\n",
              "      </button>\n",
              "      \n",
              "  <style>\n",
              "    .colab-df-container {\n",
              "      display:flex;\n",
              "      flex-wrap:wrap;\n",
              "      gap: 12px;\n",
              "    }\n",
              "\n",
              "    .colab-df-convert {\n",
              "      background-color: #E8F0FE;\n",
              "      border: none;\n",
              "      border-radius: 50%;\n",
              "      cursor: pointer;\n",
              "      display: none;\n",
              "      fill: #1967D2;\n",
              "      height: 32px;\n",
              "      padding: 0 0 0 0;\n",
              "      width: 32px;\n",
              "    }\n",
              "\n",
              "    .colab-df-convert:hover {\n",
              "      background-color: #E2EBFA;\n",
              "      box-shadow: 0px 1px 2px rgba(60, 64, 67, 0.3), 0px 1px 3px 1px rgba(60, 64, 67, 0.15);\n",
              "      fill: #174EA6;\n",
              "    }\n",
              "\n",
              "    [theme=dark] .colab-df-convert {\n",
              "      background-color: #3B4455;\n",
              "      fill: #D2E3FC;\n",
              "    }\n",
              "\n",
              "    [theme=dark] .colab-df-convert:hover {\n",
              "      background-color: #434B5C;\n",
              "      box-shadow: 0px 1px 3px 1px rgba(0, 0, 0, 0.15);\n",
              "      filter: drop-shadow(0px 1px 2px rgba(0, 0, 0, 0.3));\n",
              "      fill: #FFFFFF;\n",
              "    }\n",
              "  </style>\n",
              "\n",
              "      <script>\n",
              "        const buttonEl =\n",
              "          document.querySelector('#df-1e144380-da42-4b55-b079-4726f1a82fee button.colab-df-convert');\n",
              "        buttonEl.style.display =\n",
              "          google.colab.kernel.accessAllowed ? 'block' : 'none';\n",
              "\n",
              "        async function convertToInteractive(key) {\n",
              "          const element = document.querySelector('#df-1e144380-da42-4b55-b079-4726f1a82fee');\n",
              "          const dataTable =\n",
              "            await google.colab.kernel.invokeFunction('convertToInteractive',\n",
              "                                                     [key], {});\n",
              "          if (!dataTable) return;\n",
              "\n",
              "          const docLinkHtml = 'Like what you see? Visit the ' +\n",
              "            '<a target=\"_blank\" href=https://colab.research.google.com/notebooks/data_table.ipynb>data table notebook</a>'\n",
              "            + ' to learn more about interactive tables.';\n",
              "          element.innerHTML = '';\n",
              "          dataTable['output_type'] = 'display_data';\n",
              "          await google.colab.output.renderOutput(dataTable, element);\n",
              "          const docLink = document.createElement('div');\n",
              "          docLink.innerHTML = docLinkHtml;\n",
              "          element.appendChild(docLink);\n",
              "        }\n",
              "      </script>\n",
              "    </div>\n",
              "  </div>\n",
              "  "
            ]
          },
          "metadata": {},
          "execution_count": 11
        }
      ]
    },
    {
      "cell_type": "code",
      "source": [
        "#clean the data\n",
        "housing_pd_final = housing_pd_final.dropna()\n",
        "len(housing_pd_final)"
      ],
      "metadata": {
        "colab": {
          "base_uri": "https://localhost:8080/"
        },
        "id": "oZ7BQ31uH7fh",
        "outputId": "87ca0867-87fc-4fbe-85cf-ff8dd3c47d55"
      },
      "execution_count": 12,
      "outputs": [
        {
          "output_type": "execute_result",
          "data": {
            "text/plain": [
              "20433"
            ]
          },
          "metadata": {},
          "execution_count": 12
        }
      ]
    },
    {
      "cell_type": "code",
      "source": [
        "#split data into training and test data\n",
        "train_pd, test_pd, val_pd = housing_pd_final[:18000], housing_pd_final[18000:19217], housing_pd_final[19215:]\n",
        "len(train_pd), len(test_pd), len(val_pd)"
      ],
      "metadata": {
        "colab": {
          "base_uri": "https://localhost:8080/"
        },
        "id": "BaII67y9I2Pb",
        "outputId": "bdd12ed6-1779-4e17-f344-a610228e4c28"
      },
      "execution_count": 13,
      "outputs": [
        {
          "output_type": "execute_result",
          "data": {
            "text/plain": [
              "(18000, 1217, 1218)"
            ]
          },
          "metadata": {},
          "execution_count": 13
        }
      ]
    },
    {
      "cell_type": "code",
      "source": [
        "#split data into x and y\n",
        "X_train, y_train = train_pd.to_numpy()[:, :-1], train_pd.to_numpy()[:, -1]\n",
        "X_val, y_val = val_pd.to_numpy()[:, :-1], val_pd.to_numpy()[:, -1]\n",
        "X_test, y_test = test_pd.to_numpy()[:, :-1], test_pd.to_numpy()[:, -1]\n",
        "\n",
        "X_train.shape, y_train.shape, X_val.shape, y_val.shape, X_test.shape, y_test.shape"
      ],
      "metadata": {
        "colab": {
          "base_uri": "https://localhost:8080/"
        },
        "id": "91C-z_SgJ6Ss",
        "outputId": "c3d07e4e-ed66-49ab-b8c1-8eb290bc18c6"
      },
      "execution_count": 15,
      "outputs": [
        {
          "output_type": "execute_result",
          "data": {
            "text/plain": [
              "((18000, 13), (18000,), (1218, 13), (1218,), (1217, 13), (1217,))"
            ]
          },
          "metadata": {},
          "execution_count": 15
        }
      ]
    },
    {
      "cell_type": "code",
      "source": [
        "# before calling the machine learning model: we should process the data\n",
        "from sklearn.preprocessing import StandardScaler\n",
        "import numpy as np\n",
        "\n",
        "scaler = StandardScaler().fit(X_train[:, :8])\n",
        "\n",
        "def preprocessor(X):\n",
        "  A = np.copy(X)\n",
        "  A[:, :8] = scaler.transform(A[:, :8])\n",
        "  return A\n",
        "\n",
        "X_train, X_val, X_test = preprocessor(X_train), preprocessor(X_val), preprocessor(X_test)"
      ],
      "metadata": {
        "id": "6fcmd7lcKY7y"
      },
      "execution_count": 16,
      "outputs": []
    },
    {
      "cell_type": "code",
      "source": [
        "X_train.shape, X_val.shape, X_test.shape"
      ],
      "metadata": {
        "colab": {
          "base_uri": "https://localhost:8080/"
        },
        "id": "sdALV9y2LFYi",
        "outputId": "545b3f84-eafe-4b7f-e069-eca9cfb4b068"
      },
      "execution_count": 17,
      "outputs": [
        {
          "output_type": "execute_result",
          "data": {
            "text/plain": [
              "((18000, 13), (1218, 13), (1217, 13))"
            ]
          },
          "metadata": {},
          "execution_count": 17
        }
      ]
    },
    {
      "cell_type": "code",
      "source": [
        "X_train_preprocessed=preprocessor(X_train)\n",
        "pd.DataFrame(X_train_preprocessed).head()"
      ],
      "metadata": {
        "colab": {
          "base_uri": "https://localhost:8080/",
          "height": 206
        },
        "id": "_kp4p2AJLI3t",
        "outputId": "69750552-173e-4361-f3ee-a18cbf3232f1"
      },
      "execution_count": 19,
      "outputs": [
        {
          "output_type": "execute_result",
          "data": {
            "text/plain": [
              "          0          1         2         3         4         5         6   \\\n",
              "0  59.964965 -17.023460 -2.215748 -1.211817 -1.280134 -1.256640 -1.310613   \n",
              "1  59.611398 -16.427508 -2.228399 -1.211949 -1.281354 -1.256613 -1.311898   \n",
              "2  58.954063 -16.219363 -2.171467 -1.212027 -1.281604 -1.256308 -1.312118   \n",
              "3  58.988922 -16.201835 -2.133511 -1.212340 -1.283386 -1.257349 -1.314321   \n",
              "4  60.022233 -17.076044 -2.228399 -1.212088 -1.282291 -1.256950 -1.312968   \n",
              "\n",
              "         7    8    9    10   11   12  \n",
              "0 -2.206508  1.0  0.0  0.0  0.0  0.0  \n",
              "1 -2.557774  0.0  1.0  0.0  0.0  0.0  \n",
              "2 -1.995683  0.0  0.0  0.0  1.0  0.0  \n",
              "3 -2.684181  0.0  0.0  0.0  1.0  0.0  \n",
              "4 -1.673505  1.0  0.0  0.0  0.0  0.0  "
            ],
            "text/html": [
              "\n",
              "  <div id=\"df-99947d3f-a55d-489b-8935-25c0c95a4c83\">\n",
              "    <div class=\"colab-df-container\">\n",
              "      <div>\n",
              "<style scoped>\n",
              "    .dataframe tbody tr th:only-of-type {\n",
              "        vertical-align: middle;\n",
              "    }\n",
              "\n",
              "    .dataframe tbody tr th {\n",
              "        vertical-align: top;\n",
              "    }\n",
              "\n",
              "    .dataframe thead th {\n",
              "        text-align: right;\n",
              "    }\n",
              "</style>\n",
              "<table border=\"1\" class=\"dataframe\">\n",
              "  <thead>\n",
              "    <tr style=\"text-align: right;\">\n",
              "      <th></th>\n",
              "      <th>0</th>\n",
              "      <th>1</th>\n",
              "      <th>2</th>\n",
              "      <th>3</th>\n",
              "      <th>4</th>\n",
              "      <th>5</th>\n",
              "      <th>6</th>\n",
              "      <th>7</th>\n",
              "      <th>8</th>\n",
              "      <th>9</th>\n",
              "      <th>10</th>\n",
              "      <th>11</th>\n",
              "      <th>12</th>\n",
              "    </tr>\n",
              "  </thead>\n",
              "  <tbody>\n",
              "    <tr>\n",
              "      <th>0</th>\n",
              "      <td>59.964965</td>\n",
              "      <td>-17.023460</td>\n",
              "      <td>-2.215748</td>\n",
              "      <td>-1.211817</td>\n",
              "      <td>-1.280134</td>\n",
              "      <td>-1.256640</td>\n",
              "      <td>-1.310613</td>\n",
              "      <td>-2.206508</td>\n",
              "      <td>1.0</td>\n",
              "      <td>0.0</td>\n",
              "      <td>0.0</td>\n",
              "      <td>0.0</td>\n",
              "      <td>0.0</td>\n",
              "    </tr>\n",
              "    <tr>\n",
              "      <th>1</th>\n",
              "      <td>59.611398</td>\n",
              "      <td>-16.427508</td>\n",
              "      <td>-2.228399</td>\n",
              "      <td>-1.211949</td>\n",
              "      <td>-1.281354</td>\n",
              "      <td>-1.256613</td>\n",
              "      <td>-1.311898</td>\n",
              "      <td>-2.557774</td>\n",
              "      <td>0.0</td>\n",
              "      <td>1.0</td>\n",
              "      <td>0.0</td>\n",
              "      <td>0.0</td>\n",
              "      <td>0.0</td>\n",
              "    </tr>\n",
              "    <tr>\n",
              "      <th>2</th>\n",
              "      <td>58.954063</td>\n",
              "      <td>-16.219363</td>\n",
              "      <td>-2.171467</td>\n",
              "      <td>-1.212027</td>\n",
              "      <td>-1.281604</td>\n",
              "      <td>-1.256308</td>\n",
              "      <td>-1.312118</td>\n",
              "      <td>-1.995683</td>\n",
              "      <td>0.0</td>\n",
              "      <td>0.0</td>\n",
              "      <td>0.0</td>\n",
              "      <td>1.0</td>\n",
              "      <td>0.0</td>\n",
              "    </tr>\n",
              "    <tr>\n",
              "      <th>3</th>\n",
              "      <td>58.988922</td>\n",
              "      <td>-16.201835</td>\n",
              "      <td>-2.133511</td>\n",
              "      <td>-1.212340</td>\n",
              "      <td>-1.283386</td>\n",
              "      <td>-1.257349</td>\n",
              "      <td>-1.314321</td>\n",
              "      <td>-2.684181</td>\n",
              "      <td>0.0</td>\n",
              "      <td>0.0</td>\n",
              "      <td>0.0</td>\n",
              "      <td>1.0</td>\n",
              "      <td>0.0</td>\n",
              "    </tr>\n",
              "    <tr>\n",
              "      <th>4</th>\n",
              "      <td>60.022233</td>\n",
              "      <td>-17.076044</td>\n",
              "      <td>-2.228399</td>\n",
              "      <td>-1.212088</td>\n",
              "      <td>-1.282291</td>\n",
              "      <td>-1.256950</td>\n",
              "      <td>-1.312968</td>\n",
              "      <td>-1.673505</td>\n",
              "      <td>1.0</td>\n",
              "      <td>0.0</td>\n",
              "      <td>0.0</td>\n",
              "      <td>0.0</td>\n",
              "      <td>0.0</td>\n",
              "    </tr>\n",
              "  </tbody>\n",
              "</table>\n",
              "</div>\n",
              "      <button class=\"colab-df-convert\" onclick=\"convertToInteractive('df-99947d3f-a55d-489b-8935-25c0c95a4c83')\"\n",
              "              title=\"Convert this dataframe to an interactive table.\"\n",
              "              style=\"display:none;\">\n",
              "        \n",
              "  <svg xmlns=\"http://www.w3.org/2000/svg\" height=\"24px\"viewBox=\"0 0 24 24\"\n",
              "       width=\"24px\">\n",
              "    <path d=\"M0 0h24v24H0V0z\" fill=\"none\"/>\n",
              "    <path d=\"M18.56 5.44l.94 2.06.94-2.06 2.06-.94-2.06-.94-.94-2.06-.94 2.06-2.06.94zm-11 1L8.5 8.5l.94-2.06 2.06-.94-2.06-.94L8.5 2.5l-.94 2.06-2.06.94zm10 10l.94 2.06.94-2.06 2.06-.94-2.06-.94-.94-2.06-.94 2.06-2.06.94z\"/><path d=\"M17.41 7.96l-1.37-1.37c-.4-.4-.92-.59-1.43-.59-.52 0-1.04.2-1.43.59L10.3 9.45l-7.72 7.72c-.78.78-.78 2.05 0 2.83L4 21.41c.39.39.9.59 1.41.59.51 0 1.02-.2 1.41-.59l7.78-7.78 2.81-2.81c.8-.78.8-2.07 0-2.86zM5.41 20L4 18.59l7.72-7.72 1.47 1.35L5.41 20z\"/>\n",
              "  </svg>\n",
              "      </button>\n",
              "      \n",
              "  <style>\n",
              "    .colab-df-container {\n",
              "      display:flex;\n",
              "      flex-wrap:wrap;\n",
              "      gap: 12px;\n",
              "    }\n",
              "\n",
              "    .colab-df-convert {\n",
              "      background-color: #E8F0FE;\n",
              "      border: none;\n",
              "      border-radius: 50%;\n",
              "      cursor: pointer;\n",
              "      display: none;\n",
              "      fill: #1967D2;\n",
              "      height: 32px;\n",
              "      padding: 0 0 0 0;\n",
              "      width: 32px;\n",
              "    }\n",
              "\n",
              "    .colab-df-convert:hover {\n",
              "      background-color: #E2EBFA;\n",
              "      box-shadow: 0px 1px 2px rgba(60, 64, 67, 0.3), 0px 1px 3px 1px rgba(60, 64, 67, 0.15);\n",
              "      fill: #174EA6;\n",
              "    }\n",
              "\n",
              "    [theme=dark] .colab-df-convert {\n",
              "      background-color: #3B4455;\n",
              "      fill: #D2E3FC;\n",
              "    }\n",
              "\n",
              "    [theme=dark] .colab-df-convert:hover {\n",
              "      background-color: #434B5C;\n",
              "      box-shadow: 0px 1px 3px 1px rgba(0, 0, 0, 0.15);\n",
              "      filter: drop-shadow(0px 1px 2px rgba(0, 0, 0, 0.3));\n",
              "      fill: #FFFFFF;\n",
              "    }\n",
              "  </style>\n",
              "\n",
              "      <script>\n",
              "        const buttonEl =\n",
              "          document.querySelector('#df-99947d3f-a55d-489b-8935-25c0c95a4c83 button.colab-df-convert');\n",
              "        buttonEl.style.display =\n",
              "          google.colab.kernel.accessAllowed ? 'block' : 'none';\n",
              "\n",
              "        async function convertToInteractive(key) {\n",
              "          const element = document.querySelector('#df-99947d3f-a55d-489b-8935-25c0c95a4c83');\n",
              "          const dataTable =\n",
              "            await google.colab.kernel.invokeFunction('convertToInteractive',\n",
              "                                                     [key], {});\n",
              "          if (!dataTable) return;\n",
              "\n",
              "          const docLinkHtml = 'Like what you see? Visit the ' +\n",
              "            '<a target=\"_blank\" href=https://colab.research.google.com/notebooks/data_table.ipynb>data table notebook</a>'\n",
              "            + ' to learn more about interactive tables.';\n",
              "          element.innerHTML = '';\n",
              "          dataTable['output_type'] = 'display_data';\n",
              "          await google.colab.output.renderOutput(dataTable, element);\n",
              "          const docLink = document.createElement('div');\n",
              "          docLink.innerHTML = docLinkHtml;\n",
              "          element.appendChild(docLink);\n",
              "        }\n",
              "      </script>\n",
              "    </div>\n",
              "  </div>\n",
              "  "
            ]
          },
          "metadata": {},
          "execution_count": 19
        }
      ]
    },
    {
      "cell_type": "code",
      "source": [
        "pd.DataFrame(X_train_preprocessed).hist()"
      ],
      "metadata": {
        "colab": {
          "base_uri": "https://localhost:8080/",
          "height": 591
        },
        "id": "OwUYhNaBMogK",
        "outputId": "7fed0504-c67b-4252-87a6-ca86ee4a0a9c"
      },
      "execution_count": 20,
      "outputs": [
        {
          "output_type": "execute_result",
          "data": {
            "text/plain": [
              "array([[<Axes: title={'center': '0'}>, <Axes: title={'center': '1'}>,\n",
              "        <Axes: title={'center': '2'}>, <Axes: title={'center': '3'}>],\n",
              "       [<Axes: title={'center': '4'}>, <Axes: title={'center': '5'}>,\n",
              "        <Axes: title={'center': '6'}>, <Axes: title={'center': '7'}>],\n",
              "       [<Axes: title={'center': '8'}>, <Axes: title={'center': '9'}>,\n",
              "        <Axes: title={'center': '10'}>, <Axes: title={'center': '11'}>],\n",
              "       [<Axes: title={'center': '12'}>, <Axes: >, <Axes: >, <Axes: >]],\n",
              "      dtype=object)"
            ]
          },
          "metadata": {},
          "execution_count": 20
        },
        {
          "output_type": "display_data",
          "data": {
            "text/plain": [
              "<Figure size 640x480 with 16 Axes>"
            ],
            "image/png": "[encoded data removed]"
          },
          "metadata": {}
        }
      ]
    },
    {
      "cell_type": "code",
      "source": [
        "pd.DataFrame(X_train_preprocessed)[0].hist()"
      ],
      "metadata": {
        "colab": {
          "base_uri": "https://localhost:8080/",
          "height": 447
        },
        "id": "_kU2P4ZYMsGK",
        "outputId": "ba6a515a-2854-4784-d235-f97298181fb5"
      },
      "execution_count": 21,
      "outputs": [
        {
          "output_type": "execute_result",
          "data": {
            "text/plain": [
              "<Axes: >"
            ]
          },
          "metadata": {},
          "execution_count": 21
        },
        {
          "output_type": "display_data",
          "data": {
            "text/plain": [
              "<Figure size 640x480 with 1 Axes>"
            ],
            "image/png": "[encoded data removed]"
          },
          "metadata": {}
        }
      ]
    },
    {
      "cell_type": "code",
      "source": [
        "pd.DataFrame(X_train_preprocessed)[1].hist()"
      ],
      "metadata": {
        "colab": {
          "base_uri": "https://localhost:8080/",
          "height": 447
        },
        "id": "OYU6u0XjMwNR",
        "outputId": "7320a5fc-3bed-4de5-ae8c-2267cb1bd434"
      },
      "execution_count": 22,
      "outputs": [
        {
          "output_type": "execute_result",
          "data": {
            "text/plain": [
              "<Axes: >"
            ]
          },
          "metadata": {},
          "execution_count": 22
        },
        {
          "output_type": "display_data",
          "data": {
            "text/plain": [
              "<Figure size 640x480 with 1 Axes>"
            ],
            "image/png": "[encoded data removed]"
          },
          "metadata": {}
        }
      ]
    },
    {
      "cell_type": "code",
      "source": [
        "X_train=preprocessor(X_train)\n",
        "X_test=preprocessor(X_test)\n",
        "X_val=preprocessor(X_val)\n",
        "#Apply Machine learning Model\n",
        "from sklearn.metrics import mean_squared_error as mse\n",
        "from sklearn.linear_model import LinearRegression\n",
        "\n",
        "lm = LinearRegression().fit(X_train, y_train)\n",
        "mse(lm.predict(X_train), y_train, squared=False), mse(lm.predict(X_val), y_val, squared=False)"
      ],
      "metadata": {
        "colab": {
          "base_uri": "https://localhost:8080/"
        },
        "id": "TF-UPsL2M0EO",
        "outputId": "20c440a4-d568-46d5-cb1e-415878d3aacd"
      },
      "execution_count": 23,
      "outputs": [
        {
          "output_type": "execute_result",
          "data": {
            "text/plain": [
              "(68593.05578127228, 71382.43558330156)"
            ]
          },
          "metadata": {},
          "execution_count": 23
        }
      ]
    },
    {
      "cell_type": "code",
      "source": [
        "# KNN model\n",
        "from sklearn.neighbors import KNeighborsRegressor\n",
        "\n",
        "knn = KNeighborsRegressor(n_neighbors=10).fit(X_train, y_train)\n",
        "mse(knn.predict(X_train), y_train, squared=False), mse(knn.predict(X_val), y_val, squared=False)"
      ],
      "metadata": {
        "colab": {
          "base_uri": "https://localhost:8080/"
        },
        "id": "OPixJ8j3OkvT",
        "outputId": "2a8714a6-117d-49a7-f7e0-3c5409f38403"
      },
      "execution_count": 24,
      "outputs": [
        {
          "output_type": "execute_result",
          "data": {
            "text/plain": [
              "(52165.38764472192, 60029.364211331675)"
            ]
          },
          "metadata": {},
          "execution_count": 24
        }
      ]
    },
    {
      "cell_type": "code",
      "source": [
        "# Using Random Forest\n",
        "from sklearn.ensemble import RandomForestRegressor\n",
        "\n",
        "rfr = RandomForestRegressor(max_depth=10).fit(X_train, y_train)\n",
        "mse(rfr.predict(X_train), y_train, squared=False), mse(rfr.predict(X_val), y_val, squared=False)"
      ],
      "metadata": {
        "colab": {
          "base_uri": "https://localhost:8080/"
        },
        "id": "72BdszQUOr-N",
        "outputId": "ca695cc2-f7a1-49e3-dbfd-51af5476fcc3"
      },
      "execution_count": 25,
      "outputs": [
        {
          "output_type": "execute_result",
          "data": {
            "text/plain": [
              "(43541.31225795544, 53583.0227304751)"
            ]
          },
          "metadata": {},
          "execution_count": 25
        }
      ]
    },
    {
      "cell_type": "code",
      "source": [
        "#GradientBoostingRegressor\n",
        "from sklearn.ensemble import GradientBoostingRegressor\n",
        "\n",
        "gbr = GradientBoostingRegressor(n_estimators=250).fit(X_train, y_train)\n",
        "mse(gbr.predict(X_train), y_train, squared=False), mse(gbr.predict(X_val), y_val, squared=False)"
      ],
      "metadata": {
        "colab": {
          "base_uri": "https://localhost:8080/"
        },
        "id": "P8TVoFC0OyrB",
        "outputId": "d55e0033-26bb-4589-dec4-3fbf1b579c67"
      },
      "execution_count": 26,
      "outputs": [
        {
          "output_type": "execute_result",
          "data": {
            "text/plain": [
              "(47219.134430195925, 51310.1065094345)"
            ]
          },
          "metadata": {},
          "execution_count": 26
        }
      ]
    },
    {
      "cell_type": "code",
      "source": [
        "#Tensor Flow\n",
        "from tensorflow.keras.models import Sequential\n",
        "from tensorflow.keras.layers import *\n",
        "from tensorflow.keras.callbacks import ModelCheckpoint\n",
        "from tensorflow.keras.metrics import RootMeanSquaredError\n",
        "from tensorflow.keras.optimizers import Adam\n",
        "\n",
        "simple_nn = Sequential()\n",
        "simple_nn.add(InputLayer((13,)))\n",
        "simple_nn.add(Dense(2, 'relu'))\n",
        "simple_nn.add(Dense(1, 'linear'))\n",
        "\n",
        "opt = Adam(learning_rate=.1)\n",
        "cp = ModelCheckpoint('models/simple_nn', save_best_only=True)\n",
        "simple_nn.compile(optimizer=opt, loss='mse', metrics=[RootMeanSquaredError()])\n",
        "simple_nn.fit(x=X_train, y=y_train, validation_data=(X_val, y_val), callbacks=[cp], epochs=100)"
      ],
      "metadata": {
        "colab": {
          "base_uri": "https://localhost:8080/"
        },
        "id": "UHCHbMWyO7K3",
        "outputId": "22385937-65f0-4a3e-f74f-14d9c5ddef82"
      },
      "execution_count": 27,
      "outputs": [
        {
          "output_type": "stream",
          "name": "stdout",
          "text": [
            "Epoch 1/100\n",
            "557/563 [============================>.] - ETA: 0s - loss: 56116162560.0000 - root_mean_squared_error: 236888.5000"
          ]
        },
        {
          "output_type": "stream",
          "name": "stderr",
          "text": [
            "WARNING:absl:Found untraced functions such as _update_step_xla while saving (showing 1 of 1). These functions will not be directly callable after loading.\n"
          ]
        },
        {
          "output_type": "stream",
          "name": "stdout",
          "text": [
            "\b\b\b\b\b\b\b\b\b\b\b\b\b\b\b\b\b\b\b\b\b\b\b\b\b\b\b\b\b\b\b\b\b\b\b\b\b\b\b\b\b\b\b\b\b\b\b\b\b\b\b\b\b\b\b\b\b\b\b\b\b\b\b\b\b\b\b\b\b\b\b\b\b\b\b\b\b\b\b\b\b\b\b\b\b\b\b\b\b\b\b\b\b\b\b\b\b\b\b\b\b\b\b\b\b\b\b\b\b\b\b\b\b\b\r563/563 [==============================] - 3s 4ms/step - loss: 56077709312.0000 - root_mean_squared_error: 236807.3281 - val_loss: 56489373696.0000 - val_root_mean_squared_error: 237674.9375\n",
            "Epoch 2/100\n",
            "559/563 [============================>.] - ETA: 0s - loss: 56043626496.0000 - root_mean_squared_error: 236735.3438"
          ]
        },
        {
          "output_type": "stream",
          "name": "stderr",
          "text": [
            "WARNING:absl:Found untraced functions such as _update_step_xla while saving (showing 1 of 1). These functions will not be directly callable after loading.\n"
          ]
        },
        {
          "output_type": "stream",
          "name": "stdout",
          "text": [
            "\b\b\b\b\b\b\b\b\b\b\b\b\b\b\b\b\b\b\b\b\b\b\b\b\b\b\b\b\b\b\b\b\b\b\b\b\b\b\b\b\b\b\b\b\b\b\b\b\b\b\b\b\b\b\b\b\b\b\b\b\b\b\b\b\b\b\b\b\b\b\b\b\b\b\b\b\b\b\b\b\b\b\b\b\b\b\b\b\b\b\b\b\b\b\b\b\b\b\b\b\b\b\b\b\b\b\b\b\b\b\b\b\b\b\r563/563 [==============================] - 2s 4ms/step - loss: 56054525952.0000 - root_mean_squared_error: 236758.3750 - val_loss: 56466141184.0000 - val_root_mean_squared_error: 237626.0469\n",
            "Epoch 3/100\n",
            "559/563 [============================>.] - ETA: 0s - loss: 55995617280.0000 - root_mean_squared_error: 236633.9375"
          ]
        },
        {
          "output_type": "stream",
          "name": "stderr",
          "text": [
            "WARNING:absl:Found untraced functions such as _update_step_xla while saving (showing 1 of 1). These functions will not be directly callable after loading.\n"
          ]
        },
        {
          "output_type": "stream",
          "name": "stdout",
          "text": [
            "\b\b\b\b\b\b\b\b\b\b\b\b\b\b\b\b\b\b\b\b\b\b\b\b\b\b\b\b\b\b\b\b\b\b\b\b\b\b\b\b\b\b\b\b\b\b\b\b\b\b\b\b\b\b\b\b\b\b\b\b\b\b\b\b\b\b\b\b\b\b\b\b\b\b\b\b\b\b\b\b\b\b\b\b\b\b\b\b\b\b\b\b\b\b\b\b\b\b\b\b\b\b\b\b\b\b\b\b\b\b\b\b\b\b\r563/563 [==============================] - 2s 3ms/step - loss: 56031387648.0000 - root_mean_squared_error: 236709.5000 - val_loss: 56442949632.0000 - val_root_mean_squared_error: 237577.2500\n",
            "Epoch 4/100\n",
            "551/563 [============================>.] - ETA: 0s - loss: 56037441536.0000 - root_mean_squared_error: 236722.2812"
          ]
        },
        {
          "output_type": "stream",
          "name": "stderr",
          "text": [
            "WARNING:absl:Found untraced functions such as _update_step_xla while saving (showing 1 of 1). These functions will not be directly callable after loading.\n"
          ]
        },
        {
          "output_type": "stream",
          "name": "stdout",
          "text": [
            "\b\b\b\b\b\b\b\b\b\b\b\b\b\b\b\b\b\b\b\b\b\b\b\b\b\b\b\b\b\b\b\b\b\b\b\b\b\b\b\b\b\b\b\b\b\b\b\b\b\b\b\b\b\b\b\b\b\b\b\b\b\b\b\b\b\b\b\b\b\b\b\b\b\b\b\b\b\b\b\b\b\b\b\b\b\b\b\b\b\b\b\b\b\b\b\b\b\b\b\b\b\b\b\b\b\b\b\b\b\b\b\b\b\b\r563/563 [==============================] - 2s 3ms/step - loss: 56008257536.0000 - root_mean_squared_error: 236660.6406 - val_loss: 56419713024.0000 - val_root_mean_squared_error: 237528.3438\n",
            "Epoch 5/100\n",
            "540/563 [===========================>..] - ETA: 0s - loss: 56057323520.0000 - root_mean_squared_error: 236764.2812"
          ]
        },
        {
          "output_type": "stream",
          "name": "stderr",
          "text": [
            "WARNING:absl:Found untraced functions such as _update_step_xla while saving (showing 1 of 1). These functions will not be directly callable after loading.\n"
          ]
        },
        {
          "output_type": "stream",
          "name": "stdout",
          "text": [
            "\b\b\b\b\b\b\b\b\b\b\b\b\b\b\b\b\b\b\b\b\b\b\b\b\b\b\b\b\b\b\b\b\b\b\b\b\b\b\b\b\b\b\b\b\b\b\b\b\b\b\b\b\b\b\b\b\b\b\b\b\b\b\b\b\b\b\b\b\b\b\b\b\b\b\b\b\b\b\b\b\b\b\b\b\b\b\b\b\b\b\b\b\b\b\b\b\b\b\b\b\b\b\b\b\b\b\b\b\b\b\b\b\b\b\r563/563 [==============================] - 2s 3ms/step - loss: 55985086464.0000 - root_mean_squared_error: 236611.6719 - val_loss: 56396496896.0000 - val_root_mean_squared_error: 237479.4688\n",
            "Epoch 6/100\n",
            "556/563 [============================>.] - ETA: 0s - loss: 55997521920.0000 - root_mean_squared_error: 236637.9531"
          ]
        },
        {
          "output_type": "stream",
          "name": "stderr",
          "text": [
            "WARNING:absl:Found untraced functions such as _update_step_xla while saving (showing 1 of 1). These functions will not be directly callable after loading.\n"
          ]
        },
        {
          "output_type": "stream",
          "name": "stdout",
          "text": [
            "\b\b\b\b\b\b\b\b\b\b\b\b\b\b\b\b\b\b\b\b\b\b\b\b\b\b\b\b\b\b\b\b\b\b\b\b\b\b\b\b\b\b\b\b\b\b\b\b\b\b\b\b\b\b\b\b\b\b\b\b\b\b\b\b\b\b\b\b\b\b\b\b\b\b\b\b\b\b\b\b\b\b\b\b\b\b\b\b\b\b\b\b\b\b\b\b\b\b\b\b\b\b\b\b\b\b\b\b\b\b\b\b\b\b\r563/563 [==============================] - 2s 3ms/step - loss: 55961960448.0000 - root_mean_squared_error: 236562.7969 - val_loss: 56373301248.0000 - val_root_mean_squared_error: 237430.6250\n",
            "Epoch 7/100\n",
            "554/563 [============================>.] - ETA: 0s - loss: 55934136320.0000 - root_mean_squared_error: 236503.9844"
          ]
        },
        {
          "output_type": "stream",
          "name": "stderr",
          "text": [
            "WARNING:absl:Found untraced functions such as _update_step_xla while saving (showing 1 of 1). These functions will not be directly callable after loading.\n"
          ]
        },
        {
          "output_type": "stream",
          "name": "stdout",
          "text": [
            "\b\b\b\b\b\b\b\b\b\b\b\b\b\b\b\b\b\b\b\b\b\b\b\b\b\b\b\b\b\b\b\b\b\b\b\b\b\b\b\b\b\b\b\b\b\b\b\b\b\b\b\b\b\b\b\b\b\b\b\b\b\b\b\b\b\b\b\b\b\b\b\b\b\b\b\b\b\b\b\b\b\b\b\b\b\b\b\b\b\b\b\b\b\b\b\b\b\b\b\b\b\b\b\b\b\b\b\b\b\b\b\b\b\b\r563/563 [==============================] - 2s 3ms/step - loss: 55938850816.0000 - root_mean_squared_error: 236513.9531 - val_loss: 56350097408.0000 - val_root_mean_squared_error: 237381.7500\n",
            "Epoch 8/100\n",
            "551/563 [============================>.] - ETA: 0s - loss: 55980077056.0000 - root_mean_squared_error: 236601.0938"
          ]
        },
        {
          "output_type": "stream",
          "name": "stderr",
          "text": [
            "WARNING:absl:Found untraced functions such as _update_step_xla while saving (showing 1 of 1). These functions will not be directly callable after loading.\n"
          ]
        },
        {
          "output_type": "stream",
          "name": "stdout",
          "text": [
            "\b\b\b\b\b\b\b\b\b\b\b\b\b\b\b\b\b\b\b\b\b\b\b\b\b\b\b\b\b\b\b\b\b\b\b\b\b\b\b\b\b\b\b\b\b\b\b\b\b\b\b\b\b\b\b\b\b\b\b\b\b\b\b\b\b\b\b\b\b\b\b\b\b\b\b\b\b\b\b\b\b\b\b\b\b\b\b\b\b\b\b\b\b\b\b\b\b\b\b\b\b\b\b\b\b\b\b\b\b\b\b\b\b\b\r563/563 [==============================] - 2s 3ms/step - loss: 55915720704.0000 - root_mean_squared_error: 236465.0469 - val_loss: 56326889472.0000 - val_root_mean_squared_error: 237332.8594\n",
            "Epoch 9/100\n",
            "553/563 [============================>.] - ETA: 0s - loss: 55756447744.0000 - root_mean_squared_error: 236128.0312"
          ]
        },
        {
          "output_type": "stream",
          "name": "stderr",
          "text": [
            "WARNING:absl:Found untraced functions such as _update_step_xla while saving (showing 1 of 1). These functions will not be directly callable after loading.\n"
          ]
        },
        {
          "output_type": "stream",
          "name": "stdout",
          "text": [
            "\b\b\b\b\b\b\b\b\b\b\b\b\b\b\b\b\b\b\b\b\b\b\b\b\b\b\b\b\b\b\b\b\b\b\b\b\b\b\b\b\b\b\b\b\b\b\b\b\b\b\b\b\b\b\b\b\b\b\b\b\b\b\b\b\b\b\b\b\b\b\b\b\b\b\b\b\b\b\b\b\b\b\b\b\b\b\b\b\b\b\b\b\b\b\b\b\b\b\b\b\b\b\b\b\b\b\b\b\b\b\b\b\b\b\r563/563 [==============================] - 3s 5ms/step - loss: 55892574208.0000 - root_mean_squared_error: 236416.1094 - val_loss: 56303726592.0000 - val_root_mean_squared_error: 237284.0625\n",
            "Epoch 10/100\n",
            "542/563 [===========================>..] - ETA: 0s - loss: 55946809344.0000 - root_mean_squared_error: 236530.7812"
          ]
        },
        {
          "output_type": "stream",
          "name": "stderr",
          "text": [
            "WARNING:absl:Found untraced functions such as _update_step_xla while saving (showing 1 of 1). These functions will not be directly callable after loading.\n"
          ]
        },
        {
          "output_type": "stream",
          "name": "stdout",
          "text": [
            "\b\b\b\b\b\b\b\b\b\b\b\b\b\b\b\b\b\b\b\b\b\b\b\b\b\b\b\b\b\b\b\b\b\b\b\b\b\b\b\b\b\b\b\b\b\b\b\b\b\b\b\b\b\b\b\b\b\b\b\b\b\b\b\b\b\b\b\b\b\b\b\b\b\b\b\b\b\b\b\b\b\b\b\b\b\b\b\b\b\b\b\b\b\b\b\b\b\b\b\b\b\b\b\b\b\b\b\b\b\b\b\b\b\b\r563/563 [==============================] - 2s 3ms/step - loss: 55869464576.0000 - root_mean_squared_error: 236367.2188 - val_loss: 56280526848.0000 - val_root_mean_squared_error: 237235.1719\n",
            "Epoch 11/100\n",
            "546/563 [============================>.] - ETA: 0s - loss: 55787737088.0000 - root_mean_squared_error: 236194.2812"
          ]
        },
        {
          "output_type": "stream",
          "name": "stderr",
          "text": [
            "WARNING:absl:Found untraced functions such as _update_step_xla while saving (showing 1 of 1). These functions will not be directly callable after loading.\n"
          ]
        },
        {
          "output_type": "stream",
          "name": "stdout",
          "text": [
            "\b\b\b\b\b\b\b\b\b\b\b\b\b\b\b\b\b\b\b\b\b\b\b\b\b\b\b\b\b\b\b\b\b\b\b\b\b\b\b\b\b\b\b\b\b\b\b\b\b\b\b\b\b\b\b\b\b\b\b\b\b\b\b\b\b\b\b\b\b\b\b\b\b\b\b\b\b\b\b\b\b\b\b\b\b\b\b\b\b\b\b\b\b\b\b\b\b\b\b\b\b\b\b\b\b\b\b\b\b\b\b\b\b\b\r563/563 [==============================] - 2s 3ms/step - loss: 55846379520.0000 - root_mean_squared_error: 236318.3906 - val_loss: 56257384448.0000 - val_root_mean_squared_error: 237186.3906\n",
            "Epoch 12/100\n",
            "544/563 [===========================>..] - ETA: 0s - loss: 55737520128.0000 - root_mean_squared_error: 236087.9531"
          ]
        },
        {
          "output_type": "stream",
          "name": "stderr",
          "text": [
            "WARNING:absl:Found untraced functions such as _update_step_xla while saving (showing 1 of 1). These functions will not be directly callable after loading.\n"
          ]
        },
        {
          "output_type": "stream",
          "name": "stdout",
          "text": [
            "\b\b\b\b\b\b\b\b\b\b\b\b\b\b\b\b\b\b\b\b\b\b\b\b\b\b\b\b\b\b\b\b\b\b\b\b\b\b\b\b\b\b\b\b\b\b\b\b\b\b\b\b\b\b\b\b\b\b\b\b\b\b\b\b\b\b\b\b\b\b\b\b\b\b\b\b\b\b\b\b\b\b\b\b\b\b\b\b\b\b\b\b\b\b\b\b\b\b\b\b\b\b\b\b\b\b\b\b\b\b\b\b\b\b\r563/563 [==============================] - 2s 3ms/step - loss: 55823290368.0000 - root_mean_squared_error: 236269.5312 - val_loss: 56234213376.0000 - val_root_mean_squared_error: 237137.5469\n",
            "Epoch 13/100\n",
            "552/563 [============================>.] - ETA: 0s - loss: 55613898752.0000 - root_mean_squared_error: 235826.0000"
          ]
        },
        {
          "output_type": "stream",
          "name": "stderr",
          "text": [
            "WARNING:absl:Found untraced functions such as _update_step_xla while saving (showing 1 of 1). These functions will not be directly callable after loading.\n"
          ]
        },
        {
          "output_type": "stream",
          "name": "stdout",
          "text": [
            "\b\b\b\b\b\b\b\b\b\b\b\b\b\b\b\b\b\b\b\b\b\b\b\b\b\b\b\b\b\b\b\b\b\b\b\b\b\b\b\b\b\b\b\b\b\b\b\b\b\b\b\b\b\b\b\b\b\b\b\b\b\b\b\b\b\b\b\b\b\b\b\b\b\b\b\b\b\b\b\b\b\b\b\b\b\b\b\b\b\b\b\b\b\b\b\b\b\b\b\b\b\b\b\b\b\b\b\b\b\b\b\b\b\b\r563/563 [==============================] - 2s 3ms/step - loss: 55800188928.0000 - root_mean_squared_error: 236220.6406 - val_loss: 56211066880.0000 - val_root_mean_squared_error: 237088.7344\n",
            "Epoch 14/100\n",
            "561/563 [============================>.] - ETA: 0s - loss: 55730409472.0000 - root_mean_squared_error: 236072.8906"
          ]
        },
        {
          "output_type": "stream",
          "name": "stderr",
          "text": [
            "WARNING:absl:Found untraced functions such as _update_step_xla while saving (showing 1 of 1). These functions will not be directly callable after loading.\n"
          ]
        },
        {
          "output_type": "stream",
          "name": "stdout",
          "text": [
            "\b\b\b\b\b\b\b\b\b\b\b\b\b\b\b\b\b\b\b\b\b\b\b\b\b\b\b\b\b\b\b\b\b\b\b\b\b\b\b\b\b\b\b\b\b\b\b\b\b\b\b\b\b\b\b\b\b\b\b\b\b\b\b\b\b\b\b\b\b\b\b\b\b\b\b\b\b\b\b\b\b\b\b\b\b\b\b\b\b\b\b\b\b\b\b\b\b\b\b\b\b\b\b\b\b\b\b\b\b\b\b\b\b\b\r563/563 [==============================] - 2s 3ms/step - loss: 55777054720.0000 - root_mean_squared_error: 236171.6562 - val_loss: 56187899904.0000 - val_root_mean_squared_error: 237039.8750\n",
            "Epoch 15/100\n",
            "547/563 [============================>.] - ETA: 0s - loss: 55616114688.0000 - root_mean_squared_error: 235830.6875"
          ]
        },
        {
          "output_type": "stream",
          "name": "stderr",
          "text": [
            "WARNING:absl:Found untraced functions such as _update_step_xla while saving (showing 1 of 1). These functions will not be directly callable after loading.\n"
          ]
        },
        {
          "output_type": "stream",
          "name": "stdout",
          "text": [
            "\b\b\b\b\b\b\b\b\b\b\b\b\b\b\b\b\b\b\b\b\b\b\b\b\b\b\b\b\b\b\b\b\b\b\b\b\b\b\b\b\b\b\b\b\b\b\b\b\b\b\b\b\b\b\b\b\b\b\b\b\b\b\b\b\b\b\b\b\b\b\b\b\b\b\b\b\b\b\b\b\b\b\b\b\b\b\b\b\b\b\b\b\b\b\b\b\b\b\b\b\b\b\b\b\b\b\b\b\b\b\b\b\b\b\r563/563 [==============================] - 2s 3ms/step - loss: 55753990144.0000 - root_mean_squared_error: 236122.8281 - val_loss: 56164749312.0000 - val_root_mean_squared_error: 236991.0312\n",
            "Epoch 16/100\n",
            "554/563 [============================>.] - ETA: 0s - loss: 55804600320.0000 - root_mean_squared_error: 236229.9688"
          ]
        },
        {
          "output_type": "stream",
          "name": "stderr",
          "text": [
            "WARNING:absl:Found untraced functions such as _update_step_xla while saving (showing 1 of 1). These functions will not be directly callable after loading.\n"
          ]
        },
        {
          "output_type": "stream",
          "name": "stdout",
          "text": [
            "\b\b\b\b\b\b\b\b\b\b\b\b\b\b\b\b\b\b\b\b\b\b\b\b\b\b\b\b\b\b\b\b\b\b\b\b\b\b\b\b\b\b\b\b\b\b\b\b\b\b\b\b\b\b\b\b\b\b\b\b\b\b\b\b\b\b\b\b\b\b\b\b\b\b\b\b\b\b\b\b\b\b\b\b\b\b\b\b\b\b\b\b\b\b\b\b\b\b\b\b\b\b\b\b\b\b\b\b\b\b\b\b\b\b\r563/563 [==============================] - 2s 4ms/step - loss: 55730929664.0000 - root_mean_squared_error: 236073.9844 - val_loss: 56141611008.0000 - val_root_mean_squared_error: 236942.2031\n",
            "Epoch 17/100\n",
            "558/563 [============================>.] - ETA: 0s - loss: 55733620736.0000 - root_mean_squared_error: 236079.6875"
          ]
        },
        {
          "output_type": "stream",
          "name": "stderr",
          "text": [
            "WARNING:absl:Found untraced functions such as _update_step_xla while saving (showing 1 of 1). These functions will not be directly callable after loading.\n"
          ]
        },
        {
          "output_type": "stream",
          "name": "stdout",
          "text": [
            "\b\b\b\b\b\b\b\b\b\b\b\b\b\b\b\b\b\b\b\b\b\b\b\b\b\b\b\b\b\b\b\b\b\b\b\b\b\b\b\b\b\b\b\b\b\b\b\b\b\b\b\b\b\b\b\b\b\b\b\b\b\b\b\b\b\b\b\b\b\b\b\b\b\b\b\b\b\b\b\b\b\b\b\b\b\b\b\b\b\b\b\b\b\b\b\b\b\b\b\b\b\b\b\b\b\b\b\b\b\b\b\b\b\b\r563/563 [==============================] - 2s 4ms/step - loss: 55707860992.0000 - root_mean_squared_error: 236025.1250 - val_loss: 56118484992.0000 - val_root_mean_squared_error: 236893.4062\n",
            "Epoch 18/100\n",
            "545/563 [============================>.] - ETA: 0s - loss: 55694700544.0000 - root_mean_squared_error: 235997.2500"
          ]
        },
        {
          "output_type": "stream",
          "name": "stderr",
          "text": [
            "WARNING:absl:Found untraced functions such as _update_step_xla while saving (showing 1 of 1). These functions will not be directly callable after loading.\n"
          ]
        },
        {
          "output_type": "stream",
          "name": "stdout",
          "text": [
            "\b\b\b\b\b\b\b\b\b\b\b\b\b\b\b\b\b\b\b\b\b\b\b\b\b\b\b\b\b\b\b\b\b\b\b\b\b\b\b\b\b\b\b\b\b\b\b\b\b\b\b\b\b\b\b\b\b\b\b\b\b\b\b\b\b\b\b\b\b\b\b\b\b\b\b\b\b\b\b\b\b\b\b\b\b\b\b\b\b\b\b\b\b\b\b\b\b\b\b\b\b\b\b\b\b\b\b\b\b\b\b\b\b\b\r563/563 [==============================] - 2s 3ms/step - loss: 55684849664.0000 - root_mean_squared_error: 235976.3750 - val_loss: 56095375360.0000 - val_root_mean_squared_error: 236844.6250\n",
            "Epoch 19/100\n",
            "539/563 [===========================>..] - ETA: 0s - loss: 55692234752.0000 - root_mean_squared_error: 235992.0156"
          ]
        },
        {
          "output_type": "stream",
          "name": "stderr",
          "text": [
            "WARNING:absl:Found untraced functions such as _update_step_xla while saving (showing 1 of 1). These functions will not be directly callable after loading.\n"
          ]
        },
        {
          "output_type": "stream",
          "name": "stdout",
          "text": [
            "\b\b\b\b\b\b\b\b\b\b\b\b\b\b\b\b\b\b\b\b\b\b\b\b\b\b\b\b\b\b\b\b\b\b\b\b\b\b\b\b\b\b\b\b\b\b\b\b\b\b\b\b\b\b\b\b\b\b\b\b\b\b\b\b\b\b\b\b\b\b\b\b\b\b\b\b\b\b\b\b\b\b\b\b\b\b\b\b\b\b\b\b\b\b\b\b\b\b\b\b\b\b\b\b\b\b\b\b\b\b\b\b\b\b\r563/563 [==============================] - 2s 3ms/step - loss: 55661768704.0000 - root_mean_squared_error: 235927.4688 - val_loss: 56072286208.0000 - val_root_mean_squared_error: 236795.8750\n",
            "Epoch 20/100\n",
            "544/563 [===========================>..] - ETA: 0s - loss: 55751778304.0000 - root_mean_squared_error: 236118.1406"
          ]
        },
        {
          "output_type": "stream",
          "name": "stderr",
          "text": [
            "WARNING:absl:Found untraced functions such as _update_step_xla while saving (showing 1 of 1). These functions will not be directly callable after loading.\n"
          ]
        },
        {
          "output_type": "stream",
          "name": "stdout",
          "text": [
            "\b\b\b\b\b\b\b\b\b\b\b\b\b\b\b\b\b\b\b\b\b\b\b\b\b\b\b\b\b\b\b\b\b\b\b\b\b\b\b\b\b\b\b\b\b\b\b\b\b\b\b\b\b\b\b\b\b\b\b\b\b\b\b\b\b\b\b\b\b\b\b\b\b\b\b\b\b\b\b\b\b\b\b\b\b\b\b\b\b\b\b\b\b\b\b\b\b\b\b\b\b\b\b\b\b\b\b\b\b\b\b\b\b\b\r563/563 [==============================] - 2s 3ms/step - loss: 55638798336.0000 - root_mean_squared_error: 235878.7812 - val_loss: 56049160192.0000 - val_root_mean_squared_error: 236747.0312\n",
            "Epoch 21/100\n",
            "563/563 [==============================] - ETA: 0s - loss: 55615721472.0000 - root_mean_squared_error: 235829.8594"
          ]
        },
        {
          "output_type": "stream",
          "name": "stderr",
          "text": [
            "WARNING:absl:Found untraced functions such as _update_step_xla while saving (showing 1 of 1). These functions will not be directly callable after loading.\n"
          ]
        },
        {
          "output_type": "stream",
          "name": "stdout",
          "text": [
            "\b\b\b\b\b\b\b\b\b\b\b\b\b\b\b\b\b\b\b\b\b\b\b\b\b\b\b\b\b\b\b\b\b\b\b\b\b\b\b\b\b\b\b\b\b\b\b\b\b\b\b\b\b\b\b\b\b\b\b\b\b\b\b\b\b\b\b\b\b\b\b\b\b\b\b\b\b\b\b\b\b\b\b\b\b\b\b\b\b\b\b\b\b\b\b\b\b\b\b\b\b\b\b\b\b\b\b\b\b\b\b\b\b\b\r563/563 [==============================] - 2s 3ms/step - loss: 55615721472.0000 - root_mean_squared_error: 235829.8594 - val_loss: 56026083328.0000 - val_root_mean_squared_error: 236698.2969\n",
            "Epoch 22/100\n",
            "556/563 [============================>.] - ETA: 0s - loss: 55521202176.0000 - root_mean_squared_error: 235629.3750"
          ]
        },
        {
          "output_type": "stream",
          "name": "stderr",
          "text": [
            "WARNING:absl:Found untraced functions such as _update_step_xla while saving (showing 1 of 1). These functions will not be directly callable after loading.\n"
          ]
        },
        {
          "output_type": "stream",
          "name": "stdout",
          "text": [
            "\b\b\b\b\b\b\b\b\b\b\b\b\b\b\b\b\b\b\b\b\b\b\b\b\b\b\b\b\b\b\b\b\b\b\b\b\b\b\b\b\b\b\b\b\b\b\b\b\b\b\b\b\b\b\b\b\b\b\b\b\b\b\b\b\b\b\b\b\b\b\b\b\b\b\b\b\b\b\b\b\b\b\b\b\b\b\b\b\b\b\b\b\b\b\b\b\b\b\b\b\b\b\b\b\b\b\b\b\b\b\b\b\b\b\r563/563 [==============================] - 2s 3ms/step - loss: 55592693760.0000 - root_mean_squared_error: 235781.0312 - val_loss: 56002990080.0000 - val_root_mean_squared_error: 236649.5156\n",
            "Epoch 23/100\n",
            "542/563 [===========================>..] - ETA: 0s - loss: 55543336960.0000 - root_mean_squared_error: 235676.3438"
          ]
        },
        {
          "output_type": "stream",
          "name": "stderr",
          "text": [
            "WARNING:absl:Found untraced functions such as _update_step_xla while saving (showing 1 of 1). These functions will not be directly callable after loading.\n"
          ]
        },
        {
          "output_type": "stream",
          "name": "stdout",
          "text": [
            "\b\b\b\b\b\b\b\b\b\b\b\b\b\b\b\b\b\b\b\b\b\b\b\b\b\b\b\b\b\b\b\b\b\b\b\b\b\b\b\b\b\b\b\b\b\b\b\b\b\b\b\b\b\b\b\b\b\b\b\b\b\b\b\b\b\b\b\b\b\b\b\b\b\b\b\b\b\b\b\b\b\b\b\b\b\b\b\b\b\b\b\b\b\b\b\b\b\b\b\b\b\b\b\b\b\b\b\b\b\b\b\b\b\b\r563/563 [==============================] - 2s 3ms/step - loss: 55569661952.0000 - root_mean_squared_error: 235732.1875 - val_loss: 55979851776.0000 - val_root_mean_squared_error: 236600.6094\n",
            "Epoch 24/100\n",
            "543/563 [===========================>..] - ETA: 0s - loss: 55583047680.0000 - root_mean_squared_error: 235760.5781"
          ]
        },
        {
          "output_type": "stream",
          "name": "stderr",
          "text": [
            "WARNING:absl:Found untraced functions such as _update_step_xla while saving (showing 1 of 1). These functions will not be directly callable after loading.\n"
          ]
        },
        {
          "output_type": "stream",
          "name": "stdout",
          "text": [
            "\b\b\b\b\b\b\b\b\b\b\b\b\b\b\b\b\b\b\b\b\b\b\b\b\b\b\b\b\b\b\b\b\b\b\b\b\b\b\b\b\b\b\b\b\b\b\b\b\b\b\b\b\b\b\b\b\b\b\b\b\b\b\b\b\b\b\b\b\b\b\b\b\b\b\b\b\b\b\b\b\b\b\b\b\b\b\b\b\b\b\b\b\b\b\b\b\b\b\b\b\b\b\b\b\b\b\b\b\b\b\b\b\b\b\r563/563 [==============================] - 3s 5ms/step - loss: 55546613760.0000 - root_mean_squared_error: 235683.2969 - val_loss: 55956754432.0000 - val_root_mean_squared_error: 236551.7969\n",
            "Epoch 25/100\n",
            "556/563 [============================>.] - ETA: 0s - loss: 55517495296.0000 - root_mean_squared_error: 235621.5156"
          ]
        },
        {
          "output_type": "stream",
          "name": "stderr",
          "text": [
            "WARNING:absl:Found untraced functions such as _update_step_xla while saving (showing 1 of 1). These functions will not be directly callable after loading.\n"
          ]
        },
        {
          "output_type": "stream",
          "name": "stdout",
          "text": [
            "\b\b\b\b\b\b\b\b\b\b\b\b\b\b\b\b\b\b\b\b\b\b\b\b\b\b\b\b\b\b\b\b\b\b\b\b\b\b\b\b\b\b\b\b\b\b\b\b\b\b\b\b\b\b\b\b\b\b\b\b\b\b\b\b\b\b\b\b\b\b\b\b\b\b\b\b\b\b\b\b\b\b\b\b\b\b\b\b\b\b\b\b\b\b\b\b\b\b\b\b\b\b\b\b\b\b\b\b\b\b\b\b\b\b\r563/563 [==============================] - 2s 3ms/step - loss: 55523598336.0000 - root_mean_squared_error: 235634.4531 - val_loss: 55933693952.0000 - val_root_mean_squared_error: 236503.0469\n",
            "Epoch 26/100\n",
            "559/563 [============================>.] - ETA: 0s - loss: 55541710848.0000 - root_mean_squared_error: 235672.8906"
          ]
        },
        {
          "output_type": "stream",
          "name": "stderr",
          "text": [
            "WARNING:absl:Found untraced functions such as _update_step_xla while saving (showing 1 of 1). These functions will not be directly callable after loading.\n"
          ]
        },
        {
          "output_type": "stream",
          "name": "stdout",
          "text": [
            "\b\b\b\b\b\b\b\b\b\b\b\b\b\b\b\b\b\b\b\b\b\b\b\b\b\b\b\b\b\b\b\b\b\b\b\b\b\b\b\b\b\b\b\b\b\b\b\b\b\b\b\b\b\b\b\b\b\b\b\b\b\b\b\b\b\b\b\b\b\b\b\b\b\b\b\b\b\b\b\b\b\b\b\b\b\b\b\b\b\b\b\b\b\b\b\b\b\b\b\b\b\b\b\b\b\b\b\b\b\b\b\b\b\b\r563/563 [==============================] - 2s 4ms/step - loss: 55500619776.0000 - root_mean_squared_error: 235585.6875 - val_loss: 55910633472.0000 - val_root_mean_squared_error: 236454.2969\n",
            "Epoch 27/100\n",
            "535/563 [===========================>..] - ETA: 0s - loss: 55414980608.0000 - root_mean_squared_error: 235403.8594"
          ]
        },
        {
          "output_type": "stream",
          "name": "stderr",
          "text": [
            "WARNING:absl:Found untraced functions such as _update_step_xla while saving (showing 1 of 1). These functions will not be directly callable after loading.\n"
          ]
        },
        {
          "output_type": "stream",
          "name": "stdout",
          "text": [
            "\b\b\b\b\b\b\b\b\b\b\b\b\b\b\b\b\b\b\b\b\b\b\b\b\b\b\b\b\b\b\b\b\b\b\b\b\b\b\b\b\b\b\b\b\b\b\b\b\b\b\b\b\b\b\b\b\b\b\b\b\b\b\b\b\b\b\b\b\b\b\b\b\b\b\b\b\b\b\b\b\b\b\b\b\b\b\b\b\b\b\b\b\b\b\b\b\b\b\b\b\b\b\b\b\b\b\b\b\b\b\b\b\b\b\r563/563 [==============================] - 2s 3ms/step - loss: 55477600256.0000 - root_mean_squared_error: 235536.8281 - val_loss: 55887568896.0000 - val_root_mean_squared_error: 236405.5156\n",
            "Epoch 28/100\n",
            "554/563 [============================>.] - ETA: 0s - loss: 55440363520.0000 - root_mean_squared_error: 235457.7812"
          ]
        },
        {
          "output_type": "stream",
          "name": "stderr",
          "text": [
            "WARNING:absl:Found untraced functions such as _update_step_xla while saving (showing 1 of 1). These functions will not be directly callable after loading.\n"
          ]
        },
        {
          "output_type": "stream",
          "name": "stdout",
          "text": [
            "\b\b\b\b\b\b\b\b\b\b\b\b\b\b\b\b\b\b\b\b\b\b\b\b\b\b\b\b\b\b\b\b\b\b\b\b\b\b\b\b\b\b\b\b\b\b\b\b\b\b\b\b\b\b\b\b\b\b\b\b\b\b\b\b\b\b\b\b\b\b\b\b\b\b\b\b\b\b\b\b\b\b\b\b\b\b\b\b\b\b\b\b\b\b\b\b\b\b\b\b\b\b\b\b\b\b\b\b\b\b\b\b\b\b\r563/563 [==============================] - 2s 3ms/step - loss: 55454609408.0000 - root_mean_squared_error: 235488.0312 - val_loss: 55864496128.0000 - val_root_mean_squared_error: 236356.7188\n",
            "Epoch 29/100\n",
            "549/563 [============================>.] - ETA: 0s - loss: 55407992832.0000 - root_mean_squared_error: 235389.0312"
          ]
        },
        {
          "output_type": "stream",
          "name": "stderr",
          "text": [
            "WARNING:absl:Found untraced functions such as _update_step_xla while saving (showing 1 of 1). These functions will not be directly callable after loading.\n"
          ]
        },
        {
          "output_type": "stream",
          "name": "stdout",
          "text": [
            "\b\b\b\b\b\b\b\b\b\b\b\b\b\b\b\b\b\b\b\b\b\b\b\b\b\b\b\b\b\b\b\b\b\b\b\b\b\b\b\b\b\b\b\b\b\b\b\b\b\b\b\b\b\b\b\b\b\b\b\b\b\b\b\b\b\b\b\b\b\b\b\b\b\b\b\b\b\b\b\b\b\b\b\b\b\b\b\b\b\b\b\b\b\b\b\b\b\b\b\b\b\b\b\b\b\b\b\b\b\b\b\b\b\b\r563/563 [==============================] - 2s 3ms/step - loss: 55431593984.0000 - root_mean_squared_error: 235439.1562 - val_loss: 55841423360.0000 - val_root_mean_squared_error: 236307.9062\n",
            "Epoch 30/100\n",
            "561/563 [============================>.] - ETA: 0s - loss: 55392649216.0000 - root_mean_squared_error: 235356.4375"
          ]
        },
        {
          "output_type": "stream",
          "name": "stderr",
          "text": [
            "WARNING:absl:Found untraced functions such as _update_step_xla while saving (showing 1 of 1). These functions will not be directly callable after loading.\n"
          ]
        },
        {
          "output_type": "stream",
          "name": "stdout",
          "text": [
            "\b\b\b\b\b\b\b\b\b\b\b\b\b\b\b\b\b\b\b\b\b\b\b\b\b\b\b\b\b\b\b\b\b\b\b\b\b\b\b\b\b\b\b\b\b\b\b\b\b\b\b\b\b\b\b\b\b\b\b\b\b\b\b\b\b\b\b\b\b\b\b\b\b\b\b\b\b\b\b\b\b\b\b\b\b\b\b\b\b\b\b\b\b\b\b\b\b\b\b\b\b\b\b\b\b\b\b\b\b\b\b\b\b\b\r563/563 [==============================] - 2s 3ms/step - loss: 55408594944.0000 - root_mean_squared_error: 235390.2969 - val_loss: 55818383360.0000 - val_root_mean_squared_error: 236259.1406\n",
            "Epoch 31/100\n",
            "543/563 [===========================>..] - ETA: 0s - loss: 55307538432.0000 - root_mean_squared_error: 235175.5469"
          ]
        },
        {
          "output_type": "stream",
          "name": "stderr",
          "text": [
            "WARNING:absl:Found untraced functions such as _update_step_xla while saving (showing 1 of 1). These functions will not be directly callable after loading.\n"
          ]
        },
        {
          "output_type": "stream",
          "name": "stdout",
          "text": [
            "\b\b\b\b\b\b\b\b\b\b\b\b\b\b\b\b\b\b\b\b\b\b\b\b\b\b\b\b\b\b\b\b\b\b\b\b\b\b\b\b\b\b\b\b\b\b\b\b\b\b\b\b\b\b\b\b\b\b\b\b\b\b\b\b\b\b\b\b\b\b\b\b\b\b\b\b\b\b\b\b\b\b\b\b\b\b\b\b\b\b\b\b\b\b\b\b\b\b\b\b\b\b\b\b\b\b\b\b\b\b\b\b\b\b\r563/563 [==============================] - 2s 4ms/step - loss: 55385653248.0000 - root_mean_squared_error: 235341.5625 - val_loss: 55795343360.0000 - val_root_mean_squared_error: 236210.3750\n",
            "Epoch 32/100\n",
            "546/563 [============================>.] - ETA: 0s - loss: 55362834432.0000 - root_mean_squared_error: 235293.0781"
          ]
        },
        {
          "output_type": "stream",
          "name": "stderr",
          "text": [
            "WARNING:absl:Found untraced functions such as _update_step_xla while saving (showing 1 of 1). These functions will not be directly callable after loading.\n"
          ]
        },
        {
          "output_type": "stream",
          "name": "stdout",
          "text": [
            "\b\b\b\b\b\b\b\b\b\b\b\b\b\b\b\b\b\b\b\b\b\b\b\b\b\b\b\b\b\b\b\b\b\b\b\b\b\b\b\b\b\b\b\b\b\b\b\b\b\b\b\b\b\b\b\b\b\b\b\b\b\b\b\b\b\b\b\b\b\b\b\b\b\b\b\b\b\b\b\b\b\b\b\b\b\b\b\b\b\b\b\b\b\b\b\b\b\b\b\b\b\b\b\b\b\b\b\b\b\b\b\b\b\b\r563/563 [==============================] - 2s 3ms/step - loss: 55362666496.0000 - root_mean_squared_error: 235292.7188 - val_loss: 55772303360.0000 - val_root_mean_squared_error: 236161.6094\n",
            "Epoch 33/100\n",
            "540/563 [===========================>..] - ETA: 0s - loss: 55314518016.0000 - root_mean_squared_error: 235190.3906"
          ]
        },
        {
          "output_type": "stream",
          "name": "stderr",
          "text": [
            "WARNING:absl:Found untraced functions such as _update_step_xla while saving (showing 1 of 1). These functions will not be directly callable after loading.\n"
          ]
        },
        {
          "output_type": "stream",
          "name": "stdout",
          "text": [
            "\b\b\b\b\b\b\b\b\b\b\b\b\b\b\b\b\b\b\b\b\b\b\b\b\b\b\b\b\b\b\b\b\b\b\b\b\b\b\b\b\b\b\b\b\b\b\b\b\b\b\b\b\b\b\b\b\b\b\b\b\b\b\b\b\b\b\b\b\b\b\b\b\b\b\b\b\b\b\b\b\b\b\b\b\b\b\b\b\b\b\b\b\b\b\b\b\b\b\b\b\b\b\b\b\b\b\b\b\b\b\b\b\b\b\r563/563 [==============================] - 2s 3ms/step - loss: 55339692032.0000 - root_mean_squared_error: 235243.9062 - val_loss: 55749271552.0000 - val_root_mean_squared_error: 236112.8438\n",
            "Epoch 34/100\n",
            "563/563 [==============================] - ETA: 0s - loss: 55316692992.0000 - root_mean_squared_error: 235195.0156"
          ]
        },
        {
          "output_type": "stream",
          "name": "stderr",
          "text": [
            "WARNING:absl:Found untraced functions such as _update_step_xla while saving (showing 1 of 1). These functions will not be directly callable after loading.\n"
          ]
        },
        {
          "output_type": "stream",
          "name": "stdout",
          "text": [
            "\b\b\b\b\b\b\b\b\b\b\b\b\b\b\b\b\b\b\b\b\b\b\b\b\b\b\b\b\b\b\b\b\b\b\b\b\b\b\b\b\b\b\b\b\b\b\b\b\b\b\b\b\b\b\b\b\b\b\b\b\b\b\b\b\b\b\b\b\b\b\b\b\b\b\b\b\b\b\b\b\b\b\b\b\b\b\b\b\b\b\b\b\b\b\b\b\b\b\b\b\b\b\b\b\b\b\b\b\b\b\b\b\b\b\r563/563 [==============================] - 2s 3ms/step - loss: 55316692992.0000 - root_mean_squared_error: 235195.0156 - val_loss: 55726235648.0000 - val_root_mean_squared_error: 236064.0469\n",
            "Epoch 35/100\n",
            "532/563 [===========================>..] - ETA: 0s - loss: 55435530240.0000 - root_mean_squared_error: 235447.5156"
          ]
        },
        {
          "output_type": "stream",
          "name": "stderr",
          "text": [
            "WARNING:absl:Found untraced functions such as _update_step_xla while saving (showing 1 of 1). These functions will not be directly callable after loading.\n"
          ]
        },
        {
          "output_type": "stream",
          "name": "stdout",
          "text": [
            "\b\b\b\b\b\b\b\b\b\b\b\b\b\b\b\b\b\b\b\b\b\b\b\b\b\b\b\b\b\b\b\b\b\b\b\b\b\b\b\b\b\b\b\b\b\b\b\b\b\b\b\b\b\b\b\b\b\b\b\b\b\b\b\b\b\b\b\b\b\b\b\b\b\b\b\b\b\b\b\b\b\b\b\b\b\b\b\b\b\b\b\b\b\b\b\b\b\b\b\b\b\b\b\b\b\b\b\b\b\b\b\b\b\b\r563/563 [==============================] - 2s 3ms/step - loss: 55293792256.0000 - root_mean_squared_error: 235146.3281 - val_loss: 55703265280.0000 - val_root_mean_squared_error: 236015.3906\n",
            "Epoch 36/100\n",
            "557/563 [============================>.] - ETA: 0s - loss: 55309578240.0000 - root_mean_squared_error: 235179.8906"
          ]
        },
        {
          "output_type": "stream",
          "name": "stderr",
          "text": [
            "WARNING:absl:Found untraced functions such as _update_step_xla while saving (showing 1 of 1). These functions will not be directly callable after loading.\n"
          ]
        },
        {
          "output_type": "stream",
          "name": "stdout",
          "text": [
            "\b\b\b\b\b\b\b\b\b\b\b\b\b\b\b\b\b\b\b\b\b\b\b\b\b\b\b\b\b\b\b\b\b\b\b\b\b\b\b\b\b\b\b\b\b\b\b\b\b\b\b\b\b\b\b\b\b\b\b\b\b\b\b\b\b\b\b\b\b\b\b\b\b\b\b\b\b\b\b\b\b\b\b\b\b\b\b\b\b\b\b\b\b\b\b\b\b\b\b\b\b\b\b\b\b\b\b\b\b\b\b\b\b\b\r563/563 [==============================] - 2s 3ms/step - loss: 55270887424.0000 - root_mean_squared_error: 235097.6094 - val_loss: 55680245760.0000 - val_root_mean_squared_error: 235966.6250\n",
            "Epoch 37/100\n",
            "545/563 [============================>.] - ETA: 0s - loss: 55246942208.0000 - root_mean_squared_error: 235046.6875"
          ]
        },
        {
          "output_type": "stream",
          "name": "stderr",
          "text": [
            "WARNING:absl:Found untraced functions such as _update_step_xla while saving (showing 1 of 1). These functions will not be directly callable after loading.\n"
          ]
        },
        {
          "output_type": "stream",
          "name": "stdout",
          "text": [
            "\b\b\b\b\b\b\b\b\b\b\b\b\b\b\b\b\b\b\b\b\b\b\b\b\b\b\b\b\b\b\b\b\b\b\b\b\b\b\b\b\b\b\b\b\b\b\b\b\b\b\b\b\b\b\b\b\b\b\b\b\b\b\b\b\b\b\b\b\b\b\b\b\b\b\b\b\b\b\b\b\b\b\b\b\b\b\b\b\b\b\b\b\b\b\b\b\b\b\b\b\b\b\b\b\b\b\b\b\b\b\b\b\b\b\r563/563 [==============================] - 2s 3ms/step - loss: 55247953920.0000 - root_mean_squared_error: 235048.8281 - val_loss: 55657230336.0000 - val_root_mean_squared_error: 235917.8438\n",
            "Epoch 38/100\n",
            "542/563 [===========================>..] - ETA: 0s - loss: 55206588416.0000 - root_mean_squared_error: 234960.8281"
          ]
        },
        {
          "output_type": "stream",
          "name": "stderr",
          "text": [
            "WARNING:absl:Found untraced functions such as _update_step_xla while saving (showing 1 of 1). These functions will not be directly callable after loading.\n"
          ]
        },
        {
          "output_type": "stream",
          "name": "stdout",
          "text": [
            "\b\b\b\b\b\b\b\b\b\b\b\b\b\b\b\b\b\b\b\b\b\b\b\b\b\b\b\b\b\b\b\b\b\b\b\b\b\b\b\b\b\b\b\b\b\b\b\b\b\b\b\b\b\b\b\b\b\b\b\b\b\b\b\b\b\b\b\b\b\b\b\b\b\b\b\b\b\b\b\b\b\b\b\b\b\b\b\b\b\b\b\b\b\b\b\b\b\b\b\b\b\b\b\b\b\b\b\b\b\b\b\b\b\b\r563/563 [==============================] - 2s 4ms/step - loss: 55225004032.0000 - root_mean_squared_error: 235000.0156 - val_loss: 55634235392.0000 - val_root_mean_squared_error: 235869.1094\n",
            "Epoch 39/100\n",
            "562/563 [============================>.] - ETA: 0s - loss: 55185137664.0000 - root_mean_squared_error: 234915.1719"
          ]
        },
        {
          "output_type": "stream",
          "name": "stderr",
          "text": [
            "WARNING:absl:Found untraced functions such as _update_step_xla while saving (showing 1 of 1). These functions will not be directly callable after loading.\n"
          ]
        },
        {
          "output_type": "stream",
          "name": "stdout",
          "text": [
            "\b\b\b\b\b\b\b\b\b\b\b\b\b\b\b\b\b\b\b\b\b\b\b\b\b\b\b\b\b\b\b\b\b\b\b\b\b\b\b\b\b\b\b\b\b\b\b\b\b\b\b\b\b\b\b\b\b\b\b\b\b\b\b\b\b\b\b\b\b\b\b\b\b\b\b\b\b\b\b\b\b\b\b\b\b\b\b\b\b\b\b\b\b\b\b\b\b\b\b\b\b\b\b\b\b\b\b\b\b\b\b\b\b\b\r563/563 [==============================] - 2s 3ms/step - loss: 55202033664.0000 - root_mean_squared_error: 234951.1250 - val_loss: 55611232256.0000 - val_root_mean_squared_error: 235820.3438\n",
            "Epoch 40/100\n",
            "548/563 [============================>.] - ETA: 0s - loss: 55204098048.0000 - root_mean_squared_error: 234955.5312"
          ]
        },
        {
          "output_type": "stream",
          "name": "stderr",
          "text": [
            "WARNING:absl:Found untraced functions such as _update_step_xla while saving (showing 1 of 1). These functions will not be directly callable after loading.\n"
          ]
        },
        {
          "output_type": "stream",
          "name": "stdout",
          "text": [
            "\b\b\b\b\b\b\b\b\b\b\b\b\b\b\b\b\b\b\b\b\b\b\b\b\b\b\b\b\b\b\b\b\b\b\b\b\b\b\b\b\b\b\b\b\b\b\b\b\b\b\b\b\b\b\b\b\b\b\b\b\b\b\b\b\b\b\b\b\b\b\b\b\b\b\b\b\b\b\b\b\b\b\b\b\b\b\b\b\b\b\b\b\b\b\b\b\b\b\b\b\b\b\b\b\b\b\b\b\b\b\b\b\b\b\r563/563 [==============================] - 2s 3ms/step - loss: 55179141120.0000 - root_mean_squared_error: 234902.4062 - val_loss: 55588249600.0000 - val_root_mean_squared_error: 235771.6094\n",
            "Epoch 41/100\n",
            "560/563 [============================>.] - ETA: 0s - loss: 55157854208.0000 - root_mean_squared_error: 234857.0938"
          ]
        },
        {
          "output_type": "stream",
          "name": "stderr",
          "text": [
            "WARNING:absl:Found untraced functions such as _update_step_xla while saving (showing 1 of 1). These functions will not be directly callable after loading.\n"
          ]
        },
        {
          "output_type": "stream",
          "name": "stdout",
          "text": [
            "\b\b\b\b\b\b\b\b\b\b\b\b\b\b\b\b\b\b\b\b\b\b\b\b\b\b\b\b\b\b\b\b\b\b\b\b\b\b\b\b\b\b\b\b\b\b\b\b\b\b\b\b\b\b\b\b\b\b\b\b\b\b\b\b\b\b\b\b\b\b\b\b\b\b\b\b\b\b\b\b\b\b\b\b\b\b\b\b\b\b\b\b\b\b\b\b\b\b\b\b\b\b\b\b\b\b\b\b\b\b\b\b\b\b\r563/563 [==============================] - 2s 3ms/step - loss: 55156260864.0000 - root_mean_squared_error: 234853.7031 - val_loss: 55565275136.0000 - val_root_mean_squared_error: 235722.8750\n",
            "Epoch 42/100\n",
            "560/563 [============================>.] - ETA: 0s - loss: 55107215360.0000 - root_mean_squared_error: 234749.2656"
          ]
        },
        {
          "output_type": "stream",
          "name": "stderr",
          "text": [
            "WARNING:absl:Found untraced functions such as _update_step_xla while saving (showing 1 of 1). These functions will not be directly callable after loading.\n"
          ]
        },
        {
          "output_type": "stream",
          "name": "stdout",
          "text": [
            "\b\b\b\b\b\b\b\b\b\b\b\b\b\b\b\b\b\b\b\b\b\b\b\b\b\b\b\b\b\b\b\b\b\b\b\b\b\b\b\b\b\b\b\b\b\b\b\b\b\b\b\b\b\b\b\b\b\b\b\b\b\b\b\b\b\b\b\b\b\b\b\b\b\b\b\b\b\b\b\b\b\b\b\b\b\b\b\b\b\b\b\b\b\b\b\b\b\b\b\b\b\b\b\b\b\b\b\b\b\b\b\b\b\b\r563/563 [==============================] - 2s 3ms/step - loss: 55133315072.0000 - root_mean_squared_error: 234804.8438 - val_loss: 55542284288.0000 - val_root_mean_squared_error: 235674.1094\n",
            "Epoch 43/100\n",
            "555/563 [============================>.] - ETA: 0s - loss: 55138635776.0000 - root_mean_squared_error: 234816.1719"
          ]
        },
        {
          "output_type": "stream",
          "name": "stderr",
          "text": [
            "WARNING:absl:Found untraced functions such as _update_step_xla while saving (showing 1 of 1). These functions will not be directly callable after loading.\n"
          ]
        },
        {
          "output_type": "stream",
          "name": "stdout",
          "text": [
            "\b\b\b\b\b\b\b\b\b\b\b\b\b\b\b\b\b\b\b\b\b\b\b\b\b\b\b\b\b\b\b\b\b\b\b\b\b\b\b\b\b\b\b\b\b\b\b\b\b\b\b\b\b\b\b\b\b\b\b\b\b\b\b\b\b\b\b\b\b\b\b\b\b\b\b\b\b\b\b\b\b\b\b\b\b\b\b\b\b\b\b\b\b\b\b\b\b\b\b\b\b\b\b\b\b\b\b\b\b\b\b\b\b\b\r563/563 [==============================] - 2s 4ms/step - loss: 55110389760.0000 - root_mean_squared_error: 234756.0156 - val_loss: 55519326208.0000 - val_root_mean_squared_error: 235625.3906\n",
            "Epoch 44/100\n",
            "550/563 [============================>.] - ETA: 0s - loss: 55108804608.0000 - root_mean_squared_error: 234752.6406"
          ]
        },
        {
          "output_type": "stream",
          "name": "stderr",
          "text": [
            "WARNING:absl:Found untraced functions such as _update_step_xla while saving (showing 1 of 1). These functions will not be directly callable after loading.\n"
          ]
        },
        {
          "output_type": "stream",
          "name": "stdout",
          "text": [
            "\b\b\b\b\b\b\b\b\b\b\b\b\b\b\b\b\b\b\b\b\b\b\b\b\b\b\b\b\b\b\b\b\b\b\b\b\b\b\b\b\b\b\b\b\b\b\b\b\b\b\b\b\b\b\b\b\b\b\b\b\b\b\b\b\b\b\b\b\b\b\b\b\b\b\b\b\b\b\b\b\b\b\b\b\b\b\b\b\b\b\b\b\b\b\b\b\b\b\b\b\b\b\b\b\b\b\b\b\b\b\b\b\b\b\r563/563 [==============================] - 2s 3ms/step - loss: 55087529984.0000 - root_mean_squared_error: 234707.3281 - val_loss: 55496376320.0000 - val_root_mean_squared_error: 235576.6875\n",
            "Epoch 45/100\n",
            "554/563 [============================>.] - ETA: 0s - loss: 55092953088.0000 - root_mean_squared_error: 234718.8750"
          ]
        },
        {
          "output_type": "stream",
          "name": "stderr",
          "text": [
            "WARNING:absl:Found untraced functions such as _update_step_xla while saving (showing 1 of 1). These functions will not be directly callable after loading.\n"
          ]
        },
        {
          "output_type": "stream",
          "name": "stdout",
          "text": [
            "\b\b\b\b\b\b\b\b\b\b\b\b\b\b\b\b\b\b\b\b\b\b\b\b\b\b\b\b\b\b\b\b\b\b\b\b\b\b\b\b\b\b\b\b\b\b\b\b\b\b\b\b\b\b\b\b\b\b\b\b\b\b\b\b\b\b\b\b\b\b\b\b\b\b\b\b\b\b\b\b\b\b\b\b\b\b\b\b\b\b\b\b\b\b\b\b\b\b\b\b\b\b\b\b\b\b\b\b\b\b\b\b\b\b\r563/563 [==============================] - 2s 3ms/step - loss: 55064670208.0000 - root_mean_squared_error: 234658.6250 - val_loss: 55473438720.0000 - val_root_mean_squared_error: 235528.0000\n",
            "Epoch 46/100\n",
            "560/563 [============================>.] - ETA: 0s - loss: 55016087552.0000 - root_mean_squared_error: 234555.0781"
          ]
        },
        {
          "output_type": "stream",
          "name": "stderr",
          "text": [
            "WARNING:absl:Found untraced functions such as _update_step_xla while saving (showing 1 of 1). These functions will not be directly callable after loading.\n"
          ]
        },
        {
          "output_type": "stream",
          "name": "stdout",
          "text": [
            "\b\b\b\b\b\b\b\b\b\b\b\b\b\b\b\b\b\b\b\b\b\b\b\b\b\b\b\b\b\b\b\b\b\b\b\b\b\b\b\b\b\b\b\b\b\b\b\b\b\b\b\b\b\b\b\b\b\b\b\b\b\b\b\b\b\b\b\b\b\b\b\b\b\b\b\b\b\b\b\b\b\b\b\b\b\b\b\b\b\b\b\b\b\b\b\b\b\b\b\b\b\b\b\b\b\b\b\b\b\b\b\b\b\b\r563/563 [==============================] - 2s 4ms/step - loss: 55041789952.0000 - root_mean_squared_error: 234609.8750 - val_loss: 55450505216.0000 - val_root_mean_squared_error: 235479.3125\n",
            "Epoch 47/100\n",
            "540/563 [===========================>..] - ETA: 0s - loss: 55022170112.0000 - root_mean_squared_error: 234568.0469"
          ]
        },
        {
          "output_type": "stream",
          "name": "stderr",
          "text": [
            "WARNING:absl:Found untraced functions such as _update_step_xla while saving (showing 1 of 1). These functions will not be directly callable after loading.\n"
          ]
        },
        {
          "output_type": "stream",
          "name": "stdout",
          "text": [
            "\b\b\b\b\b\b\b\b\b\b\b\b\b\b\b\b\b\b\b\b\b\b\b\b\b\b\b\b\b\b\b\b\b\b\b\b\b\b\b\b\b\b\b\b\b\b\b\b\b\b\b\b\b\b\b\b\b\b\b\b\b\b\b\b\b\b\b\b\b\b\b\b\b\b\b\b\b\b\b\b\b\b\b\b\b\b\b\b\b\b\b\b\b\b\b\b\b\b\b\b\b\b\b\b\b\b\b\b\b\b\b\b\b\b\r563/563 [==============================] - 2s 3ms/step - loss: 55018934272.0000 - root_mean_squared_error: 234561.1562 - val_loss: 55427579904.0000 - val_root_mean_squared_error: 235430.6250\n",
            "Epoch 48/100\n",
            "563/563 [==============================] - ETA: 0s - loss: 54996049920.0000 - root_mean_squared_error: 234512.3594"
          ]
        },
        {
          "output_type": "stream",
          "name": "stderr",
          "text": [
            "WARNING:absl:Found untraced functions such as _update_step_xla while saving (showing 1 of 1). These functions will not be directly callable after loading.\n"
          ]
        },
        {
          "output_type": "stream",
          "name": "stdout",
          "text": [
            "\b\b\b\b\b\b\b\b\b\b\b\b\b\b\b\b\b\b\b\b\b\b\b\b\b\b\b\b\b\b\b\b\b\b\b\b\b\b\b\b\b\b\b\b\b\b\b\b\b\b\b\b\b\b\b\b\b\b\b\b\b\b\b\b\b\b\b\b\b\b\b\b\b\b\b\b\b\b\b\b\b\b\b\b\b\b\b\b\b\b\b\b\b\b\b\b\b\b\b\b\b\b\b\b\b\b\b\b\b\b\b\b\b\b\r563/563 [==============================] - 2s 3ms/step - loss: 54996049920.0000 - root_mean_squared_error: 234512.3594 - val_loss: 55404625920.0000 - val_root_mean_squared_error: 235381.8750\n",
            "Epoch 49/100\n",
            "546/563 [============================>.] - ETA: 0s - loss: 55044243456.0000 - root_mean_squared_error: 234615.0938"
          ]
        },
        {
          "output_type": "stream",
          "name": "stderr",
          "text": [
            "WARNING:absl:Found untraced functions such as _update_step_xla while saving (showing 1 of 1). These functions will not be directly callable after loading.\n"
          ]
        },
        {
          "output_type": "stream",
          "name": "stdout",
          "text": [
            "\b\b\b\b\b\b\b\b\b\b\b\b\b\b\b\b\b\b\b\b\b\b\b\b\b\b\b\b\b\b\b\b\b\b\b\b\b\b\b\b\b\b\b\b\b\b\b\b\b\b\b\b\b\b\b\b\b\b\b\b\b\b\b\b\b\b\b\b\b\b\b\b\b\b\b\b\b\b\b\b\b\b\b\b\b\b\b\b\b\b\b\b\b\b\b\b\b\b\b\b\b\b\b\b\b\b\b\b\b\b\b\b\b\b\r563/563 [==============================] - 2s 3ms/step - loss: 54973165568.0000 - root_mean_squared_error: 234463.5625 - val_loss: 55381688320.0000 - val_root_mean_squared_error: 235333.1406\n",
            "Epoch 50/100\n",
            "557/563 [============================>.] - ETA: 0s - loss: 54930534400.0000 - root_mean_squared_error: 234372.6406"
          ]
        },
        {
          "output_type": "stream",
          "name": "stderr",
          "text": [
            "WARNING:absl:Found untraced functions such as _update_step_xla while saving (showing 1 of 1). These functions will not be directly callable after loading.\n"
          ]
        },
        {
          "output_type": "stream",
          "name": "stdout",
          "text": [
            "\b\b\b\b\b\b\b\b\b\b\b\b\b\b\b\b\b\b\b\b\b\b\b\b\b\b\b\b\b\b\b\b\b\b\b\b\b\b\b\b\b\b\b\b\b\b\b\b\b\b\b\b\b\b\b\b\b\b\b\b\b\b\b\b\b\b\b\b\b\b\b\b\b\b\b\b\b\b\b\b\b\b\b\b\b\b\b\b\b\b\b\b\b\b\b\b\b\b\b\b\b\b\b\b\b\b\b\b\b\b\b\b\b\b\r563/563 [==============================] - 2s 3ms/step - loss: 54950301696.0000 - root_mean_squared_error: 234414.8125 - val_loss: 55358746624.0000 - val_root_mean_squared_error: 235284.3906\n",
            "Epoch 51/100\n",
            "548/563 [============================>.] - ETA: 0s - loss: 55049158656.0000 - root_mean_squared_error: 234625.5781"
          ]
        },
        {
          "output_type": "stream",
          "name": "stderr",
          "text": [
            "WARNING:absl:Found untraced functions such as _update_step_xla while saving (showing 1 of 1). These functions will not be directly callable after loading.\n"
          ]
        },
        {
          "output_type": "stream",
          "name": "stdout",
          "text": [
            "\b\b\b\b\b\b\b\b\b\b\b\b\b\b\b\b\b\b\b\b\b\b\b\b\b\b\b\b\b\b\b\b\b\b\b\b\b\b\b\b\b\b\b\b\b\b\b\b\b\b\b\b\b\b\b\b\b\b\b\b\b\b\b\b\b\b\b\b\b\b\b\b\b\b\b\b\b\b\b\b\b\b\b\b\b\b\b\b\b\b\b\b\b\b\b\b\b\b\b\b\b\b\b\b\b\b\b\b\b\b\b\b\b\b\r563/563 [==============================] - 2s 3ms/step - loss: 54927482880.0000 - root_mean_squared_error: 234366.1250 - val_loss: 55335854080.0000 - val_root_mean_squared_error: 235235.7344\n",
            "Epoch 52/100\n",
            "545/563 [============================>.] - ETA: 0s - loss: 54932516864.0000 - root_mean_squared_error: 234376.8750"
          ]
        },
        {
          "output_type": "stream",
          "name": "stderr",
          "text": [
            "WARNING:absl:Found untraced functions such as _update_step_xla while saving (showing 1 of 1). These functions will not be directly callable after loading.\n"
          ]
        },
        {
          "output_type": "stream",
          "name": "stdout",
          "text": [
            "\b\b\b\b\b\b\b\b\b\b\b\b\b\b\b\b\b\b\b\b\b\b\b\b\b\b\b\b\b\b\b\b\b\b\b\b\b\b\b\b\b\b\b\b\b\b\b\b\b\b\b\b\b\b\b\b\b\b\b\b\b\b\b\b\b\b\b\b\b\b\b\b\b\b\b\b\b\b\b\b\b\b\b\b\b\b\b\b\b\b\b\b\b\b\b\b\b\b\b\b\b\b\b\b\b\b\b\b\b\b\b\b\b\b\r563/563 [==============================] - 2s 3ms/step - loss: 54904627200.0000 - root_mean_squared_error: 234317.3594 - val_loss: 55312965632.0000 - val_root_mean_squared_error: 235187.0938\n",
            "Epoch 53/100\n",
            "548/563 [============================>.] - ETA: 0s - loss: 54895046656.0000 - root_mean_squared_error: 234296.9219"
          ]
        },
        {
          "output_type": "stream",
          "name": "stderr",
          "text": [
            "WARNING:absl:Found untraced functions such as _update_step_xla while saving (showing 1 of 1). These functions will not be directly callable after loading.\n"
          ]
        },
        {
          "output_type": "stream",
          "name": "stdout",
          "text": [
            "\b\b\b\b\b\b\b\b\b\b\b\b\b\b\b\b\b\b\b\b\b\b\b\b\b\b\b\b\b\b\b\b\b\b\b\b\b\b\b\b\b\b\b\b\b\b\b\b\b\b\b\b\b\b\b\b\b\b\b\b\b\b\b\b\b\b\b\b\b\b\b\b\b\b\b\b\b\b\b\b\b\b\b\b\b\b\b\b\b\b\b\b\b\b\b\b\b\b\b\b\b\b\b\b\b\b\b\b\b\b\b\b\b\b\r563/563 [==============================] - 2s 4ms/step - loss: 54881804288.0000 - root_mean_squared_error: 234268.6562 - val_loss: 55290060800.0000 - val_root_mean_squared_error: 235138.3906\n",
            "Epoch 54/100\n",
            "542/563 [===========================>..] - ETA: 0s - loss: 54859874304.0000 - root_mean_squared_error: 234221.8438"
          ]
        },
        {
          "output_type": "stream",
          "name": "stderr",
          "text": [
            "WARNING:absl:Found untraced functions such as _update_step_xla while saving (showing 1 of 1). These functions will not be directly callable after loading.\n"
          ]
        },
        {
          "output_type": "stream",
          "name": "stdout",
          "text": [
            "\b\b\b\b\b\b\b\b\b\b\b\b\b\b\b\b\b\b\b\b\b\b\b\b\b\b\b\b\b\b\b\b\b\b\b\b\b\b\b\b\b\b\b\b\b\b\b\b\b\b\b\b\b\b\b\b\b\b\b\b\b\b\b\b\b\b\b\b\b\b\b\b\b\b\b\b\b\b\b\b\b\b\b\b\b\b\b\b\b\b\b\b\b\b\b\b\b\b\b\b\b\b\b\b\b\b\b\b\b\b\b\b\b\b\r563/563 [==============================] - 2s 3ms/step - loss: 54858960896.0000 - root_mean_squared_error: 234219.9062 - val_loss: 55267176448.0000 - val_root_mean_squared_error: 235089.7188\n",
            "Epoch 55/100\n",
            "554/563 [============================>.] - ETA: 0s - loss: 54887043072.0000 - root_mean_squared_error: 234279.8438"
          ]
        },
        {
          "output_type": "stream",
          "name": "stderr",
          "text": [
            "WARNING:absl:Found untraced functions such as _update_step_xla while saving (showing 1 of 1). These functions will not be directly callable after loading.\n"
          ]
        },
        {
          "output_type": "stream",
          "name": "stdout",
          "text": [
            "\b\b\b\b\b\b\b\b\b\b\b\b\b\b\b\b\b\b\b\b\b\b\b\b\b\b\b\b\b\b\b\b\b\b\b\b\b\b\b\b\b\b\b\b\b\b\b\b\b\b\b\b\b\b\b\b\b\b\b\b\b\b\b\b\b\b\b\b\b\b\b\b\b\b\b\b\b\b\b\b\b\b\b\b\b\b\b\b\b\b\b\b\b\b\b\b\b\b\b\b\b\b\b\b\b\b\b\b\b\b\b\b\b\b\r563/563 [==============================] - 2s 3ms/step - loss: 54836129792.0000 - root_mean_squared_error: 234171.1562 - val_loss: 55244247040.0000 - val_root_mean_squared_error: 235040.9531\n",
            "Epoch 56/100\n",
            "561/563 [============================>.] - ETA: 0s - loss: 54834020352.0000 - root_mean_squared_error: 234166.6562"
          ]
        },
        {
          "output_type": "stream",
          "name": "stderr",
          "text": [
            "WARNING:absl:Found untraced functions such as _update_step_xla while saving (showing 1 of 1). These functions will not be directly callable after loading.\n"
          ]
        },
        {
          "output_type": "stream",
          "name": "stdout",
          "text": [
            "\b\b\b\b\b\b\b\b\b\b\b\b\b\b\b\b\b\b\b\b\b\b\b\b\b\b\b\b\b\b\b\b\b\b\b\b\b\b\b\b\b\b\b\b\b\b\b\b\b\b\b\b\b\b\b\b\b\b\b\b\b\b\b\b\b\b\b\b\b\b\b\b\b\b\b\b\b\b\b\b\b\b\b\b\b\b\b\b\b\b\b\b\b\b\b\b\b\b\b\b\b\b\b\b\b\b\b\b\b\b\b\b\b\b\r563/563 [==============================] - 2s 3ms/step - loss: 54813327360.0000 - root_mean_squared_error: 234122.4688 - val_loss: 55221354496.0000 - val_root_mean_squared_error: 234992.2500\n",
            "Epoch 57/100\n",
            "546/563 [============================>.] - ETA: 0s - loss: 54793519104.0000 - root_mean_squared_error: 234080.1562"
          ]
        },
        {
          "output_type": "stream",
          "name": "stderr",
          "text": [
            "WARNING:absl:Found untraced functions such as _update_step_xla while saving (showing 1 of 1). These functions will not be directly callable after loading.\n"
          ]
        },
        {
          "output_type": "stream",
          "name": "stdout",
          "text": [
            "\b\b\b\b\b\b\b\b\b\b\b\b\b\b\b\b\b\b\b\b\b\b\b\b\b\b\b\b\b\b\b\b\b\b\b\b\b\b\b\b\b\b\b\b\b\b\b\b\b\b\b\b\b\b\b\b\b\b\b\b\b\b\b\b\b\b\b\b\b\b\b\b\b\b\b\b\b\b\b\b\b\b\b\b\b\b\b\b\b\b\b\b\b\b\b\b\b\b\b\b\b\b\b\b\b\b\b\b\b\b\b\b\b\b\r563/563 [==============================] - 2s 3ms/step - loss: 54790479872.0000 - root_mean_squared_error: 234073.6562 - val_loss: 55198478336.0000 - val_root_mean_squared_error: 234943.5625\n",
            "Epoch 58/100\n",
            "544/563 [===========================>..] - ETA: 0s - loss: 54732607488.0000 - root_mean_squared_error: 233950.0156"
          ]
        },
        {
          "output_type": "stream",
          "name": "stderr",
          "text": [
            "WARNING:absl:Found untraced functions such as _update_step_xla while saving (showing 1 of 1). These functions will not be directly callable after loading.\n"
          ]
        },
        {
          "output_type": "stream",
          "name": "stdout",
          "text": [
            "\b\b\b\b\b\b\b\b\b\b\b\b\b\b\b\b\b\b\b\b\b\b\b\b\b\b\b\b\b\b\b\b\b\b\b\b\b\b\b\b\b\b\b\b\b\b\b\b\b\b\b\b\b\b\b\b\b\b\b\b\b\b\b\b\b\b\b\b\b\b\b\b\b\b\b\b\b\b\b\b\b\b\b\b\b\b\b\b\b\b\b\b\b\b\b\b\b\b\b\b\b\b\b\b\b\b\b\b\b\b\b\b\b\b\r563/563 [==============================] - 2s 3ms/step - loss: 54767648768.0000 - root_mean_squared_error: 234024.8906 - val_loss: 55175602176.0000 - val_root_mean_squared_error: 234894.8750\n",
            "Epoch 59/100\n",
            "561/563 [============================>.] - ETA: 0s - loss: 54799052800.0000 - root_mean_squared_error: 234091.9688"
          ]
        },
        {
          "output_type": "stream",
          "name": "stderr",
          "text": [
            "WARNING:absl:Found untraced functions such as _update_step_xla while saving (showing 1 of 1). These functions will not be directly callable after loading.\n"
          ]
        },
        {
          "output_type": "stream",
          "name": "stdout",
          "text": [
            "\b\b\b\b\b\b\b\b\b\b\b\b\b\b\b\b\b\b\b\b\b\b\b\b\b\b\b\b\b\b\b\b\b\b\b\b\b\b\b\b\b\b\b\b\b\b\b\b\b\b\b\b\b\b\b\b\b\b\b\b\b\b\b\b\b\b\b\b\b\b\b\b\b\b\b\b\b\b\b\b\b\b\b\b\b\b\b\b\b\b\b\b\b\b\b\b\b\b\b\b\b\b\b\b\b\b\b\b\b\b\b\b\b\b\r563/563 [==============================] - 2s 3ms/step - loss: 54744895488.0000 - root_mean_squared_error: 233976.2656 - val_loss: 55152738304.0000 - val_root_mean_squared_error: 234846.2031\n",
            "Epoch 60/100\n",
            "560/563 [============================>.] - ETA: 0s - loss: 54712619008.0000 - root_mean_squared_error: 233907.2812"
          ]
        },
        {
          "output_type": "stream",
          "name": "stderr",
          "text": [
            "WARNING:absl:Found untraced functions such as _update_step_xla while saving (showing 1 of 1). These functions will not be directly callable after loading.\n"
          ]
        },
        {
          "output_type": "stream",
          "name": "stdout",
          "text": [
            "\b\b\b\b\b\b\b\b\b\b\b\b\b\b\b\b\b\b\b\b\b\b\b\b\b\b\b\b\b\b\b\b\b\b\b\b\b\b\b\b\b\b\b\b\b\b\b\b\b\b\b\b\b\b\b\b\b\b\b\b\b\b\b\b\b\b\b\b\b\b\b\b\b\b\b\b\b\b\b\b\b\b\b\b\b\b\b\b\b\b\b\b\b\b\b\b\b\b\b\b\b\b\b\b\b\b\b\b\b\b\b\b\b\b\r563/563 [==============================] - 2s 4ms/step - loss: 54722076672.0000 - root_mean_squared_error: 233927.5000 - val_loss: 55129874432.0000 - val_root_mean_squared_error: 234797.5156\n",
            "Epoch 61/100\n",
            "536/563 [===========================>..] - ETA: 0s - loss: 54801129472.0000 - root_mean_squared_error: 234096.4062"
          ]
        },
        {
          "output_type": "stream",
          "name": "stderr",
          "text": [
            "WARNING:absl:Found untraced functions such as _update_step_xla while saving (showing 1 of 1). These functions will not be directly callable after loading.\n"
          ]
        },
        {
          "output_type": "stream",
          "name": "stdout",
          "text": [
            "\b\b\b\b\b\b\b\b\b\b\b\b\b\b\b\b\b\b\b\b\b\b\b\b\b\b\b\b\b\b\b\b\b\b\b\b\b\b\b\b\b\b\b\b\b\b\b\b\b\b\b\b\b\b\b\b\b\b\b\b\b\b\b\b\b\b\b\b\b\b\b\b\b\b\b\b\b\b\b\b\b\b\b\b\b\b\b\b\b\b\b\b\b\b\b\b\b\b\b\b\b\b\b\b\b\b\b\b\b\b\b\b\b\b\r563/563 [==============================] - 2s 3ms/step - loss: 54699302912.0000 - root_mean_squared_error: 233878.8281 - val_loss: 55107059712.0000 - val_root_mean_squared_error: 234748.9219\n",
            "Epoch 62/100\n",
            "545/563 [============================>.] - ETA: 0s - loss: 54525865984.0000 - root_mean_squared_error: 233507.7500"
          ]
        },
        {
          "output_type": "stream",
          "name": "stderr",
          "text": [
            "WARNING:absl:Found untraced functions such as _update_step_xla while saving (showing 1 of 1). These functions will not be directly callable after loading.\n"
          ]
        },
        {
          "output_type": "stream",
          "name": "stdout",
          "text": [
            "\b\b\b\b\b\b\b\b\b\b\b\b\b\b\b\b\b\b\b\b\b\b\b\b\b\b\b\b\b\b\b\b\b\b\b\b\b\b\b\b\b\b\b\b\b\b\b\b\b\b\b\b\b\b\b\b\b\b\b\b\b\b\b\b\b\b\b\b\b\b\b\b\b\b\b\b\b\b\b\b\b\b\b\b\b\b\b\b\b\b\b\b\b\b\b\b\b\b\b\b\b\b\b\b\b\b\b\b\b\b\b\b\b\b\r563/563 [==============================] - 2s 3ms/step - loss: 54676525056.0000 - root_mean_squared_error: 233830.1250 - val_loss: 55084208128.0000 - val_root_mean_squared_error: 234700.2500\n",
            "Epoch 63/100\n",
            "560/563 [============================>.] - ETA: 0s - loss: 54688698368.0000 - root_mean_squared_error: 233856.1562"
          ]
        },
        {
          "output_type": "stream",
          "name": "stderr",
          "text": [
            "WARNING:absl:Found untraced functions such as _update_step_xla while saving (showing 1 of 1). These functions will not be directly callable after loading.\n"
          ]
        },
        {
          "output_type": "stream",
          "name": "stdout",
          "text": [
            "\b\b\b\b\b\b\b\b\b\b\b\b\b\b\b\b\b\b\b\b\b\b\b\b\b\b\b\b\b\b\b\b\b\b\b\b\b\b\b\b\b\b\b\b\b\b\b\b\b\b\b\b\b\b\b\b\b\b\b\b\b\b\b\b\b\b\b\b\b\b\b\b\b\b\b\b\b\b\b\b\b\b\b\b\b\b\b\b\b\b\b\b\b\b\b\b\b\b\b\b\b\b\b\b\b\b\b\b\b\b\b\b\b\b\r563/563 [==============================] - 2s 3ms/step - loss: 54653759488.0000 - root_mean_squared_error: 233781.4375 - val_loss: 55061340160.0000 - val_root_mean_squared_error: 234651.5312\n",
            "Epoch 64/100\n",
            "547/563 [============================>.] - ETA: 0s - loss: 54579523584.0000 - root_mean_squared_error: 233622.6094"
          ]
        },
        {
          "output_type": "stream",
          "name": "stderr",
          "text": [
            "WARNING:absl:Found untraced functions such as _update_step_xla while saving (showing 1 of 1). These functions will not be directly callable after loading.\n"
          ]
        },
        {
          "output_type": "stream",
          "name": "stdout",
          "text": [
            "\b\b\b\b\b\b\b\b\b\b\b\b\b\b\b\b\b\b\b\b\b\b\b\b\b\b\b\b\b\b\b\b\b\b\b\b\b\b\b\b\b\b\b\b\b\b\b\b\b\b\b\b\b\b\b\b\b\b\b\b\b\b\b\b\b\b\b\b\b\b\b\b\b\b\b\b\b\b\b\b\b\b\b\b\b\b\b\b\b\b\b\b\b\b\b\b\b\b\b\b\b\b\b\b\b\b\b\b\b\b\b\b\b\b\r563/563 [==============================] - 2s 3ms/step - loss: 54630998016.0000 - root_mean_squared_error: 233732.7500 - val_loss: 55038517248.0000 - val_root_mean_squared_error: 234602.8906\n",
            "Epoch 65/100\n",
            "543/563 [===========================>..] - ETA: 0s - loss: 54610505728.0000 - root_mean_squared_error: 233688.9062"
          ]
        },
        {
          "output_type": "stream",
          "name": "stderr",
          "text": [
            "WARNING:absl:Found untraced functions such as _update_step_xla while saving (showing 1 of 1). These functions will not be directly callable after loading.\n"
          ]
        },
        {
          "output_type": "stream",
          "name": "stdout",
          "text": [
            "\b\b\b\b\b\b\b\b\b\b\b\b\b\b\b\b\b\b\b\b\b\b\b\b\b\b\b\b\b\b\b\b\b\b\b\b\b\b\b\b\b\b\b\b\b\b\b\b\b\b\b\b\b\b\b\b\b\b\b\b\b\b\b\b\b\b\b\b\b\b\b\b\b\b\b\b\b\b\b\b\b\b\b\b\b\b\b\b\b\b\b\b\b\b\b\b\b\b\b\b\b\b\b\b\b\b\b\b\b\b\b\b\b\b\r563/563 [==============================] - 2s 3ms/step - loss: 54608191488.0000 - root_mean_squared_error: 233683.9531 - val_loss: 55015657472.0000 - val_root_mean_squared_error: 234554.1719\n",
            "Epoch 66/100\n",
            "558/563 [============================>.] - ETA: 0s - loss: 54582464512.0000 - root_mean_squared_error: 233628.9062"
          ]
        },
        {
          "output_type": "stream",
          "name": "stderr",
          "text": [
            "WARNING:absl:Found untraced functions such as _update_step_xla while saving (showing 1 of 1). These functions will not be directly callable after loading.\n"
          ]
        },
        {
          "output_type": "stream",
          "name": "stdout",
          "text": [
            "\b\b\b\b\b\b\b\b\b\b\b\b\b\b\b\b\b\b\b\b\b\b\b\b\b\b\b\b\b\b\b\b\b\b\b\b\b\b\b\b\b\b\b\b\b\b\b\b\b\b\b\b\b\b\b\b\b\b\b\b\b\b\b\b\b\b\b\b\b\b\b\b\b\b\b\b\b\b\b\b\b\b\b\b\b\b\b\b\b\b\b\b\b\b\b\b\b\b\b\b\b\b\b\b\b\b\b\b\b\b\b\b\b\b\r563/563 [==============================] - 2s 3ms/step - loss: 54585442304.0000 - root_mean_squared_error: 233635.2812 - val_loss: 54992850944.0000 - val_root_mean_squared_error: 234505.5469\n",
            "Epoch 67/100\n",
            "563/563 [==============================] - ETA: 0s - loss: 54562717696.0000 - root_mean_squared_error: 233586.6406"
          ]
        },
        {
          "output_type": "stream",
          "name": "stderr",
          "text": [
            "WARNING:absl:Found untraced functions such as _update_step_xla while saving (showing 1 of 1). These functions will not be directly callable after loading.\n"
          ]
        },
        {
          "output_type": "stream",
          "name": "stdout",
          "text": [
            "\b\b\b\b\b\b\b\b\b\b\b\b\b\b\b\b\b\b\b\b\b\b\b\b\b\b\b\b\b\b\b\b\b\b\b\b\b\b\b\b\b\b\b\b\b\b\b\b\b\b\b\b\b\b\b\b\b\b\b\b\b\b\b\b\b\b\b\b\b\b\b\b\b\b\b\b\b\b\b\b\b\b\b\b\b\b\b\b\b\b\b\b\b\b\b\b\b\b\b\b\b\b\b\b\b\b\b\b\b\b\b\b\b\b\r563/563 [==============================] - 2s 3ms/step - loss: 54562717696.0000 - root_mean_squared_error: 233586.6406 - val_loss: 54970052608.0000 - val_root_mean_squared_error: 234456.9375\n",
            "Epoch 68/100\n",
            "557/563 [============================>.] - ETA: 0s - loss: 54587654144.0000 - root_mean_squared_error: 233640.0156"
          ]
        },
        {
          "output_type": "stream",
          "name": "stderr",
          "text": [
            "WARNING:absl:Found untraced functions such as _update_step_xla while saving (showing 1 of 1). These functions will not be directly callable after loading.\n"
          ]
        },
        {
          "output_type": "stream",
          "name": "stdout",
          "text": [
            "\b\b\b\b\b\b\b\b\b\b\b\b\b\b\b\b\b\b\b\b\b\b\b\b\b\b\b\b\b\b\b\b\b\b\b\b\b\b\b\b\b\b\b\b\b\b\b\b\b\b\b\b\b\b\b\b\b\b\b\b\b\b\b\b\b\b\b\b\b\b\b\b\b\b\b\b\b\b\b\b\b\b\b\b\b\b\b\b\b\b\b\b\b\b\b\b\b\b\b\b\b\b\b\b\b\b\b\b\b\b\b\b\b\b\r563/563 [==============================] - 2s 4ms/step - loss: 54539968512.0000 - root_mean_squared_error: 233537.9375 - val_loss: 54947229696.0000 - val_root_mean_squared_error: 234408.2500\n",
            "Epoch 69/100\n",
            "539/563 [===========================>..] - ETA: 0s - loss: 54491492352.0000 - root_mean_squared_error: 233434.1250"
          ]
        },
        {
          "output_type": "stream",
          "name": "stderr",
          "text": [
            "WARNING:absl:Found untraced functions such as _update_step_xla while saving (showing 1 of 1). These functions will not be directly callable after loading.\n"
          ]
        },
        {
          "output_type": "stream",
          "name": "stdout",
          "text": [
            "\b\b\b\b\b\b\b\b\b\b\b\b\b\b\b\b\b\b\b\b\b\b\b\b\b\b\b\b\b\b\b\b\b\b\b\b\b\b\b\b\b\b\b\b\b\b\b\b\b\b\b\b\b\b\b\b\b\b\b\b\b\b\b\b\b\b\b\b\b\b\b\b\b\b\b\b\b\b\b\b\b\b\b\b\b\b\b\b\b\b\b\b\b\b\b\b\b\b\b\b\b\b\b\b\b\b\b\b\b\b\b\b\b\b\r563/563 [==============================] - 2s 3ms/step - loss: 54517202944.0000 - root_mean_squared_error: 233489.1875 - val_loss: 54924443648.0000 - val_root_mean_squared_error: 234359.6406\n",
            "Epoch 70/100\n",
            "546/563 [============================>.] - ETA: 0s - loss: 54496002048.0000 - root_mean_squared_error: 233443.7812"
          ]
        },
        {
          "output_type": "stream",
          "name": "stderr",
          "text": [
            "WARNING:absl:Found untraced functions such as _update_step_xla while saving (showing 1 of 1). These functions will not be directly callable after loading.\n"
          ]
        },
        {
          "output_type": "stream",
          "name": "stdout",
          "text": [
            "\b\b\b\b\b\b\b\b\b\b\b\b\b\b\b\b\b\b\b\b\b\b\b\b\b\b\b\b\b\b\b\b\b\b\b\b\b\b\b\b\b\b\b\b\b\b\b\b\b\b\b\b\b\b\b\b\b\b\b\b\b\b\b\b\b\b\b\b\b\b\b\b\b\b\b\b\b\b\b\b\b\b\b\b\b\b\b\b\b\b\b\b\b\b\b\b\b\b\b\b\b\b\b\b\b\b\b\b\b\b\b\b\b\b\r563/563 [==============================] - 2s 3ms/step - loss: 54494547968.0000 - root_mean_squared_error: 233440.6719 - val_loss: 54901653504.0000 - val_root_mean_squared_error: 234311.0156\n",
            "Epoch 71/100\n",
            "548/563 [============================>.] - ETA: 0s - loss: 54562451456.0000 - root_mean_squared_error: 233586.0625"
          ]
        },
        {
          "output_type": "stream",
          "name": "stderr",
          "text": [
            "WARNING:absl:Found untraced functions such as _update_step_xla while saving (showing 1 of 1). These functions will not be directly callable after loading.\n"
          ]
        },
        {
          "output_type": "stream",
          "name": "stdout",
          "text": [
            "\b\b\b\b\b\b\b\b\b\b\b\b\b\b\b\b\b\b\b\b\b\b\b\b\b\b\b\b\b\b\b\b\b\b\b\b\b\b\b\b\b\b\b\b\b\b\b\b\b\b\b\b\b\b\b\b\b\b\b\b\b\b\b\b\b\b\b\b\b\b\b\b\b\b\b\b\b\b\b\b\b\b\b\b\b\b\b\b\b\b\b\b\b\b\b\b\b\b\b\b\b\b\b\b\b\b\b\b\b\b\b\b\b\b\r563/563 [==============================] - 2s 3ms/step - loss: 54471774208.0000 - root_mean_squared_error: 233391.8906 - val_loss: 54878838784.0000 - val_root_mean_squared_error: 234262.3281\n",
            "Epoch 72/100\n",
            "536/563 [===========================>..] - ETA: 0s - loss: 54633537536.0000 - root_mean_squared_error: 233738.1875"
          ]
        },
        {
          "output_type": "stream",
          "name": "stderr",
          "text": [
            "WARNING:absl:Found untraced functions such as _update_step_xla while saving (showing 1 of 1). These functions will not be directly callable after loading.\n"
          ]
        },
        {
          "output_type": "stream",
          "name": "stdout",
          "text": [
            "\b\b\b\b\b\b\b\b\b\b\b\b\b\b\b\b\b\b\b\b\b\b\b\b\b\b\b\b\b\b\b\b\b\b\b\b\b\b\b\b\b\b\b\b\b\b\b\b\b\b\b\b\b\b\b\b\b\b\b\b\b\b\b\b\b\b\b\b\b\b\b\b\b\b\b\b\b\b\b\b\b\b\b\b\b\b\b\b\b\b\b\b\b\b\b\b\b\b\b\b\b\b\b\b\b\b\b\b\b\b\b\b\b\b\r563/563 [==============================] - 2s 3ms/step - loss: 54449053696.0000 - root_mean_squared_error: 233343.2031 - val_loss: 54856065024.0000 - val_root_mean_squared_error: 234213.7188\n",
            "Epoch 73/100\n",
            "535/563 [===========================>..] - ETA: 0s - loss: 54315483136.0000 - root_mean_squared_error: 233056.8281"
          ]
        },
        {
          "output_type": "stream",
          "name": "stderr",
          "text": [
            "WARNING:absl:Found untraced functions such as _update_step_xla while saving (showing 1 of 1). These functions will not be directly callable after loading.\n"
          ]
        },
        {
          "output_type": "stream",
          "name": "stdout",
          "text": [
            "\b\b\b\b\b\b\b\b\b\b\b\b\b\b\b\b\b\b\b\b\b\b\b\b\b\b\b\b\b\b\b\b\b\b\b\b\b\b\b\b\b\b\b\b\b\b\b\b\b\b\b\b\b\b\b\b\b\b\b\b\b\b\b\b\b\b\b\b\b\b\b\b\b\b\b\b\b\b\b\b\b\b\b\b\b\b\b\b\b\b\b\b\b\b\b\b\b\b\b\b\b\b\b\b\b\b\b\b\b\b\b\b\b\b\r563/563 [==============================] - 2s 3ms/step - loss: 54426386432.0000 - root_mean_squared_error: 233294.6406 - val_loss: 54833295360.0000 - val_root_mean_squared_error: 234165.1094\n",
            "Epoch 74/100\n",
            "557/563 [============================>.] - ETA: 0s - loss: 54366388224.0000 - root_mean_squared_error: 233166.0156"
          ]
        },
        {
          "output_type": "stream",
          "name": "stderr",
          "text": [
            "WARNING:absl:Found untraced functions such as _update_step_xla while saving (showing 1 of 1). These functions will not be directly callable after loading.\n"
          ]
        },
        {
          "output_type": "stream",
          "name": "stdout",
          "text": [
            "\b\b\b\b\b\b\b\b\b\b\b\b\b\b\b\b\b\b\b\b\b\b\b\b\b\b\b\b\b\b\b\b\b\b\b\b\b\b\b\b\b\b\b\b\b\b\b\b\b\b\b\b\b\b\b\b\b\b\b\b\b\b\b\b\b\b\b\b\b\b\b\b\b\b\b\b\b\b\b\b\b\b\b\b\b\b\b\b\b\b\b\b\b\b\b\b\b\b\b\b\b\b\b\b\b\b\b\b\b\b\b\b\b\b\r563/563 [==============================] - 2s 3ms/step - loss: 54403637248.0000 - root_mean_squared_error: 233245.8750 - val_loss: 54810525696.0000 - val_root_mean_squared_error: 234116.4844\n",
            "Epoch 75/100\n",
            "554/563 [============================>.] - ETA: 0s - loss: 54474440704.0000 - root_mean_squared_error: 233397.6094"
          ]
        },
        {
          "output_type": "stream",
          "name": "stderr",
          "text": [
            "WARNING:absl:Found untraced functions such as _update_step_xla while saving (showing 1 of 1). These functions will not be directly callable after loading.\n"
          ]
        },
        {
          "output_type": "stream",
          "name": "stdout",
          "text": [
            "\b\b\b\b\b\b\b\b\b\b\b\b\b\b\b\b\b\b\b\b\b\b\b\b\b\b\b\b\b\b\b\b\b\b\b\b\b\b\b\b\b\b\b\b\b\b\b\b\b\b\b\b\b\b\b\b\b\b\b\b\b\b\b\b\b\b\b\b\b\b\b\b\b\b\b\b\b\b\b\b\b\b\b\b\b\b\b\b\b\b\b\b\b\b\b\b\b\b\b\b\b\b\b\b\b\b\b\b\b\b\b\b\b\b\r563/563 [==============================] - 2s 3ms/step - loss: 54380961792.0000 - root_mean_squared_error: 233197.2656 - val_loss: 54787743744.0000 - val_root_mean_squared_error: 234067.8125\n",
            "Epoch 76/100\n",
            "558/563 [============================>.] - ETA: 0s - loss: 54385598464.0000 - root_mean_squared_error: 233207.2031"
          ]
        },
        {
          "output_type": "stream",
          "name": "stderr",
          "text": [
            "WARNING:absl:Found untraced functions such as _update_step_xla while saving (showing 1 of 1). These functions will not be directly callable after loading.\n"
          ]
        },
        {
          "output_type": "stream",
          "name": "stdout",
          "text": [
            "\b\b\b\b\b\b\b\b\b\b\b\b\b\b\b\b\b\b\b\b\b\b\b\b\b\b\b\b\b\b\b\b\b\b\b\b\b\b\b\b\b\b\b\b\b\b\b\b\b\b\b\b\b\b\b\b\b\b\b\b\b\b\b\b\b\b\b\b\b\b\b\b\b\b\b\b\b\b\b\b\b\b\b\b\b\b\b\b\b\b\b\b\b\b\b\b\b\b\b\b\b\b\b\b\b\b\b\b\b\b\b\b\b\b\r563/563 [==============================] - 2s 4ms/step - loss: 54358315008.0000 - root_mean_squared_error: 233148.7031 - val_loss: 54764994560.0000 - val_root_mean_squared_error: 234019.2188\n",
            "Epoch 77/100\n",
            "559/563 [============================>.] - ETA: 0s - loss: 54341058560.0000 - root_mean_squared_error: 233111.6875"
          ]
        },
        {
          "output_type": "stream",
          "name": "stderr",
          "text": [
            "WARNING:absl:Found untraced functions such as _update_step_xla while saving (showing 1 of 1). These functions will not be directly callable after loading.\n"
          ]
        },
        {
          "output_type": "stream",
          "name": "stdout",
          "text": [
            "\b\b\b\b\b\b\b\b\b\b\b\b\b\b\b\b\b\b\b\b\b\b\b\b\b\b\b\b\b\b\b\b\b\b\b\b\b\b\b\b\b\b\b\b\b\b\b\b\b\b\b\b\b\b\b\b\b\b\b\b\b\b\b\b\b\b\b\b\b\b\b\b\b\b\b\b\b\b\b\b\b\b\b\b\b\b\b\b\b\b\b\b\b\b\b\b\b\b\b\b\b\b\b\b\b\b\b\b\b\b\b\b\b\b\r563/563 [==============================] - 2s 3ms/step - loss: 54335569920.0000 - root_mean_squared_error: 233099.9062 - val_loss: 54742233088.0000 - val_root_mean_squared_error: 233970.5781\n",
            "Epoch 78/100\n",
            "539/563 [===========================>..] - ETA: 0s - loss: 54330912768.0000 - root_mean_squared_error: 233089.9219"
          ]
        },
        {
          "output_type": "stream",
          "name": "stderr",
          "text": [
            "WARNING:absl:Found untraced functions such as _update_step_xla while saving (showing 1 of 1). These functions will not be directly callable after loading.\n"
          ]
        },
        {
          "output_type": "stream",
          "name": "stdout",
          "text": [
            "\b\b\b\b\b\b\b\b\b\b\b\b\b\b\b\b\b\b\b\b\b\b\b\b\b\b\b\b\b\b\b\b\b\b\b\b\b\b\b\b\b\b\b\b\b\b\b\b\b\b\b\b\b\b\b\b\b\b\b\b\b\b\b\b\b\b\b\b\b\b\b\b\b\b\b\b\b\b\b\b\b\b\b\b\b\b\b\b\b\b\b\b\b\b\b\b\b\b\b\b\b\b\b\b\b\b\b\b\b\b\b\b\b\b\r563/563 [==============================] - 2s 3ms/step - loss: 54312902656.0000 - root_mean_squared_error: 233051.2812 - val_loss: 54719496192.0000 - val_root_mean_squared_error: 233921.9844\n",
            "Epoch 79/100\n",
            "536/563 [===========================>..] - ETA: 0s - loss: 54327664640.0000 - root_mean_squared_error: 233082.9531"
          ]
        },
        {
          "output_type": "stream",
          "name": "stderr",
          "text": [
            "WARNING:absl:Found untraced functions such as _update_step_xla while saving (showing 1 of 1). These functions will not be directly callable after loading.\n"
          ]
        },
        {
          "output_type": "stream",
          "name": "stdout",
          "text": [
            "\b\b\b\b\b\b\b\b\b\b\b\b\b\b\b\b\b\b\b\b\b\b\b\b\b\b\b\b\b\b\b\b\b\b\b\b\b\b\b\b\b\b\b\b\b\b\b\b\b\b\b\b\b\b\b\b\b\b\b\b\b\b\b\b\b\b\b\b\b\b\b\b\b\b\b\b\b\b\b\b\b\b\b\b\b\b\b\b\b\b\b\b\b\b\b\b\b\b\b\b\b\b\b\b\b\b\b\b\b\b\b\b\b\b\r563/563 [==============================] - 2s 3ms/step - loss: 54290169856.0000 - root_mean_squared_error: 233002.5156 - val_loss: 54696751104.0000 - val_root_mean_squared_error: 233873.3594\n",
            "Epoch 80/100\n",
            "540/563 [===========================>..] - ETA: 0s - loss: 54233432064.0000 - root_mean_squared_error: 232880.7188"
          ]
        },
        {
          "output_type": "stream",
          "name": "stderr",
          "text": [
            "WARNING:absl:Found untraced functions such as _update_step_xla while saving (showing 1 of 1). These functions will not be directly callable after loading.\n"
          ]
        },
        {
          "output_type": "stream",
          "name": "stdout",
          "text": [
            "\b\b\b\b\b\b\b\b\b\b\b\b\b\b\b\b\b\b\b\b\b\b\b\b\b\b\b\b\b\b\b\b\b\b\b\b\b\b\b\b\b\b\b\b\b\b\b\b\b\b\b\b\b\b\b\b\b\b\b\b\b\b\b\b\b\b\b\b\b\b\b\b\b\b\b\b\b\b\b\b\b\b\b\b\b\b\b\b\b\b\b\b\b\b\b\b\b\b\b\b\b\b\b\b\b\b\b\b\b\b\b\b\b\b\r563/563 [==============================] - 2s 3ms/step - loss: 54267502592.0000 - root_mean_squared_error: 232953.8594 - val_loss: 54674042880.0000 - val_root_mean_squared_error: 233824.8125\n",
            "Epoch 81/100\n",
            "543/563 [===========================>..] - ETA: 0s - loss: 54202331136.0000 - root_mean_squared_error: 232813.9375"
          ]
        },
        {
          "output_type": "stream",
          "name": "stderr",
          "text": [
            "WARNING:absl:Found untraced functions such as _update_step_xla while saving (showing 1 of 1). These functions will not be directly callable after loading.\n"
          ]
        },
        {
          "output_type": "stream",
          "name": "stdout",
          "text": [
            "\b\b\b\b\b\b\b\b\b\b\b\b\b\b\b\b\b\b\b\b\b\b\b\b\b\b\b\b\b\b\b\b\b\b\b\b\b\b\b\b\b\b\b\b\b\b\b\b\b\b\b\b\b\b\b\b\b\b\b\b\b\b\b\b\b\b\b\b\b\b\b\b\b\b\b\b\b\b\b\b\b\b\b\b\b\b\b\b\b\b\b\b\b\b\b\b\b\b\b\b\b\b\b\b\b\b\b\b\b\b\b\b\b\b\r563/563 [==============================] - 2s 3ms/step - loss: 54244904960.0000 - root_mean_squared_error: 232905.3594 - val_loss: 54651318272.0000 - val_root_mean_squared_error: 233776.2188\n",
            "Epoch 82/100\n",
            "540/563 [===========================>..] - ETA: 0s - loss: 54210220032.0000 - root_mean_squared_error: 232830.8906"
          ]
        },
        {
          "output_type": "stream",
          "name": "stderr",
          "text": [
            "WARNING:absl:Found untraced functions such as _update_step_xla while saving (showing 1 of 1). These functions will not be directly callable after loading.\n"
          ]
        },
        {
          "output_type": "stream",
          "name": "stdout",
          "text": [
            "\b\b\b\b\b\b\b\b\b\b\b\b\b\b\b\b\b\b\b\b\b\b\b\b\b\b\b\b\b\b\b\b\b\b\b\b\b\b\b\b\b\b\b\b\b\b\b\b\b\b\b\b\b\b\b\b\b\b\b\b\b\b\b\b\b\b\b\b\b\b\b\b\b\b\b\b\b\b\b\b\b\b\b\b\b\b\b\b\b\b\b\b\b\b\b\b\b\b\b\b\b\b\b\b\b\b\b\b\b\b\b\b\b\b\r563/563 [==============================] - 2s 3ms/step - loss: 54222254080.0000 - root_mean_squared_error: 232856.7188 - val_loss: 54628605952.0000 - val_root_mean_squared_error: 233727.6250\n",
            "Epoch 83/100\n",
            "561/563 [============================>.] - ETA: 0s - loss: 54189854720.0000 - root_mean_squared_error: 232787.1406"
          ]
        },
        {
          "output_type": "stream",
          "name": "stderr",
          "text": [
            "WARNING:absl:Found untraced functions such as _update_step_xla while saving (showing 1 of 1). These functions will not be directly callable after loading.\n"
          ]
        },
        {
          "output_type": "stream",
          "name": "stdout",
          "text": [
            "\b\b\b\b\b\b\b\b\b\b\b\b\b\b\b\b\b\b\b\b\b\b\b\b\b\b\b\b\b\b\b\b\b\b\b\b\b\b\b\b\b\b\b\b\b\b\b\b\b\b\b\b\b\b\b\b\b\b\b\b\b\b\b\b\b\b\b\b\b\b\b\b\b\b\b\b\b\b\b\b\b\b\b\b\b\b\b\b\b\b\b\b\b\b\b\b\b\b\b\b\b\b\b\b\b\b\b\b\b\b\b\b\b\b\r563/563 [==============================] - 2s 4ms/step - loss: 54199599104.0000 - root_mean_squared_error: 232808.0781 - val_loss: 54605889536.0000 - val_root_mean_squared_error: 233679.0312\n",
            "Epoch 84/100\n",
            "553/563 [============================>.] - ETA: 0s - loss: 54129553408.0000 - root_mean_squared_error: 232657.5938"
          ]
        },
        {
          "output_type": "stream",
          "name": "stderr",
          "text": [
            "WARNING:absl:Found untraced functions such as _update_step_xla while saving (showing 1 of 1). These functions will not be directly callable after loading.\n"
          ]
        },
        {
          "output_type": "stream",
          "name": "stdout",
          "text": [
            "\b\b\b\b\b\b\b\b\b\b\b\b\b\b\b\b\b\b\b\b\b\b\b\b\b\b\b\b\b\b\b\b\b\b\b\b\b\b\b\b\b\b\b\b\b\b\b\b\b\b\b\b\b\b\b\b\b\b\b\b\b\b\b\b\b\b\b\b\b\b\b\b\b\b\b\b\b\b\b\b\b\b\b\b\b\b\b\b\b\b\b\b\b\b\b\b\b\b\b\b\b\b\b\b\b\b\b\b\b\b\b\b\b\b\r563/563 [==============================] - 2s 3ms/step - loss: 54176964608.0000 - root_mean_squared_error: 232759.4531 - val_loss: 54583185408.0000 - val_root_mean_squared_error: 233630.4531\n",
            "Epoch 85/100\n",
            "556/563 [============================>.] - ETA: 0s - loss: 54207078400.0000 - root_mean_squared_error: 232824.1406"
          ]
        },
        {
          "output_type": "stream",
          "name": "stderr",
          "text": [
            "WARNING:absl:Found untraced functions such as _update_step_xla while saving (showing 1 of 1). These functions will not be directly callable after loading.\n"
          ]
        },
        {
          "output_type": "stream",
          "name": "stdout",
          "text": [
            "\b\b\b\b\b\b\b\b\b\b\b\b\b\b\b\b\b\b\b\b\b\b\b\b\b\b\b\b\b\b\b\b\b\b\b\b\b\b\b\b\b\b\b\b\b\b\b\b\b\b\b\b\b\b\b\b\b\b\b\b\b\b\b\b\b\b\b\b\b\b\b\b\b\b\b\b\b\b\b\b\b\b\b\b\b\b\b\b\b\b\b\b\b\b\b\b\b\b\b\b\b\b\b\b\b\b\b\b\b\b\b\b\b\b\r563/563 [==============================] - 2s 4ms/step - loss: 54154297344.0000 - root_mean_squared_error: 232710.7656 - val_loss: 54560477184.0000 - val_root_mean_squared_error: 233581.8438\n",
            "Epoch 86/100\n",
            "540/563 [===========================>..] - ETA: 0s - loss: 54183546880.0000 - root_mean_squared_error: 232773.5938"
          ]
        },
        {
          "output_type": "stream",
          "name": "stderr",
          "text": [
            "WARNING:absl:Found untraced functions such as _update_step_xla while saving (showing 1 of 1). These functions will not be directly callable after loading.\n"
          ]
        },
        {
          "output_type": "stream",
          "name": "stdout",
          "text": [
            "\b\b\b\b\b\b\b\b\b\b\b\b\b\b\b\b\b\b\b\b\b\b\b\b\b\b\b\b\b\b\b\b\b\b\b\b\b\b\b\b\b\b\b\b\b\b\b\b\b\b\b\b\b\b\b\b\b\b\b\b\b\b\b\b\b\b\b\b\b\b\b\b\b\b\b\b\b\b\b\b\b\b\b\b\b\b\b\b\b\b\b\b\b\b\b\b\b\b\b\b\b\b\b\b\b\b\b\b\b\b\b\b\b\b\r563/563 [==============================] - 2s 3ms/step - loss: 54131712000.0000 - root_mean_squared_error: 232662.2344 - val_loss: 54537793536.0000 - val_root_mean_squared_error: 233533.2812\n",
            "Epoch 87/100\n",
            "552/563 [============================>.] - ETA: 0s - loss: 54112161792.0000 - root_mean_squared_error: 232620.2031"
          ]
        },
        {
          "output_type": "stream",
          "name": "stderr",
          "text": [
            "WARNING:absl:Found untraced functions such as _update_step_xla while saving (showing 1 of 1). These functions will not be directly callable after loading.\n"
          ]
        },
        {
          "output_type": "stream",
          "name": "stdout",
          "text": [
            "\b\b\b\b\b\b\b\b\b\b\b\b\b\b\b\b\b\b\b\b\b\b\b\b\b\b\b\b\b\b\b\b\b\b\b\b\b\b\b\b\b\b\b\b\b\b\b\b\b\b\b\b\b\b\b\b\b\b\b\b\b\b\b\b\b\b\b\b\b\b\b\b\b\b\b\b\b\b\b\b\b\b\b\b\b\b\b\b\b\b\b\b\b\b\b\b\b\b\b\b\b\b\b\b\b\b\b\b\b\b\b\b\b\b\r563/563 [==============================] - 2s 3ms/step - loss: 54109077504.0000 - root_mean_squared_error: 232613.5781 - val_loss: 54515089408.0000 - val_root_mean_squared_error: 233484.6719\n",
            "Epoch 88/100\n",
            "556/563 [============================>.] - ETA: 0s - loss: 54068293632.0000 - root_mean_squared_error: 232525.9062"
          ]
        },
        {
          "output_type": "stream",
          "name": "stderr",
          "text": [
            "WARNING:absl:Found untraced functions such as _update_step_xla while saving (showing 1 of 1). These functions will not be directly callable after loading.\n"
          ]
        },
        {
          "output_type": "stream",
          "name": "stdout",
          "text": [
            "\b\b\b\b\b\b\b\b\b\b\b\b\b\b\b\b\b\b\b\b\b\b\b\b\b\b\b\b\b\b\b\b\b\b\b\b\b\b\b\b\b\b\b\b\b\b\b\b\b\b\b\b\b\b\b\b\b\b\b\b\b\b\b\b\b\b\b\b\b\b\b\b\b\b\b\b\b\b\b\b\b\b\b\b\b\b\b\b\b\b\b\b\b\b\b\b\b\b\b\b\b\b\b\b\b\b\b\b\b\b\b\b\b\b\r563/563 [==============================] - 2s 3ms/step - loss: 54086467584.0000 - root_mean_squared_error: 232564.9688 - val_loss: 54492422144.0000 - val_root_mean_squared_error: 233436.1250\n",
            "Epoch 89/100\n",
            "539/563 [===========================>..] - ETA: 0s - loss: 54259507200.0000 - root_mean_squared_error: 232936.7031"
          ]
        },
        {
          "output_type": "stream",
          "name": "stderr",
          "text": [
            "WARNING:absl:Found untraced functions such as _update_step_xla while saving (showing 1 of 1). These functions will not be directly callable after loading.\n"
          ]
        },
        {
          "output_type": "stream",
          "name": "stdout",
          "text": [
            "\b\b\b\b\b\b\b\b\b\b\b\b\b\b\b\b\b\b\b\b\b\b\b\b\b\b\b\b\b\b\b\b\b\b\b\b\b\b\b\b\b\b\b\b\b\b\b\b\b\b\b\b\b\b\b\b\b\b\b\b\b\b\b\b\b\b\b\b\b\b\b\b\b\b\b\b\b\b\b\b\b\b\b\b\b\b\b\b\b\b\b\b\b\b\b\b\b\b\b\b\b\b\b\b\b\b\b\b\b\b\b\b\b\b\r563/563 [==============================] - 2s 3ms/step - loss: 54063869952.0000 - root_mean_squared_error: 232516.3906 - val_loss: 54469734400.0000 - val_root_mean_squared_error: 233387.5156\n",
            "Epoch 90/100\n",
            "562/563 [============================>.] - ETA: 0s - loss: 54005022720.0000 - root_mean_squared_error: 232389.8125"
          ]
        },
        {
          "output_type": "stream",
          "name": "stderr",
          "text": [
            "WARNING:absl:Found untraced functions such as _update_step_xla while saving (showing 1 of 1). These functions will not be directly callable after loading.\n"
          ]
        },
        {
          "output_type": "stream",
          "name": "stdout",
          "text": [
            "\b\b\b\b\b\b\b\b\b\b\b\b\b\b\b\b\b\b\b\b\b\b\b\b\b\b\b\b\b\b\b\b\b\b\b\b\b\b\b\b\b\b\b\b\b\b\b\b\b\b\b\b\b\b\b\b\b\b\b\b\b\b\b\b\b\b\b\b\b\b\b\b\b\b\b\b\b\b\b\b\b\b\b\b\b\b\b\b\b\b\b\b\b\b\b\b\b\b\b\b\b\b\b\b\b\b\b\b\b\b\b\b\b\b\r563/563 [==============================] - 3s 5ms/step - loss: 54041280512.0000 - root_mean_squared_error: 232467.8125 - val_loss: 54447104000.0000 - val_root_mean_squared_error: 233339.0312\n",
            "Epoch 91/100\n",
            "552/563 [============================>.] - ETA: 0s - loss: 54019727360.0000 - root_mean_squared_error: 232421.4375"
          ]
        },
        {
          "output_type": "stream",
          "name": "stderr",
          "text": [
            "WARNING:absl:Found untraced functions such as _update_step_xla while saving (showing 1 of 1). These functions will not be directly callable after loading.\n"
          ]
        },
        {
          "output_type": "stream",
          "name": "stdout",
          "text": [
            "\b\b\b\b\b\b\b\b\b\b\b\b\b\b\b\b\b\b\b\b\b\b\b\b\b\b\b\b\b\b\b\b\b\b\b\b\b\b\b\b\b\b\b\b\b\b\b\b\b\b\b\b\b\b\b\b\b\b\b\b\b\b\b\b\b\b\b\b\b\b\b\b\b\b\b\b\b\b\b\b\b\b\b\b\b\b\b\b\b\b\b\b\b\b\b\b\b\b\b\b\b\b\b\b\b\b\b\b\b\b\b\b\b\b\r563/563 [==============================] - 2s 3ms/step - loss: 54018662400.0000 - root_mean_squared_error: 232419.1562 - val_loss: 54424436736.0000 - val_root_mean_squared_error: 233290.4531\n",
            "Epoch 92/100\n",
            "555/563 [============================>.] - ETA: 0s - loss: 54002962432.0000 - root_mean_squared_error: 232385.3750"
          ]
        },
        {
          "output_type": "stream",
          "name": "stderr",
          "text": [
            "WARNING:absl:Found untraced functions such as _update_step_xla while saving (showing 1 of 1). These functions will not be directly callable after loading.\n"
          ]
        },
        {
          "output_type": "stream",
          "name": "stdout",
          "text": [
            "\b\b\b\b\b\b\b\b\b\b\b\b\b\b\b\b\b\b\b\b\b\b\b\b\b\b\b\b\b\b\b\b\b\b\b\b\b\b\b\b\b\b\b\b\b\b\b\b\b\b\b\b\b\b\b\b\b\b\b\b\b\b\b\b\b\b\b\b\b\b\b\b\b\b\b\b\b\b\b\b\b\b\b\b\b\b\b\b\b\b\b\b\b\b\b\b\b\b\b\b\b\b\b\b\b\b\b\b\b\b\b\b\b\b\r563/563 [==============================] - 2s 3ms/step - loss: 53996093440.0000 - root_mean_squared_error: 232370.5938 - val_loss: 54401765376.0000 - val_root_mean_squared_error: 233241.8594\n",
            "Epoch 93/100\n",
            "561/563 [============================>.] - ETA: 0s - loss: 53945286656.0000 - root_mean_squared_error: 232261.2500"
          ]
        },
        {
          "output_type": "stream",
          "name": "stderr",
          "text": [
            "WARNING:absl:Found untraced functions such as _update_step_xla while saving (showing 1 of 1). These functions will not be directly callable after loading.\n"
          ]
        },
        {
          "output_type": "stream",
          "name": "stdout",
          "text": [
            "\b\b\b\b\b\b\b\b\b\b\b\b\b\b\b\b\b\b\b\b\b\b\b\b\b\b\b\b\b\b\b\b\b\b\b\b\b\b\b\b\b\b\b\b\b\b\b\b\b\b\b\b\b\b\b\b\b\b\b\b\b\b\b\b\b\b\b\b\b\b\b\b\b\b\b\b\b\b\b\b\b\b\b\b\b\b\b\b\b\b\b\b\b\b\b\b\b\b\b\b\b\b\b\b\b\b\b\b\b\b\b\b\b\b\r563/563 [==============================] - 2s 4ms/step - loss: 53973458944.0000 - root_mean_squared_error: 232321.8906 - val_loss: 54379126784.0000 - val_root_mean_squared_error: 233193.3281\n",
            "Epoch 94/100\n",
            "552/563 [============================>.] - ETA: 0s - loss: 53978144768.0000 - root_mean_squared_error: 232331.9688"
          ]
        },
        {
          "output_type": "stream",
          "name": "stderr",
          "text": [
            "WARNING:absl:Found untraced functions such as _update_step_xla while saving (showing 1 of 1). These functions will not be directly callable after loading.\n"
          ]
        },
        {
          "output_type": "stream",
          "name": "stdout",
          "text": [
            "\b\b\b\b\b\b\b\b\b\b\b\b\b\b\b\b\b\b\b\b\b\b\b\b\b\b\b\b\b\b\b\b\b\b\b\b\b\b\b\b\b\b\b\b\b\b\b\b\b\b\b\b\b\b\b\b\b\b\b\b\b\b\b\b\b\b\b\b\b\b\b\b\b\b\b\b\b\b\b\b\b\b\b\b\b\b\b\b\b\b\b\b\b\b\b\b\b\b\b\b\b\b\b\b\b\b\b\b\b\b\b\b\b\b\r563/563 [==============================] - 2s 3ms/step - loss: 53950918656.0000 - root_mean_squared_error: 232273.3750 - val_loss: 54356467712.0000 - val_root_mean_squared_error: 233144.7344\n",
            "Epoch 95/100\n",
            "553/563 [============================>.] - ETA: 0s - loss: 53904920576.0000 - root_mean_squared_error: 232174.3281"
          ]
        },
        {
          "output_type": "stream",
          "name": "stderr",
          "text": [
            "WARNING:absl:Found untraced functions such as _update_step_xla while saving (showing 1 of 1). These functions will not be directly callable after loading.\n"
          ]
        },
        {
          "output_type": "stream",
          "name": "stdout",
          "text": [
            "\b\b\b\b\b\b\b\b\b\b\b\b\b\b\b\b\b\b\b\b\b\b\b\b\b\b\b\b\b\b\b\b\b\b\b\b\b\b\b\b\b\b\b\b\b\b\b\b\b\b\b\b\b\b\b\b\b\b\b\b\b\b\b\b\b\b\b\b\b\b\b\b\b\b\b\b\b\b\b\b\b\b\b\b\b\b\b\b\b\b\b\b\b\b\b\b\b\b\b\b\b\b\b\b\b\b\b\b\b\b\b\b\b\b\r563/563 [==============================] - 2s 3ms/step - loss: 53928341504.0000 - root_mean_squared_error: 232224.7656 - val_loss: 54333816832.0000 - val_root_mean_squared_error: 233096.1562\n",
            "Epoch 96/100\n",
            "550/563 [============================>.] - ETA: 0s - loss: 53883047936.0000 - root_mean_squared_error: 232127.2188"
          ]
        },
        {
          "output_type": "stream",
          "name": "stderr",
          "text": [
            "WARNING:absl:Found untraced functions such as _update_step_xla while saving (showing 1 of 1). These functions will not be directly callable after loading.\n"
          ]
        },
        {
          "output_type": "stream",
          "name": "stdout",
          "text": [
            "\b\b\b\b\b\b\b\b\b\b\b\b\b\b\b\b\b\b\b\b\b\b\b\b\b\b\b\b\b\b\b\b\b\b\b\b\b\b\b\b\b\b\b\b\b\b\b\b\b\b\b\b\b\b\b\b\b\b\b\b\b\b\b\b\b\b\b\b\b\b\b\b\b\b\b\b\b\b\b\b\b\b\b\b\b\b\b\b\b\b\b\b\b\b\b\b\b\b\b\b\b\b\b\b\b\b\b\b\b\b\b\b\b\b\r563/563 [==============================] - 2s 3ms/step - loss: 53905788928.0000 - root_mean_squared_error: 232176.2031 - val_loss: 54311202816.0000 - val_root_mean_squared_error: 233047.6406\n",
            "Epoch 97/100\n",
            "542/563 [===========================>..] - ETA: 0s - loss: 53861085184.0000 - root_mean_squared_error: 232079.9062"
          ]
        },
        {
          "output_type": "stream",
          "name": "stderr",
          "text": [
            "WARNING:absl:Found untraced functions such as _update_step_xla while saving (showing 1 of 1). These functions will not be directly callable after loading.\n"
          ]
        },
        {
          "output_type": "stream",
          "name": "stdout",
          "text": [
            "\b\b\b\b\b\b\b\b\b\b\b\b\b\b\b\b\b\b\b\b\b\b\b\b\b\b\b\b\b\b\b\b\b\b\b\b\b\b\b\b\b\b\b\b\b\b\b\b\b\b\b\b\b\b\b\b\b\b\b\b\b\b\b\b\b\b\b\b\b\b\b\b\b\b\b\b\b\b\b\b\b\b\b\b\b\b\b\b\b\b\b\b\b\b\b\b\b\b\b\b\b\b\b\b\b\b\b\b\b\b\b\b\b\b\r563/563 [==============================] - 2s 4ms/step - loss: 53883207680.0000 - root_mean_squared_error: 232127.5625 - val_loss: 54288564224.0000 - val_root_mean_squared_error: 232999.0625\n",
            "Epoch 98/100\n",
            "541/563 [===========================>..] - ETA: 0s - loss: 53912367104.0000 - root_mean_squared_error: 232190.3750"
          ]
        },
        {
          "output_type": "stream",
          "name": "stderr",
          "text": [
            "WARNING:absl:Found untraced functions such as _update_step_xla while saving (showing 1 of 1). These functions will not be directly callable after loading.\n"
          ]
        },
        {
          "output_type": "stream",
          "name": "stdout",
          "text": [
            "\b\b\b\b\b\b\b\b\b\b\b\b\b\b\b\b\b\b\b\b\b\b\b\b\b\b\b\b\b\b\b\b\b\b\b\b\b\b\b\b\b\b\b\b\b\b\b\b\b\b\b\b\b\b\b\b\b\b\b\b\b\b\b\b\b\b\b\b\b\b\b\b\b\b\b\b\b\b\b\b\b\b\b\b\b\b\b\b\b\b\b\b\b\b\b\b\b\b\b\b\b\b\b\b\b\b\b\b\b\b\b\b\b\b\r563/563 [==============================] - 2s 3ms/step - loss: 53860618240.0000 - root_mean_squared_error: 232078.9062 - val_loss: 54265925632.0000 - val_root_mean_squared_error: 232950.4844\n",
            "Epoch 99/100\n",
            "533/563 [===========================>..] - ETA: 0s - loss: 53704773632.0000 - root_mean_squared_error: 231742.9062"
          ]
        },
        {
          "output_type": "stream",
          "name": "stderr",
          "text": [
            "WARNING:absl:Found untraced functions such as _update_step_xla while saving (showing 1 of 1). These functions will not be directly callable after loading.\n"
          ]
        },
        {
          "output_type": "stream",
          "name": "stdout",
          "text": [
            "\b\b\b\b\b\b\b\b\b\b\b\b\b\b\b\b\b\b\b\b\b\b\b\b\b\b\b\b\b\b\b\b\b\b\b\b\b\b\b\b\b\b\b\b\b\b\b\b\b\b\b\b\b\b\b\b\b\b\b\b\b\b\b\b\b\b\b\b\b\b\b\b\b\b\b\b\b\b\b\b\b\b\b\b\b\b\b\b\b\b\b\b\b\b\b\b\b\b\b\b\b\b\b\b\b\b\b\b\b\b\b\b\b\b\r563/563 [==============================] - 2s 3ms/step - loss: 53838069760.0000 - root_mean_squared_error: 232030.3281 - val_loss: 54243323904.0000 - val_root_mean_squared_error: 232901.9688\n",
            "Epoch 100/100\n",
            "545/563 [============================>.] - ETA: 0s - loss: 53882212352.0000 - root_mean_squared_error: 232125.4219"
          ]
        },
        {
          "output_type": "stream",
          "name": "stderr",
          "text": [
            "WARNING:absl:Found untraced functions such as _update_step_xla while saving (showing 1 of 1). These functions will not be directly callable after loading.\n"
          ]
        },
        {
          "output_type": "stream",
          "name": "stdout",
          "text": [
            "\b\b\b\b\b\b\b\b\b\b\b\b\b\b\b\b\b\b\b\b\b\b\b\b\b\b\b\b\b\b\b\b\b\b\b\b\b\b\b\b\b\b\b\b\b\b\b\b\b\b\b\b\b\b\b\b\b\b\b\b\b\b\b\b\b\b\b\b\b\b\b\b\b\b\b\b\b\b\b\b\b\b\b\b\b\b\b\b\b\b\b\b\b\b\b\b\b\b\b\b\b\b\b\b\b\b\b\b\b\b\b\b\b\b\r563/563 [==============================] - 2s 3ms/step - loss: 53815541760.0000 - root_mean_squared_error: 231981.7656 - val_loss: 54220701696.0000 - val_root_mean_squared_error: 232853.3906\n"
          ]
        },
        {
          "output_type": "execute_result",
          "data": {
            "text/plain": [
              "<keras.callbacks.History at 0x7f26c163ea40>"
            ]
          },
          "metadata": {},
          "execution_count": 27
        }
      ]
    },
    {
      "cell_type": "code",
      "source": [
        "from tensorflow.keras.models import load_model\n",
        "\n",
        "simple_nn = load_model('models/simple_nn')\n",
        "mse(simple_nn.predict(X_train), y_train, squared=False), mse(simple_nn.predict(X_val), y_val, squared=False)"
      ],
      "metadata": {
        "colab": {
          "base_uri": "https://localhost:8080/"
        },
        "id": "yGkBwU_xPtM-",
        "outputId": "af003fbd-03e9-43ef-eddb-5a2035331dc1"
      },
      "execution_count": 28,
      "outputs": [
        {
          "output_type": "stream",
          "name": "stdout",
          "text": [
            "563/563 [==============================] - 1s 1ms/step\n",
            "39/39 [==============================] - 0s 1ms/step\n"
          ]
        },
        {
          "output_type": "execute_result",
          "data": {
            "text/plain": [
              "(231957.3987091223, 232853.39353824191)"
            ]
          },
          "metadata": {},
          "execution_count": 28
        }
      ]
    },
    {
      "cell_type": "code",
      "source": [
        "medium_nn = Sequential()\n",
        "medium_nn.add(InputLayer((13,)))\n",
        "medium_nn.add(Dense(32, 'relu'))\n",
        "medium_nn.add(Dense(16, 'relu'))\n",
        "medium_nn.add(Dense(1, 'linear'))\n",
        "\n",
        "opt = Adam(learning_rate=.1)\n",
        "cp = ModelCheckpoint('models/medium_nn', save_best_only=True)\n",
        "medium_nn.compile(optimizer=opt, loss='mse', metrics=[RootMeanSquaredError()])\n",
        "medium_nn.fit(x=X_train, y=y_train, validation_data=(X_val, y_val), callbacks=[cp], epochs=100)"
      ],
      "metadata": {
        "colab": {
          "base_uri": "https://localhost:8080/"
        },
        "id": "coTzOoe5P1VG",
        "outputId": "b2dd009a-c9b1-40e8-91dc-846873978108"
      },
      "execution_count": 29,
      "outputs": [
        {
          "output_type": "stream",
          "name": "stdout",
          "text": [
            "Epoch 1/100\n",
            "559/563 [============================>.] - ETA: 0s - loss: 12257006592.0000 - root_mean_squared_error: 110711.3672"
          ]
        },
        {
          "output_type": "stream",
          "name": "stderr",
          "text": [
            "WARNING:absl:Found untraced functions such as _update_step_xla while saving (showing 1 of 1). These functions will not be directly callable after loading.\n"
          ]
        },
        {
          "output_type": "stream",
          "name": "stdout",
          "text": [
            "\b\b\b\b\b\b\b\b\b\b\b\b\b\b\b\b\b\b\b\b\b\b\b\b\b\b\b\b\b\b\b\b\b\b\b\b\b\b\b\b\b\b\b\b\b\b\b\b\b\b\b\b\b\b\b\b\b\b\b\b\b\b\b\b\b\b\b\b\b\b\b\b\b\b\b\b\b\b\b\b\b\b\b\b\b\b\b\b\b\b\b\b\b\b\b\b\b\b\b\b\b\b\b\b\b\b\b\b\b\b\b\b\b\b\r563/563 [==============================] - 4s 5ms/step - loss: 12239875072.0000 - root_mean_squared_error: 110633.9688 - val_loss: 7032181760.0000 - val_root_mean_squared_error: 83858.1016\n",
            "Epoch 2/100\n",
            "559/563 [============================>.] - ETA: 0s - loss: 5842236416.0000 - root_mean_squared_error: 76434.5234"
          ]
        },
        {
          "output_type": "stream",
          "name": "stderr",
          "text": [
            "WARNING:absl:Found untraced functions such as _update_step_xla while saving (showing 1 of 1). These functions will not be directly callable after loading.\n"
          ]
        },
        {
          "output_type": "stream",
          "name": "stdout",
          "text": [
            "\b\b\b\b\b\b\b\b\b\b\b\b\b\b\b\b\b\b\b\b\b\b\b\b\b\b\b\b\b\b\b\b\b\b\b\b\b\b\b\b\b\b\b\b\b\b\b\b\b\b\b\b\b\b\b\b\b\b\b\b\b\b\b\b\b\b\b\b\b\b\b\b\b\b\b\b\b\b\b\b\b\b\b\b\b\b\b\b\b\b\b\b\b\b\b\b\b\b\b\b\b\b\b\b\b\b\b\b\b\b\b\b\r563/563 [==============================] - 2s 3ms/step - loss: 5863312384.0000 - root_mean_squared_error: 76572.2656 - val_loss: 6220901376.0000 - val_root_mean_squared_error: 78872.6875\n",
            "Epoch 3/100\n",
            "550/563 [============================>.] - ETA: 0s - loss: 5706777088.0000 - root_mean_squared_error: 75543.2109"
          ]
        },
        {
          "output_type": "stream",
          "name": "stderr",
          "text": [
            "WARNING:absl:Found untraced functions such as _update_step_xla while saving (showing 1 of 1). These functions will not be directly callable after loading.\n"
          ]
        },
        {
          "output_type": "stream",
          "name": "stdout",
          "text": [
            "\b\b\b\b\b\b\b\b\b\b\b\b\b\b\b\b\b\b\b\b\b\b\b\b\b\b\b\b\b\b\b\b\b\b\b\b\b\b\b\b\b\b\b\b\b\b\b\b\b\b\b\b\b\b\b\b\b\b\b\b\b\b\b\b\b\b\b\b\b\b\b\b\b\b\b\b\b\b\b\b\b\b\b\b\b\b\b\b\b\b\b\b\b\b\b\b\b\b\b\b\b\b\b\b\b\b\b\b\b\b\b\b\r563/563 [==============================] - 2s 3ms/step - loss: 5716720128.0000 - root_mean_squared_error: 75608.9922 - val_loss: 5647328256.0000 - val_root_mean_squared_error: 75148.7109\n",
            "Epoch 4/100\n",
            "555/563 [============================>.] - ETA: 0s - loss: 5657089024.0000 - root_mean_squared_error: 75213.6250"
          ]
        },
        {
          "output_type": "stream",
          "name": "stderr",
          "text": [
            "WARNING:absl:Found untraced functions such as _update_step_xla while saving (showing 1 of 1). These functions will not be directly callable after loading.\n"
          ]
        },
        {
          "output_type": "stream",
          "name": "stdout",
          "text": [
            "\b\b\b\b\b\b\b\b\b\b\b\b\b\b\b\b\b\b\b\b\b\b\b\b\b\b\b\b\b\b\b\b\b\b\b\b\b\b\b\b\b\b\b\b\b\b\b\b\b\b\b\b\b\b\b\b\b\b\b\b\b\b\b\b\b\b\b\b\b\b\b\b\b\b\b\b\b\b\b\b\b\b\b\b\b\b\b\b\b\b\b\b\b\b\b\b\b\b\b\b\b\b\b\b\b\b\b\b\b\b\b\b\r563/563 [==============================] - 2s 3ms/step - loss: 5642775040.0000 - root_mean_squared_error: 75118.4062 - val_loss: 5625646592.0000 - val_root_mean_squared_error: 75004.3125\n",
            "Epoch 5/100\n",
            "554/563 [============================>.] - ETA: 0s - loss: 5646086656.0000 - root_mean_squared_error: 75140.4453"
          ]
        },
        {
          "output_type": "stream",
          "name": "stderr",
          "text": [
            "WARNING:absl:Found untraced functions such as _update_step_xla while saving (showing 1 of 1). These functions will not be directly callable after loading.\n"
          ]
        },
        {
          "output_type": "stream",
          "name": "stdout",
          "text": [
            "\b\b\b\b\b\b\b\b\b\b\b\b\b\b\b\b\b\b\b\b\b\b\b\b\b\b\b\b\b\b\b\b\b\b\b\b\b\b\b\b\b\b\b\b\b\b\b\b\b\b\b\b\b\b\b\b\b\b\b\b\b\b\b\b\b\b\b\b\b\b\b\b\b\b\b\b\b\b\b\b\b\b\b\b\b\b\b\b\b\b\b\b\b\b\b\b\b\b\b\b\b\b\b\b\b\b\b\b\b\b\b\b\r563/563 [==============================] - 3s 5ms/step - loss: 5638027776.0000 - root_mean_squared_error: 75086.8047 - val_loss: 5618821120.0000 - val_root_mean_squared_error: 74958.7969\n",
            "Epoch 6/100\n",
            "553/563 [============================>.] - ETA: 0s - loss: 5631387136.0000 - root_mean_squared_error: 75042.5703"
          ]
        },
        {
          "output_type": "stream",
          "name": "stderr",
          "text": [
            "WARNING:absl:Found untraced functions such as _update_step_xla while saving (showing 1 of 1). These functions will not be directly callable after loading.\n"
          ]
        },
        {
          "output_type": "stream",
          "name": "stdout",
          "text": [
            "\b\b\b\b\b\b\b\b\b\b\b\b\b\b\b\b\b\b\b\b\b\b\b\b\b\b\b\b\b\b\b\b\b\b\b\b\b\b\b\b\b\b\b\b\b\b\b\b\b\b\b\b\b\b\b\b\b\b\b\b\b\b\b\b\b\b\b\b\b\b\b\b\b\b\b\b\b\b\b\b\b\b\b\b\b\b\b\b\b\b\b\b\b\b\b\b\b\b\b\b\b\b\b\b\b\b\b\b\b\b\b\b\r563/563 [==============================] - 2s 4ms/step - loss: 5626347520.0000 - root_mean_squared_error: 75008.9844 - val_loss: 5616670208.0000 - val_root_mean_squared_error: 74944.4453\n",
            "Epoch 7/100\n",
            "563/563 [==============================] - 2s 3ms/step - loss: 5600907264.0000 - root_mean_squared_error: 74839.2109 - val_loss: 6054836224.0000 - val_root_mean_squared_error: 77812.8281\n",
            "Epoch 8/100\n",
            "543/563 [===========================>..] - ETA: 0s - loss: 5610383872.0000 - root_mean_squared_error: 74902.4922"
          ]
        },
        {
          "output_type": "stream",
          "name": "stderr",
          "text": [
            "WARNING:absl:Found untraced functions such as _update_step_xla while saving (showing 1 of 1). These functions will not be directly callable after loading.\n"
          ]
        },
        {
          "output_type": "stream",
          "name": "stdout",
          "text": [
            "\b\b\b\b\b\b\b\b\b\b\b\b\b\b\b\b\b\b\b\b\b\b\b\b\b\b\b\b\b\b\b\b\b\b\b\b\b\b\b\b\b\b\b\b\b\b\b\b\b\b\b\b\b\b\b\b\b\b\b\b\b\b\b\b\b\b\b\b\b\b\b\b\b\b\b\b\b\b\b\b\b\b\b\b\b\b\b\b\b\b\b\b\b\b\b\b\b\b\b\b\b\b\b\b\b\b\b\b\b\b\b\b\r563/563 [==============================] - 2s 3ms/step - loss: 5615220736.0000 - root_mean_squared_error: 74934.7734 - val_loss: 5573743616.0000 - val_root_mean_squared_error: 74657.5078\n",
            "Epoch 9/100\n",
            "563/563 [==============================] - 1s 2ms/step - loss: 5653959168.0000 - root_mean_squared_error: 75192.8125 - val_loss: 6005751808.0000 - val_root_mean_squared_error: 77496.7891\n",
            "Epoch 10/100\n",
            "563/563 [==============================] - 1s 2ms/step - loss: 5639030272.0000 - root_mean_squared_error: 75093.4766 - val_loss: 5606478848.0000 - val_root_mean_squared_error: 74876.4219\n",
            "Epoch 11/100\n",
            "542/563 [===========================>..] - ETA: 0s - loss: 5576180224.0000 - root_mean_squared_error: 74673.8281"
          ]
        },
        {
          "output_type": "stream",
          "name": "stderr",
          "text": [
            "WARNING:absl:Found untraced functions such as _update_step_xla while saving (showing 1 of 1). These functions will not be directly callable after loading.\n"
          ]
        },
        {
          "output_type": "stream",
          "name": "stdout",
          "text": [
            "\b\b\b\b\b\b\b\b\b\b\b\b\b\b\b\b\b\b\b\b\b\b\b\b\b\b\b\b\b\b\b\b\b\b\b\b\b\b\b\b\b\b\b\b\b\b\b\b\b\b\b\b\b\b\b\b\b\b\b\b\b\b\b\b\b\b\b\b\b\b\b\b\b\b\b\b\b\b\b\b\b\b\b\b\b\b\b\b\b\b\b\b\b\b\b\b\b\b\b\b\b\b\b\b\b\b\b\b\b\b\b\b\r563/563 [==============================] - 2s 3ms/step - loss: 5603194880.0000 - root_mean_squared_error: 74854.4922 - val_loss: 5566207488.0000 - val_root_mean_squared_error: 74607.0234\n",
            "Epoch 12/100\n",
            "563/563 [==============================] - 1s 2ms/step - loss: 5580310528.0000 - root_mean_squared_error: 74701.4766 - val_loss: 5870132736.0000 - val_root_mean_squared_error: 76616.7891\n",
            "Epoch 13/100\n",
            "563/563 [==============================] - 1s 2ms/step - loss: 5647444480.0000 - root_mean_squared_error: 75149.4844 - val_loss: 5571693568.0000 - val_root_mean_squared_error: 74643.7812\n",
            "Epoch 14/100\n",
            "540/563 [===========================>..] - ETA: 0s - loss: 5607323648.0000 - root_mean_squared_error: 74882.0625"
          ]
        },
        {
          "output_type": "stream",
          "name": "stderr",
          "text": [
            "WARNING:absl:Found untraced functions such as _update_step_xla while saving (showing 1 of 1). These functions will not be directly callable after loading.\n"
          ]
        },
        {
          "output_type": "stream",
          "name": "stdout",
          "text": [
            "\b\b\b\b\b\b\b\b\b\b\b\b\b\b\b\b\b\b\b\b\b\b\b\b\b\b\b\b\b\b\b\b\b\b\b\b\b\b\b\b\b\b\b\b\b\b\b\b\b\b\b\b\b\b\b\b\b\b\b\b\b\b\b\b\b\b\b\b\b\b\b\b\b\b\b\b\b\b\b\b\b\b\b\b\b\b\b\b\b\b\b\b\b\b\b\b\b\b\b\b\b\b\b\b\b\b\b\b\b\b\b\b\r563/563 [==============================] - 2s 4ms/step - loss: 5612532736.0000 - root_mean_squared_error: 74916.8359 - val_loss: 5538787840.0000 - val_root_mean_squared_error: 74423.0312\n",
            "Epoch 15/100\n",
            "563/563 [==============================] - 2s 3ms/step - loss: 5603433472.0000 - root_mean_squared_error: 74856.0859 - val_loss: 5573646336.0000 - val_root_mean_squared_error: 74656.8594\n",
            "Epoch 16/100\n",
            "563/563 [==============================] - 1s 2ms/step - loss: 5577799168.0000 - root_mean_squared_error: 74684.6641 - val_loss: 5540191744.0000 - val_root_mean_squared_error: 74432.4609\n",
            "Epoch 17/100\n",
            "563/563 [==============================] - 1s 2ms/step - loss: 5598290432.0000 - root_mean_squared_error: 74821.7266 - val_loss: 5625533440.0000 - val_root_mean_squared_error: 75003.5547\n",
            "Epoch 18/100\n",
            "563/563 [==============================] - 1s 2ms/step - loss: 5622892544.0000 - root_mean_squared_error: 74985.9453 - val_loss: 5575852544.0000 - val_root_mean_squared_error: 74671.6328\n",
            "Epoch 19/100\n",
            "563/563 [==============================] - 1s 2ms/step - loss: 5575483904.0000 - root_mean_squared_error: 74669.1641 - val_loss: 5876217856.0000 - val_root_mean_squared_error: 76656.4922\n",
            "Epoch 20/100\n",
            "557/563 [============================>.] - ETA: 0s - loss: 5645060608.0000 - root_mean_squared_error: 75133.6172"
          ]
        },
        {
          "output_type": "stream",
          "name": "stderr",
          "text": [
            "WARNING:absl:Found untraced functions such as _update_step_xla while saving (showing 1 of 1). These functions will not be directly callable after loading.\n"
          ]
        },
        {
          "output_type": "stream",
          "name": "stdout",
          "text": [
            "\b\b\b\b\b\b\b\b\b\b\b\b\b\b\b\b\b\b\b\b\b\b\b\b\b\b\b\b\b\b\b\b\b\b\b\b\b\b\b\b\b\b\b\b\b\b\b\b\b\b\b\b\b\b\b\b\b\b\b\b\b\b\b\b\b\b\b\b\b\b\b\b\b\b\b\b\b\b\b\b\b\b\b\b\b\b\b\b\b\b\b\b\b\b\b\b\b\b\b\b\b\b\b\b\b\b\b\b\b\b\b\b\r563/563 [==============================] - 2s 3ms/step - loss: 5651478528.0000 - root_mean_squared_error: 75176.3125 - val_loss: 5538599936.0000 - val_root_mean_squared_error: 74421.7734\n",
            "Epoch 21/100\n",
            "563/563 [==============================] - 1s 2ms/step - loss: 5573142528.0000 - root_mean_squared_error: 74653.4844 - val_loss: 5701082112.0000 - val_root_mean_squared_error: 75505.5078\n",
            "Epoch 22/100\n",
            "563/563 [==============================] - 1s 2ms/step - loss: 5579029504.0000 - root_mean_squared_error: 74692.8984 - val_loss: 5553961472.0000 - val_root_mean_squared_error: 74524.9062\n",
            "Epoch 23/100\n",
            "544/563 [===========================>..] - ETA: 0s - loss: 5585796608.0000 - root_mean_squared_error: 74738.1875"
          ]
        },
        {
          "output_type": "stream",
          "name": "stderr",
          "text": [
            "WARNING:absl:Found untraced functions such as _update_step_xla while saving (showing 1 of 1). These functions will not be directly callable after loading.\n"
          ]
        },
        {
          "output_type": "stream",
          "name": "stdout",
          "text": [
            "\b\b\b\b\b\b\b\b\b\b\b\b\b\b\b\b\b\b\b\b\b\b\b\b\b\b\b\b\b\b\b\b\b\b\b\b\b\b\b\b\b\b\b\b\b\b\b\b\b\b\b\b\b\b\b\b\b\b\b\b\b\b\b\b\b\b\b\b\b\b\b\b\b\b\b\b\b\b\b\b\b\b\b\b\b\b\b\b\b\b\b\b\b\b\b\b\b\b\b\b\b\b\b\b\b\b\b\b\b\b\b\b\r563/563 [==============================] - 2s 4ms/step - loss: 5566946816.0000 - root_mean_squared_error: 74611.9766 - val_loss: 5504526848.0000 - val_root_mean_squared_error: 74192.5000\n",
            "Epoch 24/100\n",
            "563/563 [==============================] - 2s 3ms/step - loss: 5590334976.0000 - root_mean_squared_error: 74768.5391 - val_loss: 5585677312.0000 - val_root_mean_squared_error: 74737.3906\n",
            "Epoch 25/100\n",
            "563/563 [==============================] - 1s 2ms/step - loss: 5561271296.0000 - root_mean_squared_error: 74573.9297 - val_loss: 5620058112.0000 - val_root_mean_squared_error: 74967.0469\n",
            "Epoch 26/100\n",
            "563/563 [==============================] - 1s 2ms/step - loss: 5573720576.0000 - root_mean_squared_error: 74657.3516 - val_loss: 5564599808.0000 - val_root_mean_squared_error: 74596.2422\n",
            "Epoch 27/100\n",
            "563/563 [==============================] - 1s 2ms/step - loss: 5606857728.0000 - root_mean_squared_error: 74878.9531 - val_loss: 6110136832.0000 - val_root_mean_squared_error: 78167.3672\n",
            "Epoch 28/100\n",
            "563/563 [==============================] - 1s 2ms/step - loss: 5590005760.0000 - root_mean_squared_error: 74766.3438 - val_loss: 5540874752.0000 - val_root_mean_squared_error: 74437.0547\n",
            "Epoch 29/100\n",
            "563/563 [==============================] - 1s 2ms/step - loss: 5547073536.0000 - root_mean_squared_error: 74478.6797 - val_loss: 5545759744.0000 - val_root_mean_squared_error: 74469.8594\n",
            "Epoch 30/100\n",
            "563/563 [==============================] - 1s 2ms/step - loss: 5585626624.0000 - root_mean_squared_error: 74737.0469 - val_loss: 5575304192.0000 - val_root_mean_squared_error: 74667.9609\n",
            "Epoch 31/100\n",
            "563/563 [==============================] - 1s 2ms/step - loss: 5509706240.0000 - root_mean_squared_error: 74227.3984 - val_loss: 5520087552.0000 - val_root_mean_squared_error: 74297.2891\n",
            "Epoch 32/100\n",
            "563/563 [==============================] - 1s 2ms/step - loss: 5556048384.0000 - root_mean_squared_error: 74538.9062 - val_loss: 5632138752.0000 - val_root_mean_squared_error: 75047.5781\n",
            "Epoch 33/100\n",
            "550/563 [============================>.] - ETA: 0s - loss: 5575309824.0000 - root_mean_squared_error: 74668.0000"
          ]
        },
        {
          "output_type": "stream",
          "name": "stderr",
          "text": [
            "WARNING:absl:Found untraced functions such as _update_step_xla while saving (showing 1 of 1). These functions will not be directly callable after loading.\n"
          ]
        },
        {
          "output_type": "stream",
          "name": "stdout",
          "text": [
            "\b\b\b\b\b\b\b\b\b\b\b\b\b\b\b\b\b\b\b\b\b\b\b\b\b\b\b\b\b\b\b\b\b\b\b\b\b\b\b\b\b\b\b\b\b\b\b\b\b\b\b\b\b\b\b\b\b\b\b\b\b\b\b\b\b\b\b\b\b\b\b\b\b\b\b\b\b\b\b\b\b\b\b\b\b\b\b\b\b\b\b\b\b\b\b\b\b\b\b\b\b\b\b\b\b\b\b\b\b\b\b\b\r563/563 [==============================] - 2s 4ms/step - loss: 5585409536.0000 - root_mean_squared_error: 74735.5938 - val_loss: 5502877184.0000 - val_root_mean_squared_error: 74181.3828\n",
            "Epoch 34/100\n",
            "563/563 [==============================] - 2s 3ms/step - loss: 5570690048.0000 - root_mean_squared_error: 74637.0547 - val_loss: 5740290048.0000 - val_root_mean_squared_error: 75764.7031\n",
            "Epoch 35/100\n",
            "563/563 [==============================] - 1s 2ms/step - loss: 5553376768.0000 - root_mean_squared_error: 74520.9844 - val_loss: 5525075456.0000 - val_root_mean_squared_error: 74330.8516\n",
            "Epoch 36/100\n",
            "563/563 [==============================] - 1s 2ms/step - loss: 5557181440.0000 - root_mean_squared_error: 74546.5078 - val_loss: 5622198272.0000 - val_root_mean_squared_error: 74981.3203\n",
            "Epoch 37/100\n",
            "563/563 [==============================] - 1s 2ms/step - loss: 5561634304.0000 - root_mean_squared_error: 74576.3672 - val_loss: 5550838272.0000 - val_root_mean_squared_error: 74503.9453\n",
            "Epoch 38/100\n",
            "538/563 [===========================>..] - ETA: 0s - loss: 5539767296.0000 - root_mean_squared_error: 74429.6094"
          ]
        },
        {
          "output_type": "stream",
          "name": "stderr",
          "text": [
            "WARNING:absl:Found untraced functions such as _update_step_xla while saving (showing 1 of 1). These functions will not be directly callable after loading.\n"
          ]
        },
        {
          "output_type": "stream",
          "name": "stdout",
          "text": [
            "\b\b\b\b\b\b\b\b\b\b\b\b\b\b\b\b\b\b\b\b\b\b\b\b\b\b\b\b\b\b\b\b\b\b\b\b\b\b\b\b\b\b\b\b\b\b\b\b\b\b\b\b\b\b\b\b\b\b\b\b\b\b\b\b\b\b\b\b\b\b\b\b\b\b\b\b\b\b\b\b\b\b\b\b\b\b\b\b\b\b\b\b\b\b\b\b\b\b\b\b\b\b\b\b\b\b\b\b\b\b\b\b\r563/563 [==============================] - 2s 3ms/step - loss: 5560172032.0000 - root_mean_squared_error: 74566.5625 - val_loss: 5497941504.0000 - val_root_mean_squared_error: 74148.1016\n",
            "Epoch 39/100\n",
            "563/563 [==============================] - 1s 2ms/step - loss: 5556624896.0000 - root_mean_squared_error: 74542.7734 - val_loss: 5519279104.0000 - val_root_mean_squared_error: 74291.8516\n",
            "Epoch 40/100\n",
            "563/563 [==============================] - 1s 2ms/step - loss: 5587699712.0000 - root_mean_squared_error: 74750.9141 - val_loss: 6039303168.0000 - val_root_mean_squared_error: 77712.9531\n",
            "Epoch 41/100\n",
            "563/563 [==============================] - 1s 2ms/step - loss: 5555225088.0000 - root_mean_squared_error: 74533.3828 - val_loss: 5523332096.0000 - val_root_mean_squared_error: 74319.1250\n",
            "Epoch 42/100\n",
            "563/563 [==============================] - 1s 2ms/step - loss: 5580619264.0000 - root_mean_squared_error: 74703.5391 - val_loss: 5521320448.0000 - val_root_mean_squared_error: 74305.5859\n",
            "Epoch 43/100\n",
            "563/563 [==============================] - 2s 3ms/step - loss: 5522042880.0000 - root_mean_squared_error: 74310.4531 - val_loss: 5564718080.0000 - val_root_mean_squared_error: 74597.0391\n",
            "Epoch 44/100\n",
            "563/563 [==============================] - 2s 3ms/step - loss: 5561752576.0000 - root_mean_squared_error: 74577.1562 - val_loss: 5620486144.0000 - val_root_mean_squared_error: 74969.8984\n",
            "Epoch 45/100\n",
            "563/563 [==============================] - 1s 2ms/step - loss: 5543403520.0000 - root_mean_squared_error: 74454.0391 - val_loss: 5653182464.0000 - val_root_mean_squared_error: 75187.6484\n",
            "Epoch 46/100\n",
            "563/563 [==============================] - 1s 2ms/step - loss: 5535144448.0000 - root_mean_squared_error: 74398.5547 - val_loss: 5556073984.0000 - val_root_mean_squared_error: 74539.0781\n",
            "Epoch 47/100\n",
            "563/563 [==============================] - 1s 2ms/step - loss: 5571545088.0000 - root_mean_squared_error: 74642.7812 - val_loss: 5513473024.0000 - val_root_mean_squared_error: 74252.7656\n",
            "Epoch 48/100\n",
            "556/563 [============================>.] - ETA: 0s - loss: 5527913984.0000 - root_mean_squared_error: 74349.9453"
          ]
        },
        {
          "output_type": "stream",
          "name": "stderr",
          "text": [
            "WARNING:absl:Found untraced functions such as _update_step_xla while saving (showing 1 of 1). These functions will not be directly callable after loading.\n"
          ]
        },
        {
          "output_type": "stream",
          "name": "stdout",
          "text": [
            "\b\b\b\b\b\b\b\b\b\b\b\b\b\b\b\b\b\b\b\b\b\b\b\b\b\b\b\b\b\b\b\b\b\b\b\b\b\b\b\b\b\b\b\b\b\b\b\b\b\b\b\b\b\b\b\b\b\b\b\b\b\b\b\b\b\b\b\b\b\b\b\b\b\b\b\b\b\b\b\b\b\b\b\b\b\b\b\b\b\b\b\b\b\b\b\b\b\b\b\b\b\b\b\b\b\b\b\b\b\b\b\b\r563/563 [==============================] - 2s 3ms/step - loss: 5532606464.0000 - root_mean_squared_error: 74381.4922 - val_loss: 5477741568.0000 - val_root_mean_squared_error: 74011.7656\n",
            "Epoch 49/100\n",
            "563/563 [==============================] - 1s 2ms/step - loss: 5540625408.0000 - root_mean_squared_error: 74435.3750 - val_loss: 5592375808.0000 - val_root_mean_squared_error: 74782.1875\n",
            "Epoch 50/100\n",
            "563/563 [==============================] - 1s 2ms/step - loss: 5557429248.0000 - root_mean_squared_error: 74548.1641 - val_loss: 5521833472.0000 - val_root_mean_squared_error: 74309.0391\n",
            "Epoch 51/100\n",
            "560/563 [============================>.] - ETA: 0s - loss: 5536901120.0000 - root_mean_squared_error: 74410.3594"
          ]
        },
        {
          "output_type": "stream",
          "name": "stderr",
          "text": [
            "WARNING:absl:Found untraced functions such as _update_step_xla while saving (showing 1 of 1). These functions will not be directly callable after loading.\n"
          ]
        },
        {
          "output_type": "stream",
          "name": "stdout",
          "text": [
            "\b\b\b\b\b\b\b\b\b\b\b\b\b\b\b\b\b\b\b\b\b\b\b\b\b\b\b\b\b\b\b\b\b\b\b\b\b\b\b\b\b\b\b\b\b\b\b\b\b\b\b\b\b\b\b\b\b\b\b\b\b\b\b\b\b\b\b\b\b\b\b\b\b\b\b\b\b\b\b\b\b\b\b\b\b\b\b\b\b\b\b\b\b\b\b\b\b\b\b\b\b\b\b\b\b\b\b\b\b\b\b\b\r563/563 [==============================] - 2s 3ms/step - loss: 5532106752.0000 - root_mean_squared_error: 74378.1328 - val_loss: 5467428352.0000 - val_root_mean_squared_error: 73942.0625\n",
            "Epoch 52/100\n",
            "563/563 [==============================] - 2s 3ms/step - loss: 5540392960.0000 - root_mean_squared_error: 74433.8125 - val_loss: 5644786688.0000 - val_root_mean_squared_error: 75131.7969\n",
            "Epoch 53/100\n",
            "563/563 [==============================] - 2s 3ms/step - loss: 5531112960.0000 - root_mean_squared_error: 74371.4531 - val_loss: 5495948288.0000 - val_root_mean_squared_error: 74134.6641\n",
            "Epoch 54/100\n",
            "563/563 [==============================] - 1s 2ms/step - loss: 5523905024.0000 - root_mean_squared_error: 74322.9766 - val_loss: 5517786112.0000 - val_root_mean_squared_error: 74281.8047\n",
            "Epoch 55/100\n",
            "563/563 [==============================] - 1s 2ms/step - loss: 5509577728.0000 - root_mean_squared_error: 74226.5312 - val_loss: 5500254208.0000 - val_root_mean_squared_error: 74163.6953\n",
            "Epoch 56/100\n",
            "563/563 [==============================] - 1s 2ms/step - loss: 5529813504.0000 - root_mean_squared_error: 74362.7188 - val_loss: 5564083200.0000 - val_root_mean_squared_error: 74592.7812\n",
            "Epoch 57/100\n",
            "563/563 [==============================] - 1s 2ms/step - loss: 5541263360.0000 - root_mean_squared_error: 74439.6641 - val_loss: 5549791232.0000 - val_root_mean_squared_error: 74496.9219\n",
            "Epoch 58/100\n",
            "563/563 [==============================] - 1s 2ms/step - loss: 5509065216.0000 - root_mean_squared_error: 74223.0781 - val_loss: 5726422528.0000 - val_root_mean_squared_error: 75673.1328\n",
            "Epoch 59/100\n",
            "563/563 [==============================] - 1s 2ms/step - loss: 5504898560.0000 - root_mean_squared_error: 74195.0000 - val_loss: 5486620160.0000 - val_root_mean_squared_error: 74071.7266\n",
            "Epoch 60/100\n",
            "563/563 [==============================] - 1s 2ms/step - loss: 5520218112.0000 - root_mean_squared_error: 74298.1719 - val_loss: 5487354880.0000 - val_root_mean_squared_error: 74076.6797\n",
            "Epoch 61/100\n",
            "563/563 [==============================] - 1s 2ms/step - loss: 5536392704.0000 - root_mean_squared_error: 74406.9375 - val_loss: 5621243392.0000 - val_root_mean_squared_error: 74974.9531\n",
            "Epoch 62/100\n",
            "563/563 [==============================] - 2s 3ms/step - loss: 5512640512.0000 - root_mean_squared_error: 74247.1562 - val_loss: 5492129280.0000 - val_root_mean_squared_error: 74108.8984\n",
            "Epoch 63/100\n",
            "563/563 [==============================] - 2s 3ms/step - loss: 5546311168.0000 - root_mean_squared_error: 74473.5625 - val_loss: 5486228992.0000 - val_root_mean_squared_error: 74069.0859\n",
            "Epoch 64/100\n",
            "563/563 [==============================] - 1s 2ms/step - loss: 5535052800.0000 - root_mean_squared_error: 74397.9375 - val_loss: 5500444160.0000 - val_root_mean_squared_error: 74164.9766\n",
            "Epoch 65/100\n",
            "563/563 [==============================] - 1s 2ms/step - loss: 5512501760.0000 - root_mean_squared_error: 74246.2266 - val_loss: 5767736832.0000 - val_root_mean_squared_error: 75945.6172\n",
            "Epoch 66/100\n",
            "563/563 [==============================] - 1s 2ms/step - loss: 5540087296.0000 - root_mean_squared_error: 74431.7656 - val_loss: 5696189952.0000 - val_root_mean_squared_error: 75473.1094\n",
            "Epoch 67/100\n",
            "563/563 [==============================] - 1s 2ms/step - loss: 5509603328.0000 - root_mean_squared_error: 74226.7031 - val_loss: 5633178624.0000 - val_root_mean_squared_error: 75054.5078\n",
            "Epoch 68/100\n",
            "563/563 [==============================] - 1s 2ms/step - loss: 5504017920.0000 - root_mean_squared_error: 74189.0703 - val_loss: 5502119936.0000 - val_root_mean_squared_error: 74176.2734\n",
            "Epoch 69/100\n",
            "563/563 [==============================] - 1s 2ms/step - loss: 5510325760.0000 - root_mean_squared_error: 74231.5703 - val_loss: 5510612480.0000 - val_root_mean_squared_error: 74233.5000\n",
            "Epoch 70/100\n",
            "563/563 [==============================] - 1s 2ms/step - loss: 5509575680.0000 - root_mean_squared_error: 74226.5156 - val_loss: 5479613440.0000 - val_root_mean_squared_error: 74024.4141\n",
            "Epoch 71/100\n",
            "563/563 [==============================] - 1s 2ms/step - loss: 5505771008.0000 - root_mean_squared_error: 74200.8828 - val_loss: 6055771136.0000 - val_root_mean_squared_error: 77818.8359\n",
            "Epoch 72/100\n",
            "563/563 [==============================] - 1s 2ms/step - loss: 5511609344.0000 - root_mean_squared_error: 74240.2109 - val_loss: 5495171584.0000 - val_root_mean_squared_error: 74129.4219\n",
            "Epoch 73/100\n",
            "563/563 [==============================] - 2s 3ms/step - loss: 5476954112.0000 - root_mean_squared_error: 74006.4453 - val_loss: 5475847168.0000 - val_root_mean_squared_error: 73998.9688\n",
            "Epoch 74/100\n",
            "563/563 [==============================] - 2s 3ms/step - loss: 5502219776.0000 - root_mean_squared_error: 74176.9453 - val_loss: 5498458112.0000 - val_root_mean_squared_error: 74151.5859\n",
            "Epoch 75/100\n",
            "563/563 [==============================] - 1s 2ms/step - loss: 5511774720.0000 - root_mean_squared_error: 74241.3281 - val_loss: 5471284224.0000 - val_root_mean_squared_error: 73968.1328\n",
            "Epoch 76/100\n",
            "563/563 [==============================] - 1s 2ms/step - loss: 5504500224.0000 - root_mean_squared_error: 74192.3203 - val_loss: 5476210176.0000 - val_root_mean_squared_error: 74001.4219\n",
            "Epoch 77/100\n",
            "563/563 [==============================] - 1s 2ms/step - loss: 5496635904.0000 - root_mean_squared_error: 74139.2969 - val_loss: 5476169216.0000 - val_root_mean_squared_error: 74001.1406\n",
            "Epoch 78/100\n",
            "562/563 [============================>.] - ETA: 0s - loss: 5506230272.0000 - root_mean_squared_error: 74203.9766"
          ]
        },
        {
          "output_type": "stream",
          "name": "stderr",
          "text": [
            "WARNING:absl:Found untraced functions such as _update_step_xla while saving (showing 1 of 1). These functions will not be directly callable after loading.\n"
          ]
        },
        {
          "output_type": "stream",
          "name": "stdout",
          "text": [
            "\b\b\b\b\b\b\b\b\b\b\b\b\b\b\b\b\b\b\b\b\b\b\b\b\b\b\b\b\b\b\b\b\b\b\b\b\b\b\b\b\b\b\b\b\b\b\b\b\b\b\b\b\b\b\b\b\b\b\b\b\b\b\b\b\b\b\b\b\b\b\b\b\b\b\b\b\b\b\b\b\b\b\b\b\b\b\b\b\b\b\b\b\b\b\b\b\b\b\b\b\b\b\b\b\b\b\b\b\b\b\b\b\r563/563 [==============================] - 2s 3ms/step - loss: 5505651200.0000 - root_mean_squared_error: 74200.0781 - val_loss: 5456961536.0000 - val_root_mean_squared_error: 73871.2500\n",
            "Epoch 79/100\n",
            "563/563 [==============================] - 1s 2ms/step - loss: 5522146304.0000 - root_mean_squared_error: 74311.1484 - val_loss: 5559737856.0000 - val_root_mean_squared_error: 74563.6484\n",
            "Epoch 80/100\n",
            "563/563 [==============================] - 1s 2ms/step - loss: 5527978496.0000 - root_mean_squared_error: 74350.3750 - val_loss: 5479448576.0000 - val_root_mean_squared_error: 74023.2969\n",
            "Epoch 81/100\n",
            "557/563 [============================>.] - ETA: 0s - loss: 5389770752.0000 - root_mean_squared_error: 73415.0547"
          ]
        },
        {
          "output_type": "stream",
          "name": "stderr",
          "text": [
            "WARNING:absl:Found untraced functions such as _update_step_xla while saving (showing 1 of 1). These functions will not be directly callable after loading.\n"
          ]
        },
        {
          "output_type": "stream",
          "name": "stdout",
          "text": [
            "\b\b\b\b\b\b\b\b\b\b\b\b\b\b\b\b\b\b\b\b\b\b\b\b\b\b\b\b\b\b\b\b\b\b\b\b\b\b\b\b\b\b\b\b\b\b\b\b\b\b\b\b\b\b\b\b\b\b\b\b\b\b\b\b\b\b\b\b\b\b\b\b\b\b\b\b\b\b\b\b\b\b\b\b\b\b\b\b\b\b\b\b\b\b\b\b\b\b\b\b\b\b\b\b\b\b\b\b\b\b\b\b\r563/563 [==============================] - 2s 3ms/step - loss: 5398280704.0000 - root_mean_squared_error: 73472.9922 - val_loss: 5446400000.0000 - val_root_mean_squared_error: 73799.7266\n",
            "Epoch 82/100\n",
            "549/563 [============================>.] - ETA: 0s - loss: 5360078336.0000 - root_mean_squared_error: 73212.5547"
          ]
        },
        {
          "output_type": "stream",
          "name": "stderr",
          "text": [
            "WARNING:absl:Found untraced functions such as _update_step_xla while saving (showing 1 of 1). These functions will not be directly callable after loading.\n"
          ]
        },
        {
          "output_type": "stream",
          "name": "stdout",
          "text": [
            "\b\b\b\b\b\b\b\b\b\b\b\b\b\b\b\b\b\b\b\b\b\b\b\b\b\b\b\b\b\b\b\b\b\b\b\b\b\b\b\b\b\b\b\b\b\b\b\b\b\b\b\b\b\b\b\b\b\b\b\b\b\b\b\b\b\b\b\b\b\b\b\b\b\b\b\b\b\b\b\b\b\b\b\b\b\b\b\b\b\b\b\b\b\b\b\b\b\b\b\b\b\b\b\b\b\b\b\b\b\b\b\b\r563/563 [==============================] - 3s 5ms/step - loss: 5359174656.0000 - root_mean_squared_error: 73206.3828 - val_loss: 5389847040.0000 - val_root_mean_squared_error: 73415.5781\n",
            "Epoch 83/100\n",
            "559/563 [============================>.] - ETA: 0s - loss: 5323113472.0000 - root_mean_squared_error: 72959.6719"
          ]
        },
        {
          "output_type": "stream",
          "name": "stderr",
          "text": [
            "WARNING:absl:Found untraced functions such as _update_step_xla while saving (showing 1 of 1). These functions will not be directly callable after loading.\n"
          ]
        },
        {
          "output_type": "stream",
          "name": "stdout",
          "text": [
            "\b\b\b\b\b\b\b\b\b\b\b\b\b\b\b\b\b\b\b\b\b\b\b\b\b\b\b\b\b\b\b\b\b\b\b\b\b\b\b\b\b\b\b\b\b\b\b\b\b\b\b\b\b\b\b\b\b\b\b\b\b\b\b\b\b\b\b\b\b\b\b\b\b\b\b\b\b\b\b\b\b\b\b\b\b\b\b\b\b\b\b\b\b\b\b\b\b\b\b\b\b\b\b\b\b\b\b\b\b\b\b\b\r563/563 [==============================] - 2s 3ms/step - loss: 5330683392.0000 - root_mean_squared_error: 73011.5312 - val_loss: 5363160064.0000 - val_root_mean_squared_error: 73233.6016\n",
            "Epoch 84/100\n",
            "547/563 [============================>.] - ETA: 0s - loss: 5332410880.0000 - root_mean_squared_error: 73023.3594"
          ]
        },
        {
          "output_type": "stream",
          "name": "stderr",
          "text": [
            "WARNING:absl:Found untraced functions such as _update_step_xla while saving (showing 1 of 1). These functions will not be directly callable after loading.\n"
          ]
        },
        {
          "output_type": "stream",
          "name": "stdout",
          "text": [
            "\b\b\b\b\b\b\b\b\b\b\b\b\b\b\b\b\b\b\b\b\b\b\b\b\b\b\b\b\b\b\b\b\b\b\b\b\b\b\b\b\b\b\b\b\b\b\b\b\b\b\b\b\b\b\b\b\b\b\b\b\b\b\b\b\b\b\b\b\b\b\b\b\b\b\b\b\b\b\b\b\b\b\b\b\b\b\b\b\b\b\b\b\b\b\b\b\b\b\b\b\b\b\b\b\b\b\b\b\b\b\b\b\r563/563 [==============================] - 2s 3ms/step - loss: 5318027776.0000 - root_mean_squared_error: 72924.8125 - val_loss: 5277455360.0000 - val_root_mean_squared_error: 72646.0938\n",
            "Epoch 85/100\n",
            "563/563 [==============================] - 1s 2ms/step - loss: 5264870912.0000 - root_mean_squared_error: 72559.4297 - val_loss: 5371310592.0000 - val_root_mean_squared_error: 73289.2266\n",
            "Epoch 86/100\n",
            "563/563 [==============================] - 1s 2ms/step - loss: 5264596480.0000 - root_mean_squared_error: 72557.5391 - val_loss: 5418463744.0000 - val_root_mean_squared_error: 73610.2188\n",
            "Epoch 87/100\n",
            "563/563 [==============================] - 1s 2ms/step - loss: 5291268096.0000 - root_mean_squared_error: 72741.1016 - val_loss: 5478287360.0000 - val_root_mean_squared_error: 74015.4531\n",
            "Epoch 88/100\n",
            "563/563 [==============================] - 1s 2ms/step - loss: 5266987008.0000 - root_mean_squared_error: 72574.0078 - val_loss: 5817027072.0000 - val_root_mean_squared_error: 76269.4375\n",
            "Epoch 89/100\n",
            "563/563 [==============================] - 1s 2ms/step - loss: 5268897280.0000 - root_mean_squared_error: 72587.1719 - val_loss: 5514866688.0000 - val_root_mean_squared_error: 74262.1484\n",
            "Epoch 90/100\n",
            "563/563 [==============================] - 1s 3ms/step - loss: 5273623552.0000 - root_mean_squared_error: 72619.7188 - val_loss: 5299691520.0000 - val_root_mean_squared_error: 72798.9766\n",
            "Epoch 91/100\n",
            "563/563 [==============================] - 2s 3ms/step - loss: 5327093760.0000 - root_mean_squared_error: 72986.9453 - val_loss: 5506433536.0000 - val_root_mean_squared_error: 74205.3438\n",
            "Epoch 92/100\n",
            "563/563 [==============================] - 1s 2ms/step - loss: 5267699712.0000 - root_mean_squared_error: 72578.9219 - val_loss: 5371652096.0000 - val_root_mean_squared_error: 73291.5547\n",
            "Epoch 93/100\n",
            "563/563 [==============================] - 1s 2ms/step - loss: 5285801472.0000 - root_mean_squared_error: 72703.5156 - val_loss: 5336181248.0000 - val_root_mean_squared_error: 73049.1719\n",
            "Epoch 94/100\n",
            "563/563 [==============================] - 1s 2ms/step - loss: 5266138112.0000 - root_mean_squared_error: 72568.1641 - val_loss: 5576998912.0000 - val_root_mean_squared_error: 74679.3047\n",
            "Epoch 95/100\n",
            "563/563 [==============================] - 1s 2ms/step - loss: 5279663104.0000 - root_mean_squared_error: 72661.2891 - val_loss: 5277587456.0000 - val_root_mean_squared_error: 72647.0078\n",
            "Epoch 96/100\n",
            "538/563 [===========================>..] - ETA: 0s - loss: 5321299456.0000 - root_mean_squared_error: 72947.2344"
          ]
        },
        {
          "output_type": "stream",
          "name": "stderr",
          "text": [
            "WARNING:absl:Found untraced functions such as _update_step_xla while saving (showing 1 of 1). These functions will not be directly callable after loading.\n"
          ]
        },
        {
          "output_type": "stream",
          "name": "stdout",
          "text": [
            "\b\b\b\b\b\b\b\b\b\b\b\b\b\b\b\b\b\b\b\b\b\b\b\b\b\b\b\b\b\b\b\b\b\b\b\b\b\b\b\b\b\b\b\b\b\b\b\b\b\b\b\b\b\b\b\b\b\b\b\b\b\b\b\b\b\b\b\b\b\b\b\b\b\b\b\b\b\b\b\b\b\b\b\b\b\b\b\b\b\b\b\b\b\b\b\b\b\b\b\b\b\b\b\b\b\b\b\b\b\b\b\b\r563/563 [==============================] - 2s 3ms/step - loss: 5282971648.0000 - root_mean_squared_error: 72684.0547 - val_loss: 5266353152.0000 - val_root_mean_squared_error: 72569.6406\n",
            "Epoch 97/100\n",
            "563/563 [==============================] - 1s 2ms/step - loss: 5260554240.0000 - root_mean_squared_error: 72529.6797 - val_loss: 5280067072.0000 - val_root_mean_squared_error: 72664.0703\n",
            "Epoch 98/100\n",
            "563/563 [==============================] - 1s 2ms/step - loss: 5222131200.0000 - root_mean_squared_error: 72264.3125 - val_loss: 5379412480.0000 - val_root_mean_squared_error: 73344.4766\n",
            "Epoch 99/100\n",
            "563/563 [==============================] - 1s 2ms/step - loss: 5255802880.0000 - root_mean_squared_error: 72496.9141 - val_loss: 5481803776.0000 - val_root_mean_squared_error: 74039.2031\n",
            "Epoch 100/100\n",
            "563/563 [==============================] - 2s 3ms/step - loss: 5254477824.0000 - root_mean_squared_error: 72487.7734 - val_loss: 5558461440.0000 - val_root_mean_squared_error: 74555.0938\n"
          ]
        },
        {
          "output_type": "execute_result",
          "data": {
            "text/plain": [
              "<keras.callbacks.History at 0x7f26acbd1a80>"
            ]
          },
          "metadata": {},
          "execution_count": 29
        }
      ]
    },
    {
      "cell_type": "code",
      "source": [
        "large_nn = Sequential()\n",
        "large_nn.add(InputLayer((13,)))\n",
        "large_nn.add(Dense(256, 'relu'))\n",
        "large_nn.add(Dense(128, 'relu'))\n",
        "large_nn.add(Dense(64, 'relu'))\n",
        "large_nn.add(Dense(32, 'relu'))\n",
        "large_nn.add(Dense(1, 'linear'))\n",
        "\n",
        "opt = Adam(learning_rate=.1)\n",
        "cp = ModelCheckpoint('models/large_nn', save_best_only=True)\n",
        "large_nn.compile(optimizer=opt, loss='mse', metrics=[RootMeanSquaredError()])\n",
        "large_nn.fit(x=X_train, y=y_train, validation_data=(X_val, y_val), callbacks=[cp], epochs=100)"
      ],
      "metadata": {
        "colab": {
          "base_uri": "https://localhost:8080/"
        },
        "id": "l-ag3_-aQnNc",
        "outputId": "1379e5f4-a68e-4000-9fe9-b904da69b008"
      },
      "execution_count": 30,
      "outputs": [
        {
          "output_type": "stream",
          "name": "stdout",
          "text": [
            "Epoch 1/100\n",
            "560/563 [============================>.] - ETA: 0s - loss: 7705503744.0000 - root_mean_squared_error: 87781.0000"
          ]
        },
        {
          "output_type": "stream",
          "name": "stderr",
          "text": [
            "WARNING:absl:Found untraced functions such as _update_step_xla while saving (showing 1 of 1). These functions will not be directly callable after loading.\n"
          ]
        },
        {
          "output_type": "stream",
          "name": "stdout",
          "text": [
            "\b\b\b\b\b\b\b\b\b\b\b\b\b\b\b\b\b\b\b\b\b\b\b\b\b\b\b\b\b\b\b\b\b\b\b\b\b\b\b\b\b\b\b\b\b\b\b\b\b\b\b\b\b\b\b\b\b\b\b\b\b\b\b\b\b\b\b\b\b\b\b\b\b\b\b\b\b\b\b\b\b\b\b\b\b\b\b\b\b\b\b\b\b\b\b\b\b\b\b\b\b\b\b\b\b\b\b\b\b\b\b\b\r563/563 [==============================] - 5s 5ms/step - loss: 7692599296.0000 - root_mean_squared_error: 87707.4609 - val_loss: 6291720704.0000 - val_root_mean_squared_error: 79320.3672\n",
            "Epoch 2/100\n",
            "563/563 [==============================] - 2s 3ms/step - loss: 6643632128.0000 - root_mean_squared_error: 81508.4766 - val_loss: 7226293248.0000 - val_root_mean_squared_error: 85007.6094\n",
            "Epoch 3/100\n",
            "563/563 [==============================] - 2s 4ms/step - loss: 6508658176.0000 - root_mean_squared_error: 80676.2578 - val_loss: 7036867072.0000 - val_root_mean_squared_error: 83886.0391\n",
            "Epoch 4/100\n",
            "545/563 [============================>.] - ETA: 0s - loss: 6241930752.0000 - root_mean_squared_error: 79005.8906"
          ]
        },
        {
          "output_type": "stream",
          "name": "stderr",
          "text": [
            "WARNING:absl:Found untraced functions such as _update_step_xla while saving (showing 1 of 1). These functions will not be directly callable after loading.\n"
          ]
        },
        {
          "output_type": "stream",
          "name": "stdout",
          "text": [
            "\b\b\b\b\b\b\b\b\b\b\b\b\b\b\b\b\b\b\b\b\b\b\b\b\b\b\b\b\b\b\b\b\b\b\b\b\b\b\b\b\b\b\b\b\b\b\b\b\b\b\b\b\b\b\b\b\b\b\b\b\b\b\b\b\b\b\b\b\b\b\b\b\b\b\b\b\b\b\b\b\b\b\b\b\b\b\b\b\b\b\b\b\b\b\b\b\b\b\b\b\b\b\b\b\b\b\b\b\b\b\b\b\r563/563 [==============================] - 3s 5ms/step - loss: 6205381120.0000 - root_mean_squared_error: 78774.2422 - val_loss: 5573675520.0000 - val_root_mean_squared_error: 74657.0547\n",
            "Epoch 5/100\n",
            "563/563 [==============================] - 2s 3ms/step - loss: 6078315008.0000 - root_mean_squared_error: 77963.5469 - val_loss: 5705262592.0000 - val_root_mean_squared_error: 75533.1875\n",
            "Epoch 6/100\n",
            "563/563 [==============================] - 2s 3ms/step - loss: 6031621120.0000 - root_mean_squared_error: 77663.5156 - val_loss: 7088233984.0000 - val_root_mean_squared_error: 84191.6484\n",
            "Epoch 7/100\n",
            "563/563 [==============================] - 2s 3ms/step - loss: 5964003328.0000 - root_mean_squared_error: 77226.9609 - val_loss: 5975494144.0000 - val_root_mean_squared_error: 77301.3203\n",
            "Epoch 8/100\n",
            "554/563 [============================>.] - ETA: 0s - loss: 5770889728.0000 - root_mean_squared_error: 75966.3750"
          ]
        },
        {
          "output_type": "stream",
          "name": "stderr",
          "text": [
            "WARNING:absl:Found untraced functions such as _update_step_xla while saving (showing 1 of 1). These functions will not be directly callable after loading.\n"
          ]
        },
        {
          "output_type": "stream",
          "name": "stdout",
          "text": [
            "\b\b\b\b\b\b\b\b\b\b\b\b\b\b\b\b\b\b\b\b\b\b\b\b\b\b\b\b\b\b\b\b\b\b\b\b\b\b\b\b\b\b\b\b\b\b\b\b\b\b\b\b\b\b\b\b\b\b\b\b\b\b\b\b\b\b\b\b\b\b\b\b\b\b\b\b\b\b\b\b\b\b\b\b\b\b\b\b\b\b\b\b\b\b\b\b\b\b\b\b\b\b\b\b\b\b\b\b\b\b\b\b\r563/563 [==============================] - 3s 5ms/step - loss: 5789361664.0000 - root_mean_squared_error: 76087.8516 - val_loss: 5486215680.0000 - val_root_mean_squared_error: 74068.9922\n",
            "Epoch 9/100\n",
            "562/563 [============================>.] - ETA: 0s - loss: 5846906368.0000 - root_mean_squared_error: 76465.0625"
          ]
        },
        {
          "output_type": "stream",
          "name": "stderr",
          "text": [
            "WARNING:absl:Found untraced functions such as _update_step_xla while saving (showing 1 of 1). These functions will not be directly callable after loading.\n"
          ]
        },
        {
          "output_type": "stream",
          "name": "stdout",
          "text": [
            "\b\b\b\b\b\b\b\b\b\b\b\b\b\b\b\b\b\b\b\b\b\b\b\b\b\b\b\b\b\b\b\b\b\b\b\b\b\b\b\b\b\b\b\b\b\b\b\b\b\b\b\b\b\b\b\b\b\b\b\b\b\b\b\b\b\b\b\b\b\b\b\b\b\b\b\b\b\b\b\b\b\b\b\b\b\b\b\b\b\b\b\b\b\b\b\b\b\b\b\b\b\b\b\b\b\b\b\b\b\b\b\b\r563/563 [==============================] - 3s 6ms/step - loss: 5843452416.0000 - root_mean_squared_error: 76442.4766 - val_loss: 5485813248.0000 - val_root_mean_squared_error: 74066.2734\n",
            "Epoch 10/100\n",
            "563/563 [==============================] - 2s 3ms/step - loss: 5739429376.0000 - root_mean_squared_error: 75759.0234 - val_loss: 5900616704.0000 - val_root_mean_squared_error: 76815.4688\n",
            "Epoch 11/100\n",
            "557/563 [============================>.] - ETA: 0s - loss: 5670340608.0000 - root_mean_squared_error: 75301.6641"
          ]
        },
        {
          "output_type": "stream",
          "name": "stderr",
          "text": [
            "WARNING:absl:Found untraced functions such as _update_step_xla while saving (showing 1 of 1). These functions will not be directly callable after loading.\n"
          ]
        },
        {
          "output_type": "stream",
          "name": "stdout",
          "text": [
            "\b\b\b\b\b\b\b\b\b\b\b\b\b\b\b\b\b\b\b\b\b\b\b\b\b\b\b\b\b\b\b\b\b\b\b\b\b\b\b\b\b\b\b\b\b\b\b\b\b\b\b\b\b\b\b\b\b\b\b\b\b\b\b\b\b\b\b\b\b\b\b\b\b\b\b\b\b\b\b\b\b\b\b\b\b\b\b\b\b\b\b\b\b\b\b\b\b\b\b\b\b\b\b\b\b\b\b\b\b\b\b\b\r563/563 [==============================] - 3s 5ms/step - loss: 5683499008.0000 - root_mean_squared_error: 75388.9844 - val_loss: 5405594112.0000 - val_root_mean_squared_error: 73522.7422\n",
            "Epoch 12/100\n",
            "563/563 [==============================] - 2s 3ms/step - loss: 5754039296.0000 - root_mean_squared_error: 75855.3828 - val_loss: 5647931904.0000 - val_root_mean_squared_error: 75152.7266\n",
            "Epoch 13/100\n",
            "563/563 [==============================] - 2s 3ms/step - loss: 5655365120.0000 - root_mean_squared_error: 75202.1641 - val_loss: 5831952384.0000 - val_root_mean_squared_error: 76367.2188\n",
            "Epoch 14/100\n",
            "563/563 [==============================] - 2s 3ms/step - loss: 5728897024.0000 - root_mean_squared_error: 75689.4766 - val_loss: 6649817088.0000 - val_root_mean_squared_error: 81546.4141\n",
            "Epoch 15/100\n",
            "563/563 [==============================] - 2s 4ms/step - loss: 5549182976.0000 - root_mean_squared_error: 74492.8359 - val_loss: 5808577536.0000 - val_root_mean_squared_error: 76214.0234\n",
            "Epoch 16/100\n",
            "563/563 [==============================] - 2s 4ms/step - loss: 5580388864.0000 - root_mean_squared_error: 74702.0000 - val_loss: 5691759104.0000 - val_root_mean_squared_error: 75443.7500\n",
            "Epoch 17/100\n",
            "563/563 [==============================] - 2s 3ms/step - loss: 5653877760.0000 - root_mean_squared_error: 75192.2734 - val_loss: 5585926656.0000 - val_root_mean_squared_error: 74739.0547\n",
            "Epoch 18/100\n",
            "563/563 [==============================] - 2s 3ms/step - loss: 5516951552.0000 - root_mean_squared_error: 74276.1875 - val_loss: 5813679616.0000 - val_root_mean_squared_error: 76247.4922\n",
            "Epoch 19/100\n",
            "563/563 [==============================] - 2s 3ms/step - loss: 5599142400.0000 - root_mean_squared_error: 74827.4141 - val_loss: 5839651840.0000 - val_root_mean_squared_error: 76417.6172\n",
            "Epoch 20/100\n",
            "563/563 [==============================] - 2s 3ms/step - loss: 5564060160.0000 - root_mean_squared_error: 74592.6250 - val_loss: 6021176320.0000 - val_root_mean_squared_error: 77596.2422\n",
            "Epoch 21/100\n",
            "563/563 [==============================] - 2s 3ms/step - loss: 5600409600.0000 - root_mean_squared_error: 74835.8828 - val_loss: 5623546880.0000 - val_root_mean_squared_error: 74990.3125\n",
            "Epoch 22/100\n",
            "563/563 [==============================] - 2s 4ms/step - loss: 5480013824.0000 - root_mean_squared_error: 74027.1172 - val_loss: 5513500672.0000 - val_root_mean_squared_error: 74252.9531\n",
            "Epoch 23/100\n",
            "563/563 [==============================] - 2s 4ms/step - loss: 5503392768.0000 - root_mean_squared_error: 74184.8516 - val_loss: 5580722688.0000 - val_root_mean_squared_error: 74704.2344\n",
            "Epoch 24/100\n",
            "561/563 [============================>.] - ETA: 0s - loss: 5507031552.0000 - root_mean_squared_error: 74209.3750"
          ]
        },
        {
          "output_type": "stream",
          "name": "stderr",
          "text": [
            "WARNING:absl:Found untraced functions such as _update_step_xla while saving (showing 1 of 1). These functions will not be directly callable after loading.\n"
          ]
        },
        {
          "output_type": "stream",
          "name": "stdout",
          "text": [
            "\b\b\b\b\b\b\b\b\b\b\b\b\b\b\b\b\b\b\b\b\b\b\b\b\b\b\b\b\b\b\b\b\b\b\b\b\b\b\b\b\b\b\b\b\b\b\b\b\b\b\b\b\b\b\b\b\b\b\b\b\b\b\b\b\b\b\b\b\b\b\b\b\b\b\b\b\b\b\b\b\b\b\b\b\b\b\b\b\b\b\b\b\b\b\b\b\b\b\b\b\b\b\b\b\b\b\b\b\b\b\b\b\r563/563 [==============================] - 3s 5ms/step - loss: 5504220672.0000 - root_mean_squared_error: 74190.4375 - val_loss: 5345780736.0000 - val_root_mean_squared_error: 73114.8438\n",
            "Epoch 25/100\n",
            "563/563 [==============================] - 2s 3ms/step - loss: 5520628224.0000 - root_mean_squared_error: 74300.9297 - val_loss: 5431071232.0000 - val_root_mean_squared_error: 73695.8047\n",
            "Epoch 26/100\n",
            "563/563 [==============================] - 2s 3ms/step - loss: 5452587008.0000 - root_mean_squared_error: 73841.6328 - val_loss: 5559903744.0000 - val_root_mean_squared_error: 74564.7656\n",
            "Epoch 27/100\n",
            "563/563 [==============================] - ETA: 0s - loss: 5482970624.0000 - root_mean_squared_error: 74047.0859"
          ]
        },
        {
          "output_type": "stream",
          "name": "stderr",
          "text": [
            "WARNING:absl:Found untraced functions such as _update_step_xla while saving (showing 1 of 1). These functions will not be directly callable after loading.\n"
          ]
        },
        {
          "output_type": "stream",
          "name": "stdout",
          "text": [
            "\b\b\b\b\b\b\b\b\b\b\b\b\b\b\b\b\b\b\b\b\b\b\b\b\b\b\b\b\b\b\b\b\b\b\b\b\b\b\b\b\b\b\b\b\b\b\b\b\b\b\b\b\b\b\b\b\b\b\b\b\b\b\b\b\b\b\b\b\b\b\b\b\b\b\b\b\b\b\b\b\b\b\b\b\b\b\b\b\b\b\b\b\b\b\b\b\b\b\b\b\b\b\b\b\b\b\b\b\b\b\b\b\r563/563 [==============================] - 3s 5ms/step - loss: 5482970624.0000 - root_mean_squared_error: 74047.0859 - val_loss: 5337458688.0000 - val_root_mean_squared_error: 73057.9141\n",
            "Epoch 28/100\n",
            "563/563 [==============================] - 2s 4ms/step - loss: 5477888000.0000 - root_mean_squared_error: 74012.7578 - val_loss: 6086511104.0000 - val_root_mean_squared_error: 78016.0938\n",
            "Epoch 29/100\n",
            "563/563 [==============================] - 2s 4ms/step - loss: 5458123264.0000 - root_mean_squared_error: 73879.1094 - val_loss: 5494153728.0000 - val_root_mean_squared_error: 74122.5625\n",
            "Epoch 30/100\n",
            "563/563 [==============================] - 2s 3ms/step - loss: 5458587136.0000 - root_mean_squared_error: 73882.2500 - val_loss: 5824961024.0000 - val_root_mean_squared_error: 76321.4297\n",
            "Epoch 31/100\n",
            "563/563 [==============================] - 2s 3ms/step - loss: 5474471424.0000 - root_mean_squared_error: 73989.6719 - val_loss: 5413553152.0000 - val_root_mean_squared_error: 73576.8516\n",
            "Epoch 32/100\n",
            "562/563 [============================>.] - ETA: 0s - loss: 5494883328.0000 - root_mean_squared_error: 74127.4766"
          ]
        },
        {
          "output_type": "stream",
          "name": "stderr",
          "text": [
            "WARNING:absl:Found untraced functions such as _update_step_xla while saving (showing 1 of 1). These functions will not be directly callable after loading.\n"
          ]
        },
        {
          "output_type": "stream",
          "name": "stdout",
          "text": [
            "\b\b\b\b\b\b\b\b\b\b\b\b\b\b\b\b\b\b\b\b\b\b\b\b\b\b\b\b\b\b\b\b\b\b\b\b\b\b\b\b\b\b\b\b\b\b\b\b\b\b\b\b\b\b\b\b\b\b\b\b\b\b\b\b\b\b\b\b\b\b\b\b\b\b\b\b\b\b\b\b\b\b\b\b\b\b\b\b\b\b\b\b\b\b\b\b\b\b\b\b\b\b\b\b\b\b\b\b\b\b\b\b\r563/563 [==============================] - 3s 5ms/step - loss: 5494125056.0000 - root_mean_squared_error: 74122.3672 - val_loss: 5329470976.0000 - val_root_mean_squared_error: 73003.2266\n",
            "Epoch 33/100\n",
            "563/563 [==============================] - 2s 3ms/step - loss: 5472044544.0000 - root_mean_squared_error: 73973.2656 - val_loss: 5633716224.0000 - val_root_mean_squared_error: 75058.0859\n",
            "Epoch 34/100\n",
            "563/563 [==============================] - 2s 4ms/step - loss: 5522609664.0000 - root_mean_squared_error: 74314.2656 - val_loss: 5777296896.0000 - val_root_mean_squared_error: 76008.5312\n",
            "Epoch 35/100\n",
            "563/563 [==============================] - 2s 4ms/step - loss: 5450892800.0000 - root_mean_squared_error: 73830.1641 - val_loss: 5391363072.0000 - val_root_mean_squared_error: 73425.8984\n",
            "Epoch 36/100\n",
            "563/563 [==============================] - 2s 3ms/step - loss: 5525046784.0000 - root_mean_squared_error: 74330.6562 - val_loss: 5435705856.0000 - val_root_mean_squared_error: 73727.2422\n",
            "Epoch 37/100\n",
            "563/563 [==============================] - 2s 3ms/step - loss: 5497477120.0000 - root_mean_squared_error: 74144.9766 - val_loss: 5354398208.0000 - val_root_mean_squared_error: 73173.7500\n",
            "Epoch 38/100\n",
            "563/563 [==============================] - 2s 3ms/step - loss: 5481403392.0000 - root_mean_squared_error: 74036.5000 - val_loss: 6039232000.0000 - val_root_mean_squared_error: 77712.4922\n",
            "Epoch 39/100\n",
            "563/563 [==============================] - 2s 3ms/step - loss: 5374675968.0000 - root_mean_squared_error: 73312.1797 - val_loss: 5829116416.0000 - val_root_mean_squared_error: 76348.6484\n",
            "Epoch 40/100\n",
            "563/563 [==============================] - 2s 3ms/step - loss: 5554537984.0000 - root_mean_squared_error: 74528.7734 - val_loss: 5331105280.0000 - val_root_mean_squared_error: 73014.4219\n",
            "Epoch 41/100\n",
            "563/563 [==============================] - 2s 3ms/step - loss: 5457145344.0000 - root_mean_squared_error: 73872.4922 - val_loss: 5336253952.0000 - val_root_mean_squared_error: 73049.6641\n",
            "Epoch 42/100\n",
            "563/563 [==============================] - 3s 5ms/step - loss: 5450089472.0000 - root_mean_squared_error: 73824.7188 - val_loss: 5390673920.0000 - val_root_mean_squared_error: 73421.2109\n",
            "Epoch 43/100\n",
            "563/563 [==============================] - 2s 3ms/step - loss: 5398209024.0000 - root_mean_squared_error: 73472.5078 - val_loss: 5347095040.0000 - val_root_mean_squared_error: 73123.8359\n",
            "Epoch 44/100\n",
            "563/563 [==============================] - 2s 3ms/step - loss: 5370717184.0000 - root_mean_squared_error: 73285.1797 - val_loss: 5413372416.0000 - val_root_mean_squared_error: 73575.6250\n",
            "Epoch 45/100\n",
            "563/563 [==============================] - 2s 3ms/step - loss: 5384232960.0000 - root_mean_squared_error: 73377.3359 - val_loss: 6926116864.0000 - val_root_mean_squared_error: 83223.2969\n",
            "Epoch 46/100\n",
            "563/563 [==============================] - 2s 3ms/step - loss: 5425943040.0000 - root_mean_squared_error: 73661.0000 - val_loss: 5498425856.0000 - val_root_mean_squared_error: 74151.3750\n",
            "Epoch 47/100\n",
            "563/563 [==============================] - 2s 3ms/step - loss: 5433628672.0000 - root_mean_squared_error: 73713.1484 - val_loss: 5351268864.0000 - val_root_mean_squared_error: 73152.3672\n",
            "Epoch 48/100\n",
            "563/563 [==============================] - 2s 4ms/step - loss: 5431749120.0000 - root_mean_squared_error: 73700.3984 - val_loss: 5476543488.0000 - val_root_mean_squared_error: 74003.6719\n",
            "Epoch 49/100\n",
            "563/563 [==============================] - 2s 4ms/step - loss: 5438129664.0000 - root_mean_squared_error: 73743.6719 - val_loss: 5495361536.0000 - val_root_mean_squared_error: 74130.7031\n",
            "Epoch 50/100\n",
            "563/563 [==============================] - 2s 3ms/step - loss: 5400196608.0000 - root_mean_squared_error: 73486.0312 - val_loss: 5352368640.0000 - val_root_mean_squared_error: 73159.8828\n",
            "Epoch 51/100\n",
            "563/563 [==============================] - 2s 3ms/step - loss: 5369945600.0000 - root_mean_squared_error: 73279.9141 - val_loss: 5405449728.0000 - val_root_mean_squared_error: 73521.7656\n",
            "Epoch 52/100\n",
            "563/563 [==============================] - 2s 3ms/step - loss: 5443059712.0000 - root_mean_squared_error: 73777.0938 - val_loss: 6538842112.0000 - val_root_mean_squared_error: 80863.1094\n",
            "Epoch 53/100\n",
            "563/563 [==============================] - 2s 3ms/step - loss: 5405953536.0000 - root_mean_squared_error: 73525.1875 - val_loss: 5933460480.0000 - val_root_mean_squared_error: 77028.9609\n",
            "Epoch 54/100\n",
            "563/563 [==============================] - 2s 3ms/step - loss: 5399915008.0000 - root_mean_squared_error: 73484.1172 - val_loss: 5501419008.0000 - val_root_mean_squared_error: 74171.5547\n",
            "Epoch 55/100\n",
            "560/563 [============================>.] - ETA: 0s - loss: 5370541056.0000 - root_mean_squared_error: 73283.9766"
          ]
        },
        {
          "output_type": "stream",
          "name": "stderr",
          "text": [
            "WARNING:absl:Found untraced functions such as _update_step_xla while saving (showing 1 of 1). These functions will not be directly callable after loading.\n"
          ]
        },
        {
          "output_type": "stream",
          "name": "stdout",
          "text": [
            "\b\b\b\b\b\b\b\b\b\b\b\b\b\b\b\b\b\b\b\b\b\b\b\b\b\b\b\b\b\b\b\b\b\b\b\b\b\b\b\b\b\b\b\b\b\b\b\b\b\b\b\b\b\b\b\b\b\b\b\b\b\b\b\b\b\b\b\b\b\b\b\b\b\b\b\b\b\b\b\b\b\b\b\b\b\b\b\b\b\b\b\b\b\b\b\b\b\b\b\b\b\b\b\b\b\b\b\b\b\b\b\b\r563/563 [==============================] - 4s 6ms/step - loss: 5363323392.0000 - root_mean_squared_error: 73234.7109 - val_loss: 5316850688.0000 - val_root_mean_squared_error: 72916.7344\n",
            "Epoch 56/100\n",
            "556/563 [============================>.] - ETA: 0s - loss: 5321637376.0000 - root_mean_squared_error: 72949.5547"
          ]
        },
        {
          "output_type": "stream",
          "name": "stderr",
          "text": [
            "WARNING:absl:Found untraced functions such as _update_step_xla while saving (showing 1 of 1). These functions will not be directly callable after loading.\n"
          ]
        },
        {
          "output_type": "stream",
          "name": "stdout",
          "text": [
            "\b\b\b\b\b\b\b\b\b\b\b\b\b\b\b\b\b\b\b\b\b\b\b\b\b\b\b\b\b\b\b\b\b\b\b\b\b\b\b\b\b\b\b\b\b\b\b\b\b\b\b\b\b\b\b\b\b\b\b\b\b\b\b\b\b\b\b\b\b\b\b\b\b\b\b\b\b\b\b\b\b\b\b\b\b\b\b\b\b\b\b\b\b\b\b\b\b\b\b\b\b\b\b\b\b\b\b\b\b\b\b\b\r563/563 [==============================] - 3s 5ms/step - loss: 5330381824.0000 - root_mean_squared_error: 73009.4609 - val_loss: 5285929472.0000 - val_root_mean_squared_error: 72704.3984\n",
            "Epoch 57/100\n",
            "563/563 [==============================] - 2s 3ms/step - loss: 5346488320.0000 - root_mean_squared_error: 73119.6875 - val_loss: 5415312896.0000 - val_root_mean_squared_error: 73588.8125\n",
            "Epoch 58/100\n",
            "563/563 [==============================] - 2s 3ms/step - loss: 5331350528.0000 - root_mean_squared_error: 73016.1016 - val_loss: 5564325376.0000 - val_root_mean_squared_error: 74594.4062\n",
            "Epoch 59/100\n",
            "563/563 [==============================] - 2s 3ms/step - loss: 5346980352.0000 - root_mean_squared_error: 73123.0469 - val_loss: 5980518400.0000 - val_root_mean_squared_error: 77333.8125\n",
            "Epoch 60/100\n",
            "563/563 [==============================] - 3s 5ms/step - loss: 5414190592.0000 - root_mean_squared_error: 73581.1875 - val_loss: 5434913280.0000 - val_root_mean_squared_error: 73721.8672\n",
            "Epoch 61/100\n",
            "563/563 [==============================] - 4s 6ms/step - loss: 5323715584.0000 - root_mean_squared_error: 72963.7969 - val_loss: 5337950208.0000 - val_root_mean_squared_error: 73061.2734\n",
            "Epoch 62/100\n",
            "563/563 [==============================] - 2s 3ms/step - loss: 5334088192.0000 - root_mean_squared_error: 73034.8438 - val_loss: 5360763392.0000 - val_root_mean_squared_error: 73217.2344\n",
            "Epoch 63/100\n",
            "563/563 [==============================] - 2s 3ms/step - loss: 5361685504.0000 - root_mean_squared_error: 73223.5312 - val_loss: 5324502528.0000 - val_root_mean_squared_error: 72969.1875\n",
            "Epoch 64/100\n",
            "563/563 [==============================] - 2s 3ms/step - loss: 5381312512.0000 - root_mean_squared_error: 73357.4297 - val_loss: 5324624384.0000 - val_root_mean_squared_error: 72970.0234\n",
            "Epoch 65/100\n",
            "563/563 [==============================] - 2s 3ms/step - loss: 5394905600.0000 - root_mean_squared_error: 73450.0234 - val_loss: 5360640512.0000 - val_root_mean_squared_error: 73216.3984\n",
            "Epoch 66/100\n",
            "563/563 [==============================] - 2s 3ms/step - loss: 5359085056.0000 - root_mean_squared_error: 73205.7734 - val_loss: 5331337216.0000 - val_root_mean_squared_error: 73016.0078\n",
            "Epoch 67/100\n",
            "563/563 [==============================] - 2s 3ms/step - loss: 5342329856.0000 - root_mean_squared_error: 73091.2422 - val_loss: 5602510848.0000 - val_root_mean_squared_error: 74849.9219\n",
            "Epoch 68/100\n",
            "563/563 [==============================] - 2s 4ms/step - loss: 5372623872.0000 - root_mean_squared_error: 73298.1875 - val_loss: 5348873216.0000 - val_root_mean_squared_error: 73135.9922\n",
            "Epoch 69/100\n",
            "563/563 [==============================] - 2s 3ms/step - loss: 5344075264.0000 - root_mean_squared_error: 73103.1797 - val_loss: 5415852032.0000 - val_root_mean_squared_error: 73592.4766\n",
            "Epoch 70/100\n",
            "563/563 [==============================] - 1s 3ms/step - loss: 5322515968.0000 - root_mean_squared_error: 72955.5781 - val_loss: 5411477504.0000 - val_root_mean_squared_error: 73562.7422\n",
            "Epoch 71/100\n",
            "560/563 [============================>.] - ETA: 0s - loss: 5417588224.0000 - root_mean_squared_error: 73604.2656"
          ]
        },
        {
          "output_type": "stream",
          "name": "stderr",
          "text": [
            "WARNING:absl:Found untraced functions such as _update_step_xla while saving (showing 1 of 1). These functions will not be directly callable after loading.\n"
          ]
        },
        {
          "output_type": "stream",
          "name": "stdout",
          "text": [
            "\b\b\b\b\b\b\b\b\b\b\b\b\b\b\b\b\b\b\b\b\b\b\b\b\b\b\b\b\b\b\b\b\b\b\b\b\b\b\b\b\b\b\b\b\b\b\b\b\b\b\b\b\b\b\b\b\b\b\b\b\b\b\b\b\b\b\b\b\b\b\b\b\b\b\b\b\b\b\b\b\b\b\b\b\b\b\b\b\b\b\b\b\b\b\b\b\b\b\b\b\b\b\b\b\b\b\b\b\b\b\b\b\r563/563 [==============================] - 3s 4ms/step - loss: 5420385792.0000 - root_mean_squared_error: 73623.2656 - val_loss: 5272844288.0000 - val_root_mean_squared_error: 72614.3516\n",
            "Epoch 72/100\n",
            "563/563 [==============================] - 2s 3ms/step - loss: 5335449088.0000 - root_mean_squared_error: 73044.1562 - val_loss: 5280207360.0000 - val_root_mean_squared_error: 72665.0391\n",
            "Epoch 73/100\n",
            "563/563 [==============================] - 2s 3ms/step - loss: 5368605184.0000 - root_mean_squared_error: 73270.7656 - val_loss: 5459912192.0000 - val_root_mean_squared_error: 73891.2188\n",
            "Epoch 74/100\n",
            "563/563 [==============================] - 2s 3ms/step - loss: 5391501312.0000 - root_mean_squared_error: 73426.8438 - val_loss: 5429503488.0000 - val_root_mean_squared_error: 73685.1641\n",
            "Epoch 75/100\n",
            "563/563 [==============================] - 2s 4ms/step - loss: 5380894720.0000 - root_mean_squared_error: 73354.5859 - val_loss: 5295905280.0000 - val_root_mean_squared_error: 72772.9688\n",
            "Epoch 76/100\n",
            "563/563 [==============================] - 2s 3ms/step - loss: 5378797056.0000 - root_mean_squared_error: 73340.2812 - val_loss: 5412428288.0000 - val_root_mean_squared_error: 73569.2109\n",
            "Epoch 77/100\n",
            "563/563 [==============================] - 2s 3ms/step - loss: 5356239360.0000 - root_mean_squared_error: 73186.3359 - val_loss: 5442702848.0000 - val_root_mean_squared_error: 73774.6797\n",
            "Epoch 78/100\n",
            "563/563 [==============================] - 2s 3ms/step - loss: 5324345344.0000 - root_mean_squared_error: 72968.1094 - val_loss: 5603153920.0000 - val_root_mean_squared_error: 74854.2188\n",
            "Epoch 79/100\n",
            "563/563 [==============================] - 2s 3ms/step - loss: 5367824384.0000 - root_mean_squared_error: 73265.4375 - val_loss: 6428878336.0000 - val_root_mean_squared_error: 80180.2891\n",
            "Epoch 80/100\n",
            "563/563 [==============================] - 2s 3ms/step - loss: 5387841536.0000 - root_mean_squared_error: 73401.9141 - val_loss: 5325053952.0000 - val_root_mean_squared_error: 72972.9688\n",
            "Epoch 81/100\n",
            "563/563 [==============================] - 2s 3ms/step - loss: 5296691712.0000 - root_mean_squared_error: 72778.3750 - val_loss: 5408710656.0000 - val_root_mean_squared_error: 73543.9375\n",
            "Epoch 82/100\n",
            "563/563 [==============================] - 2s 4ms/step - loss: 5359398912.0000 - root_mean_squared_error: 73207.9141 - val_loss: 5327574528.0000 - val_root_mean_squared_error: 72990.2344\n",
            "Epoch 83/100\n",
            "563/563 [==============================] - 2s 3ms/step - loss: 5329428992.0000 - root_mean_squared_error: 73002.9375 - val_loss: 6044704256.0000 - val_root_mean_squared_error: 77747.6953\n",
            "Epoch 84/100\n",
            "563/563 [==============================] - 2s 3ms/step - loss: 5379012096.0000 - root_mean_squared_error: 73341.7500 - val_loss: 5676358144.0000 - val_root_mean_squared_error: 75341.6094\n",
            "Epoch 85/100\n",
            "563/563 [==============================] - ETA: 0s - loss: 5364162560.0000 - root_mean_squared_error: 73240.4453"
          ]
        },
        {
          "output_type": "stream",
          "name": "stderr",
          "text": [
            "WARNING:absl:Found untraced functions such as _update_step_xla while saving (showing 1 of 1). These functions will not be directly callable after loading.\n"
          ]
        },
        {
          "output_type": "stream",
          "name": "stdout",
          "text": [
            "\b\b\b\b\b\b\b\b\b\b\b\b\b\b\b\b\b\b\b\b\b\b\b\b\b\b\b\b\b\b\b\b\b\b\b\b\b\b\b\b\b\b\b\b\b\b\b\b\b\b\b\b\b\b\b\b\b\b\b\b\b\b\b\b\b\b\b\b\b\b\b\b\b\b\b\b\b\b\b\b\b\b\b\b\b\b\b\b\b\b\b\b\b\b\b\b\b\b\b\b\b\b\b\b\b\b\b\b\b\b\b\b\r563/563 [==============================] - 2s 4ms/step - loss: 5364162560.0000 - root_mean_squared_error: 73240.4453 - val_loss: 5269816832.0000 - val_root_mean_squared_error: 72593.5078\n",
            "Epoch 86/100\n",
            "563/563 [==============================] - 2s 3ms/step - loss: 5313220096.0000 - root_mean_squared_error: 72891.8359 - val_loss: 5425857536.0000 - val_root_mean_squared_error: 73660.4219\n",
            "Epoch 87/100\n",
            "563/563 [==============================] - 2s 3ms/step - loss: 5327744512.0000 - root_mean_squared_error: 72991.3984 - val_loss: 5298559488.0000 - val_root_mean_squared_error: 72791.2031\n",
            "Epoch 88/100\n",
            "563/563 [==============================] - 2s 3ms/step - loss: 5356942848.0000 - root_mean_squared_error: 73191.1406 - val_loss: 5280453632.0000 - val_root_mean_squared_error: 72666.7266\n",
            "Epoch 89/100\n",
            "563/563 [==============================] - 3s 5ms/step - loss: 5302659584.0000 - root_mean_squared_error: 72819.3594 - val_loss: 5347821568.0000 - val_root_mean_squared_error: 73128.8047\n",
            "Epoch 90/100\n",
            "563/563 [==============================] - 2s 3ms/step - loss: 5354830848.0000 - root_mean_squared_error: 73176.7109 - val_loss: 5285732352.0000 - val_root_mean_squared_error: 72703.0391\n",
            "Epoch 91/100\n",
            "563/563 [==============================] - 2s 3ms/step - loss: 5318594048.0000 - root_mean_squared_error: 72928.6953 - val_loss: 5278902272.0000 - val_root_mean_squared_error: 72656.0547\n",
            "Epoch 92/100\n",
            "552/563 [============================>.] - ETA: 0s - loss: 5322009600.0000 - root_mean_squared_error: 72952.1016"
          ]
        },
        {
          "output_type": "stream",
          "name": "stderr",
          "text": [
            "WARNING:absl:Found untraced functions such as _update_step_xla while saving (showing 1 of 1). These functions will not be directly callable after loading.\n"
          ]
        },
        {
          "output_type": "stream",
          "name": "stdout",
          "text": [
            "\b\b\b\b\b\b\b\b\b\b\b\b\b\b\b\b\b\b\b\b\b\b\b\b\b\b\b\b\b\b\b\b\b\b\b\b\b\b\b\b\b\b\b\b\b\b\b\b\b\b\b\b\b\b\b\b\b\b\b\b\b\b\b\b\b\b\b\b\b\b\b\b\b\b\b\b\b\b\b\b\b\b\b\b\b\b\b\b\b\b\b\b\b\b\b\b\b\b\b\b\b\b\b\b\b\b\b\b\b\b\b\b\r563/563 [==============================] - 3s 4ms/step - loss: 5320435712.0000 - root_mean_squared_error: 72941.3203 - val_loss: 5268244992.0000 - val_root_mean_squared_error: 72582.6797\n",
            "Epoch 93/100\n",
            "563/563 [==============================] - 2s 3ms/step - loss: 5307142144.0000 - root_mean_squared_error: 72850.1328 - val_loss: 5347964928.0000 - val_root_mean_squared_error: 73129.7812\n",
            "Epoch 94/100\n",
            "553/563 [============================>.] - ETA: 0s - loss: 5315829760.0000 - root_mean_squared_error: 72909.7344"
          ]
        },
        {
          "output_type": "stream",
          "name": "stderr",
          "text": [
            "WARNING:absl:Found untraced functions such as _update_step_xla while saving (showing 1 of 1). These functions will not be directly callable after loading.\n"
          ]
        },
        {
          "output_type": "stream",
          "name": "stdout",
          "text": [
            "\b\b\b\b\b\b\b\b\b\b\b\b\b\b\b\b\b\b\b\b\b\b\b\b\b\b\b\b\b\b\b\b\b\b\b\b\b\b\b\b\b\b\b\b\b\b\b\b\b\b\b\b\b\b\b\b\b\b\b\b\b\b\b\b\b\b\b\b\b\b\b\b\b\b\b\b\b\b\b\b\b\b\b\b\b\b\b\b\b\b\b\b\b\b\b\b\b\b\b\b\b\b\b\b\b\b\b\b\b\b\b\b\r563/563 [==============================] - 3s 6ms/step - loss: 5309145600.0000 - root_mean_squared_error: 72863.8828 - val_loss: 5252818432.0000 - val_root_mean_squared_error: 72476.3281\n",
            "Epoch 95/100\n",
            "563/563 [==============================] - 3s 4ms/step - loss: 5256147456.0000 - root_mean_squared_error: 72499.2891 - val_loss: 5362050560.0000 - val_root_mean_squared_error: 73226.0234\n",
            "Epoch 96/100\n",
            "563/563 [==============================] - 2s 3ms/step - loss: 5295410176.0000 - root_mean_squared_error: 72769.5703 - val_loss: 5311896576.0000 - val_root_mean_squared_error: 72882.7578\n",
            "Epoch 97/100\n",
            "563/563 [==============================] - 2s 3ms/step - loss: 5326753280.0000 - root_mean_squared_error: 72984.6094 - val_loss: 5544217088.0000 - val_root_mean_squared_error: 74459.5000\n",
            "Epoch 98/100\n",
            "547/563 [============================>.] - ETA: 0s - loss: 5268136448.0000 - root_mean_squared_error: 72581.9297"
          ]
        },
        {
          "output_type": "stream",
          "name": "stderr",
          "text": [
            "WARNING:absl:Found untraced functions such as _update_step_xla while saving (showing 1 of 1). These functions will not be directly callable after loading.\n"
          ]
        },
        {
          "output_type": "stream",
          "name": "stdout",
          "text": [
            "\b\b\b\b\b\b\b\b\b\b\b\b\b\b\b\b\b\b\b\b\b\b\b\b\b\b\b\b\b\b\b\b\b\b\b\b\b\b\b\b\b\b\b\b\b\b\b\b\b\b\b\b\b\b\b\b\b\b\b\b\b\b\b\b\b\b\b\b\b\b\b\b\b\b\b\b\b\b\b\b\b\b\b\b\b\b\b\b\b\b\b\b\b\b\b\b\b\b\b\b\b\b\b\b\b\b\b\b\b\b\b\b\r563/563 [==============================] - 3s 5ms/step - loss: 5261951488.0000 - root_mean_squared_error: 72539.3125 - val_loss: 5249353728.0000 - val_root_mean_squared_error: 72452.4219\n",
            "Epoch 99/100\n",
            "549/563 [============================>.] - ETA: 0s - loss: 5286680064.0000 - root_mean_squared_error: 72709.5625"
          ]
        },
        {
          "output_type": "stream",
          "name": "stderr",
          "text": [
            "WARNING:absl:Found untraced functions such as _update_step_xla while saving (showing 1 of 1). These functions will not be directly callable after loading.\n"
          ]
        },
        {
          "output_type": "stream",
          "name": "stdout",
          "text": [
            "\b\b\b\b\b\b\b\b\b\b\b\b\b\b\b\b\b\b\b\b\b\b\b\b\b\b\b\b\b\b\b\b\b\b\b\b\b\b\b\b\b\b\b\b\b\b\b\b\b\b\b\b\b\b\b\b\b\b\b\b\b\b\b\b\b\b\b\b\b\b\b\b\b\b\b\b\b\b\b\b\b\b\b\b\b\b\b\b\b\b\b\b\b\b\b\b\b\b\b\b\b\b\b\b\b\b\b\b\b\b\b\b\r563/563 [==============================] - 3s 5ms/step - loss: 5306024448.0000 - root_mean_squared_error: 72842.4609 - val_loss: 5233736704.0000 - val_root_mean_squared_error: 72344.5703\n",
            "Epoch 100/100\n",
            "563/563 [==============================] - 2s 4ms/step - loss: 5295306240.0000 - root_mean_squared_error: 72768.8516 - val_loss: 5364759040.0000 - val_root_mean_squared_error: 73244.5156\n"
          ]
        },
        {
          "output_type": "execute_result",
          "data": {
            "text/plain": [
              "<keras.callbacks.History at 0x7f2718f21300>"
            ]
          },
          "metadata": {},
          "execution_count": 30
        }
      ]
    },
    {
      "cell_type": "code",
      "source": [],
      "metadata": {
        "id": "exkgx5A3RFfv"
      },
      "execution_count": null,
      "outputs": []
    },
    {
      "cell_type": "code",
      "source": [
        "large_nn = load_model('models/large_nn')\n",
        "mse(large_nn.predict(X_train), y_train, squared=False), mse(large_nn.predict(X_val), y_val, squared=False)"
      ],
      "metadata": {
        "colab": {
          "base_uri": "https://localhost:8080/"
        },
        "id": "1KTxusMnRY1Y",
        "outputId": "b38740fc-e54c-46d4-c4d0-f07439d3c6be"
      },
      "execution_count": 31,
      "outputs": [
        {
          "output_type": "stream",
          "name": "stdout",
          "text": [
            "563/563 [==============================] - 1s 2ms/step\n",
            "39/39 [==============================] - 0s 2ms/step\n"
          ]
        },
        {
          "output_type": "execute_result",
          "data": {
            "text/plain": [
              "(71521.63107815849, 72344.5754398949)"
            ]
          },
          "metadata": {},
          "execution_count": 31
        }
      ]
    },
    {
      "cell_type": "code",
      "source": [
        "mse(gbr.predict(X_test), y_test, squared=False)"
      ],
      "metadata": {
        "colab": {
          "base_uri": "https://localhost:8080/"
        },
        "id": "CEC91wYERcDX",
        "outputId": "358d69e9-87d4-493a-b91c-755305e685b0"
      },
      "execution_count": 32,
      "outputs": [
        {
          "output_type": "execute_result",
          "data": {
            "text/plain": [
              "49563.05374159835"
            ]
          },
          "metadata": {},
          "execution_count": 32
        }
      ]
    },
    {
      "cell_type": "code",
      "source": [
        "\tprint ({ i+j for i in range (1 , 5) for j in range (1 , 5)}) "
      ],
      "metadata": {
        "colab": {
          "base_uri": "https://localhost:8080/"
        },
        "id": "mXJirnW7zsId",
        "outputId": "62222278-fd2b-4bb5-caab-4e4261222092"
      },
      "execution_count": 1,
      "outputs": [
        {
          "output_type": "stream",
          "name": "stdout",
          "text": [
            "{2, 3, 4, 5, 6, 7, 8}\n"
          ]
        }
      ]
    },
    {
      "cell_type": "code",
      "source": [
        "\tprint ((i,j) for i in range (1 , 5) for j in range (1 , 5)) "
      ],
      "metadata": {
        "colab": {
          "base_uri": "https://localhost:8080/"
        },
        "id": "vIoi23RCzzNH",
        "outputId": "fdfc003f-1162-4f7d-d232-cdd632af168c"
      },
      "execution_count": 12,
      "outputs": [
        {
          "output_type": "stream",
          "name": "stdout",
          "text": [
            "<generator object <genexpr> at 0x7fc36cad1460>\n"
          ]
        }
      ]
    }
  ]
}